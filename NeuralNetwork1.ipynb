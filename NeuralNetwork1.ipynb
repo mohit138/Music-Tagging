{
  "nbformat": 4,
  "nbformat_minor": 0,
  "metadata": {
    "colab": {
      "name": "NeuralNetwork1",
      "provenance": []
    },
    "kernelspec": {
      "name": "python3",
      "display_name": "Python 3"
    },
    "accelerator": "GPU"
  },
  "cells": [
    {
      "cell_type": "code",
      "metadata": {
        "id": "3G5BaoqlWJ3b",
        "colab_type": "code",
        "colab": {}
      },
      "source": [
        "# data analysis for MUSIC data\n",
        "import pandas as pd\n",
        "import numpy as np\n",
        "from sklearn.model_selection import train_test_split\n",
        "import matplotlib.pyplot as plt\n",
        "from numpy import savetxt\n",
        "from pylab import rcParams\n",
        "rcParams['figure.figsize'] = 15, 9\n",
        "\n",
        "# extra added for using inbuilt sigmoid\n",
        "\n",
        "from scipy.special import expit"
      ],
      "execution_count": 0,
      "outputs": []
    },
    {
      "cell_type": "code",
      "metadata": {
        "id": "Eph49IkgWp94",
        "colab_type": "code",
        "colab": {}
      },
      "source": [
        "op_cases = 10\n",
        "train_df = pd.read_csv(\"TrainData.csv\")\n",
        "data_t = train_df.to_numpy()\n",
        "x_train = data_t[:,1:29]\n",
        "y_train = data_t[:,29:39]\n",
        "\n",
        "val_df = pd.read_csv(\"ValData.csv\")\n",
        "data_v = val_df.to_numpy()\n",
        "x_val = data_v[:,1:29]\n",
        "y_val = data_v[:,29:39]\n",
        "\n",
        "test_df = pd.read_csv(\"TestData.csv\")\n",
        "data_te = test_df.to_numpy()\n",
        "x_test = data_te[:,1:29]\n",
        "y_test = data_te[:,29:39]"
      ],
      "execution_count": 0,
      "outputs": []
    },
    {
      "cell_type": "code",
      "metadata": {
        "id": "XTel5N3QX7Yh",
        "colab_type": "code",
        "colab": {
          "base_uri": "https://localhost:8080/",
          "height": 35
        },
        "outputId": "efce9cc8-b0df-4171-9b35-327a12945bb0"
      },
      "source": [
        "print(x_train.shape)"
      ],
      "execution_count": 5,
      "outputs": [
        {
          "output_type": "stream",
          "text": [
            "(600, 28)\n"
          ],
          "name": "stdout"
        }
      ]
    },
    {
      "cell_type": "code",
      "metadata": {
        "id": "YAq0jMo-YWOb",
        "colab_type": "code",
        "colab": {}
      },
      "source": [
        "def sigmoidGrad(z):\n",
        "    return expit(z)*(1-expit(z))"
      ],
      "execution_count": 0,
      "outputs": []
    },
    {
      "cell_type": "code",
      "metadata": {
        "id": "t51H__CTZHRC",
        "colab_type": "code",
        "colab": {}
      },
      "source": [
        "# cost function for 1 hidden layer Neural Network\n",
        "def cost_function_NN1(theta,hlSize,numLabel,X,y,lam=0):\n",
        "    m= X.shape[0]\n",
        "    ipSize = X.shape[1]\n",
        "    J=0\n",
        "\n",
        "    t1 = theta[0:hlSize*(ipSize +1)].reshape(hlSize,ipSize+1)\n",
        "    t2 = theta[hlSize*(ipSize +1) : (hlSize*(ipSize +1)) + (numLabel*(hlSize +1))].reshape(numLabel,hlSize+1)\n",
        "\n",
        "    tGrad1 = np.zeros(t1.shape)\n",
        "    tGrad2 = np.zeros(t2.shape)\n",
        "    #print(X.shape,t1.shape)\n",
        "    # Forward propogation algorithm\n",
        "    z2 = np.append(np.ones((m,1)),X,axis =1).dot(t1.T)\n",
        "    a2 = expit(z2)\n",
        "    z3 = np.append(np.ones((m,1)),a2,axis=1).dot(t2.T)\n",
        "    a3 = expit(z3)\n",
        "    h = a3\n",
        "    J = (-1/m)*np.sum( y*np.log(h + 1e-20) + (1-y)*np.log(1-h + 1e-20)) \n",
        "    #Reg = \n",
        "    \n",
        "    # Back propogation algorithm\n",
        "    D2=np.zeros(t2.shape)\n",
        "    D1=np.zeros(t1.shape)\n",
        "    err3 = h - y\n",
        "    l = t2.shape[1]\n",
        "    err2 = (err3.dot(t2[:,1:l])) * sigmoidGrad(z2) \n",
        "    for i in range(m):\n",
        "        D2 = D2 + (err3[i:i+1,:].T).dot(np.append(np.ones((1,1)),a2[i:i+1,:],axis=1))\n",
        "        D1 = D1 + (err2[i:i+1,:].T).dot(np.append(np.ones((1,1)),X[i:i+1,:],axis=1))\n",
        "    tGrad1 = D1/m\n",
        "    #tGrad1[:,1:tGrad1.shape[1]] = tGrad1[:,1:tGrad1.shape[1]] + lam/m*t1[:,1:t1.shape[1]]\n",
        "    tGrad2 = D2/m\n",
        "    #tGrad2[:,1:tGrad2.shape[1]] = tGrad2[:,1:tGrad2.shape[1]] + lam/m*t2[:,1:t2.shape[1]]\n",
        "\n",
        "    #print(tGrad1, tGrad2)\n",
        "    grad = np.concatenate([tGrad1.flat, tGrad2.flat])\n",
        "    \n",
        "    #print(grad.shape)\n",
        "    return [J,grad,h]"
      ],
      "execution_count": 0,
      "outputs": []
    },
    {
      "cell_type": "code",
      "metadata": {
        "id": "YYLQLN7MZO6B",
        "colab_type": "code",
        "colab": {}
      },
      "source": [
        "# gradient descent algorithm for 1 hidden layer NN\n",
        "def gradient_descent_NN1(X,y,theta,lam,max_itr,alpha,hlSize): # without regularisation !\n",
        "    m=X.shape[0]\n",
        "    J_hist=np.zeros((max_itr,1))\n",
        "    \n",
        "    numLabel = y.shape[1]\n",
        "    for i in range(max_itr):\n",
        "        [J,grad,h]=cost_function_NN1(theta, hlSize, numLabel, X, y, lam)\n",
        "        \n",
        "        theta = theta - (alpha)*(grad) \n",
        "        J_hist[i]=J\n",
        "    return [theta,J_hist]"
      ],
      "execution_count": 0,
      "outputs": []
    },
    {
      "cell_type": "code",
      "metadata": {
        "id": "uT5j5XNIZaww",
        "colab_type": "code",
        "colab": {}
      },
      "source": [
        "# check if gradien found from back propogation is correct\n",
        "def gradient_check_NN1(theta,hlSize,numLabel,X,y):\n",
        "    #m= X.shape[0]\n",
        "    #ipSize = X.shape[1]\n",
        "    appGrad = np.zeros(theta.shape)\n",
        "\n",
        "    #t1 = theta[0:hlSize*(ipSize +1)].reshape(hlSize,ipSize+1)\n",
        "    #t2 = theta[hlSize*(ipSize +1) : (hlSize*(ipSize +1)) + (numLabel*(hlSize +1))+1].reshape(numLabel,hlSize+1)\n",
        "\n",
        "    #tGrad1 = np.zeros(t1.shape)\n",
        "    #tGrad2 = np.zeros(t2.shape)\n",
        "    epsilon =.0001\n",
        "    \n",
        "    for i in range(theta.shape[0]):\n",
        "        posTheta = theta\n",
        "        posTheta[i:i+1] = posTheta[i:i+1] + epsilon\n",
        "        posJ,gr,h = cost_function_NN1(posTheta, hlSize, numLabel, X, y)\n",
        "        negTheta = theta\n",
        "        negTheta[i:i+1] = negTheta[i:i+1] - epsilon\n",
        "        negJ,gr,h = cost_function_NN1(negTheta, hlSize, numLabel, X, y)\n",
        "        appGrad[i:i+1]=((posJ-negJ)/(2*epsilon))\n",
        "        \n",
        "    print(posJ,negJ)\n",
        "    return appGrad"
      ],
      "execution_count": 0,
      "outputs": []
    },
    {
      "cell_type": "code",
      "metadata": {
        "id": "7kxs7piNZkMl",
        "colab_type": "code",
        "colab": {}
      },
      "source": [
        "def prediction(h,y):\n",
        "    \n",
        "    count =0\n",
        "    h_out = np.zeros(h.shape)\n",
        "    \n",
        "    for i in range(h.shape[0]):\n",
        "        if h.shape[1] == 1:\n",
        "            if h[i] >= 0.5:\n",
        "                h_out[i] = 1\n",
        "        else:\n",
        "            h_out[i, np.argmax(h[i,:])] =1\n",
        "    \n",
        "    \n",
        "    for i in range(h.shape[0]):\n",
        "        for j in range(h.shape[1]):\n",
        "            if h_out[i,j]!=y[i,j]:\n",
        "                count = count+1\n",
        "                break\n",
        "    acc = (h.shape[0] - count)/h.shape[0] *100\n",
        "    return [h_out, acc]\n"
      ],
      "execution_count": 0,
      "outputs": []
    },
    {
      "cell_type": "code",
      "metadata": {
        "id": "B8P5swgwZ23t",
        "colab_type": "code",
        "colab": {}
      },
      "source": [
        "ipSize = x_train.shape[1]\n",
        "hlSize = 100 #1* x_train.shape[1]\n",
        "numLabel = y_train.shape[1]\n",
        "E0= 0.01\n",
        "itheta1 = np.random.randint(1,10,(hlSize,ipSize+1))\n",
        "itheta1 = itheta1*2*E0 - E0\n",
        "itheta2 = np.random.randint(1,10,(numLabel,hlSize+1))\n",
        "itheta2 = itheta2*2*E0 - E0\n",
        "initial_theta = np.concatenate([itheta1.flat, itheta2.flat])"
      ],
      "execution_count": 0,
      "outputs": []
    },
    {
      "cell_type": "code",
      "metadata": {
        "id": "5lHKmVDiafDL",
        "colab_type": "code",
        "colab": {}
      },
      "source": [
        "lam =0\n",
        "alpha =.001\n",
        "max_itr = 1000\n"
      ],
      "execution_count": 0,
      "outputs": []
    },
    {
      "cell_type": "code",
      "metadata": {
        "id": "-4v_-dThahdA",
        "colab_type": "code",
        "colab": {}
      },
      "source": [
        "\n",
        "J,grad,h = cost_function_NN1(initial_theta, hlSize, numLabel, x_train, y_train)\n",
        "appGrad = gradient_check_NN1(initial_theta, hlSize, numLabel, x_train, y_train)\n",
        "for i in range(grad.shape[0]):\n",
        "    print(\"{}   {}      {}\".format(grad[i],appGrad[i],i))"
      ],
      "execution_count": 0,
      "outputs": []
    },
    {
      "cell_type": "code",
      "metadata": {
        "id": "GXu3rlgNfVPZ",
        "colab_type": "code",
        "colab": {
          "base_uri": "https://localhost:8080/",
          "height": 1000
        },
        "outputId": "ddcd23ea-3308-4787-a187-523f1054aab3"
      },
      "source": [
        "theta,J_hist = gradient_descent_NN(x_train, y_train, initial_theta, lam, max_itr, alpha, hlSize)\n",
        "i=np.arange(1,1001,1) \n",
        "plt.plot(i,J_hist)\n",
        "plt.show()  \n",
        "\n",
        "#learning_curve(hlSize,numLabel,x_train, x_val, y_train, y_val, theta, lam)\n",
        "\n",
        "[J,grad,h_train]=cost_function_NN1(theta, hlSize, numLabel, x_train, y_train)\n",
        "h_train,acc=prediction(h_train,y_train)\n",
        "print(\"\\naccuracy (train):  \",acc)\n",
        "\n",
        "[J,grad,h_test]=cost_function_NN1(theta, hlSize, numLabel, x_test, y_test)\n",
        "h_test,acc=prediction(h_test,y_test)\n",
        "print(\"\\naccuracy:  \",acc)    \n",
        "for i in range(y_test.shape[0]):\n",
        "    print( \"{}      {} \" .format(h_test[i] , y_test[i]))"
      ],
      "execution_count": 79,
      "outputs": [
        {
          "output_type": "display_data",
          "data": {
            "image/png": "[encoded data removed]",
            "text/plain": [
              "<Figure size 1080x648 with 1 Axes>"
            ]
          },
          "metadata": {
            "tags": [],
            "needs_background": "light"
          }
        },
        {
          "output_type": "stream",
          "text": [
            "\n",
            "accuracy (train):   11.0\n",
            "\n",
            "accuracy:   7.000000000000001\n",
            "[0. 0. 0. 0. 0. 1. 0. 0. 0. 0.]      [0. 0. 1. 0. 0. 0. 0. 0. 0. 0.] \n",
            "[0. 0. 0. 0. 0. 1. 0. 0. 0. 0.]      [0. 0. 0. 0. 0. 0. 0. 0. 1. 0.] \n",
            "[0. 0. 0. 0. 0. 1. 0. 0. 0. 0.]      [0. 0. 0. 0. 0. 0. 0. 0. 1. 0.] \n",
            "[0. 0. 0. 0. 0. 1. 0. 0. 0. 0.]      [0. 0. 1. 0. 0. 0. 0. 0. 0. 0.] \n",
            "[0. 0. 0. 0. 0. 1. 0. 0. 0. 0.]      [0. 0. 0. 0. 0. 0. 1. 0. 0. 0.] \n",
            "[0. 0. 0. 0. 0. 1. 0. 0. 0. 0.]      [0. 0. 0. 1. 0. 0. 0. 0. 0. 0.] \n",
            "[0. 0. 0. 0. 0. 1. 0. 0. 0. 0.]      [0. 0. 0. 0. 0. 0. 0. 0. 0. 1.] \n",
            "[0. 0. 0. 0. 0. 1. 0. 0. 0. 0.]      [0. 1. 0. 0. 0. 0. 0. 0. 0. 0.] \n",
            "[0. 0. 0. 0. 0. 1. 0. 0. 0. 0.]      [0. 1. 0. 0. 0. 0. 0. 0. 0. 0.] \n",
            "[0. 0. 0. 0. 0. 1. 0. 0. 0. 0.]      [0. 0. 0. 0. 0. 0. 0. 0. 0. 1.] \n",
            "[0. 0. 0. 0. 0. 1. 0. 0. 0. 0.]      [0. 0. 0. 0. 0. 0. 0. 0. 0. 1.] \n",
            "[0. 0. 0. 0. 0. 1. 0. 0. 0. 0.]      [0. 0. 1. 0. 0. 0. 0. 0. 0. 0.] \n",
            "[0. 0. 0. 0. 0. 1. 0. 0. 0. 0.]      [0. 0. 0. 0. 1. 0. 0. 0. 0. 0.] \n",
            "[0. 0. 0. 0. 0. 1. 0. 0. 0. 0.]      [0. 0. 0. 0. 0. 1. 0. 0. 0. 0.] \n",
            "[0. 0. 0. 0. 0. 1. 0. 0. 0. 0.]      [0. 0. 0. 0. 0. 0. 0. 0. 1. 0.] \n",
            "[0. 0. 0. 0. 0. 1. 0. 0. 0. 0.]      [0. 0. 0. 0. 0. 0. 0. 1. 0. 0.] \n",
            "[0. 0. 0. 0. 0. 1. 0. 0. 0. 0.]      [0. 0. 0. 0. 0. 0. 0. 1. 0. 0.] \n",
            "[0. 0. 0. 0. 0. 1. 0. 0. 0. 0.]      [0. 0. 0. 0. 1. 0. 0. 0. 0. 0.] \n",
            "[0. 0. 0. 0. 0. 1. 0. 0. 0. 0.]      [0. 0. 0. 0. 0. 0. 0. 0. 0. 1.] \n",
            "[0. 0. 0. 0. 0. 1. 0. 0. 0. 0.]      [0. 0. 0. 0. 0. 0. 0. 0. 1. 0.] \n",
            "[0. 0. 0. 0. 0. 1. 0. 0. 0. 0.]      [0. 0. 0. 0. 0. 0. 0. 1. 0. 0.] \n",
            "[0. 0. 0. 0. 0. 1. 0. 0. 0. 0.]      [0. 0. 0. 1. 0. 0. 0. 0. 0. 0.] \n",
            "[0. 0. 0. 0. 0. 1. 0. 0. 0. 0.]      [1. 0. 0. 0. 0. 0. 0. 0. 0. 0.] \n",
            "[0. 0. 0. 0. 0. 1. 0. 0. 0. 0.]      [0. 0. 0. 0. 0. 0. 0. 1. 0. 0.] \n",
            "[0. 0. 0. 0. 0. 1. 0. 0. 0. 0.]      [0. 0. 0. 0. 0. 0. 1. 0. 0. 0.] \n",
            "[0. 0. 0. 0. 0. 1. 0. 0. 0. 0.]      [0. 0. 0. 0. 0. 0. 0. 1. 0. 0.] \n",
            "[0. 0. 0. 0. 0. 1. 0. 0. 0. 0.]      [0. 0. 0. 0. 0. 0. 0. 1. 0. 0.] \n",
            "[0. 0. 0. 0. 0. 1. 0. 0. 0. 0.]      [0. 0. 0. 0. 0. 0. 1. 0. 0. 0.] \n",
            "[0. 0. 0. 0. 0. 1. 0. 0. 0. 0.]      [0. 0. 0. 0. 0. 0. 0. 0. 0. 1.] \n",
            "[0. 0. 0. 0. 0. 1. 0. 0. 0. 0.]      [0. 0. 0. 0. 0. 0. 0. 0. 0. 1.] \n",
            "[0. 0. 0. 0. 0. 1. 0. 0. 0. 0.]      [1. 0. 0. 0. 0. 0. 0. 0. 0. 0.] \n",
            "[0. 0. 0. 0. 0. 1. 0. 0. 0. 0.]      [0. 0. 0. 0. 0. 0. 1. 0. 0. 0.] \n",
            "[0. 0. 0. 0. 0. 1. 0. 0. 0. 0.]      [0. 0. 0. 0. 0. 0. 1. 0. 0. 0.] \n",
            "[0. 0. 0. 0. 0. 1. 0. 0. 0. 0.]      [1. 0. 0. 0. 0. 0. 0. 0. 0. 0.] \n",
            "[0. 0. 0. 0. 0. 1. 0. 0. 0. 0.]      [0. 0. 0. 0. 0. 0. 0. 1. 0. 0.] \n",
            "[0. 0. 0. 0. 0. 1. 0. 0. 0. 0.]      [0. 0. 0. 0. 0. 0. 0. 0. 1. 0.] \n",
            "[0. 0. 0. 0. 0. 1. 0. 0. 0. 0.]      [0. 0. 0. 0. 0. 0. 0. 1. 0. 0.] \n",
            "[0. 0. 0. 0. 0. 1. 0. 0. 0. 0.]      [0. 0. 0. 0. 0. 1. 0. 0. 0. 0.] \n",
            "[0. 0. 0. 0. 0. 1. 0. 0. 0. 0.]      [0. 0. 0. 0. 1. 0. 0. 0. 0. 0.] \n",
            "[0. 0. 0. 0. 0. 1. 0. 0. 0. 0.]      [0. 0. 0. 0. 0. 0. 0. 0. 1. 0.] \n",
            "[0. 0. 0. 0. 0. 1. 0. 0. 0. 0.]      [0. 0. 0. 0. 1. 0. 0. 0. 0. 0.] \n",
            "[0. 0. 0. 0. 0. 1. 0. 0. 0. 0.]      [1. 0. 0. 0. 0. 0. 0. 0. 0. 0.] \n",
            "[0. 0. 0. 0. 0. 1. 0. 0. 0. 0.]      [0. 1. 0. 0. 0. 0. 0. 0. 0. 0.] \n",
            "[0. 0. 0. 0. 0. 1. 0. 0. 0. 0.]      [0. 0. 0. 0. 0. 0. 0. 1. 0. 0.] \n",
            "[0. 0. 0. 0. 0. 1. 0. 0. 0. 0.]      [0. 0. 1. 0. 0. 0. 0. 0. 0. 0.] \n",
            "[0. 0. 0. 0. 0. 1. 0. 0. 0. 0.]      [0. 0. 0. 0. 1. 0. 0. 0. 0. 0.] \n",
            "[0. 0. 0. 0. 0. 1. 0. 0. 0. 0.]      [0. 1. 0. 0. 0. 0. 0. 0. 0. 0.] \n",
            "[0. 0. 0. 0. 0. 1. 0. 0. 0. 0.]      [0. 0. 0. 0. 0. 0. 0. 0. 1. 0.] \n",
            "[0. 0. 0. 0. 0. 1. 0. 0. 0. 0.]      [1. 0. 0. 0. 0. 0. 0. 0. 0. 0.] \n",
            "[0. 0. 0. 0. 0. 1. 0. 0. 0. 0.]      [0. 0. 1. 0. 0. 0. 0. 0. 0. 0.] \n",
            "[0. 0. 0. 0. 0. 1. 0. 0. 0. 0.]      [0. 0. 0. 0. 0. 0. 0. 1. 0. 0.] \n",
            "[0. 0. 0. 0. 0. 1. 0. 0. 0. 0.]      [0. 0. 0. 0. 0. 0. 1. 0. 0. 0.] \n",
            "[0. 0. 0. 0. 0. 1. 0. 0. 0. 0.]      [0. 0. 0. 0. 0. 0. 1. 0. 0. 0.] \n",
            "[0. 0. 0. 0. 0. 1. 0. 0. 0. 0.]      [0. 0. 0. 0. 0. 0. 0. 1. 0. 0.] \n",
            "[0. 0. 0. 0. 0. 1. 0. 0. 0. 0.]      [0. 0. 0. 0. 0. 0. 0. 0. 1. 0.] \n",
            "[0. 0. 0. 0. 0. 1. 0. 0. 0. 0.]      [0. 0. 0. 0. 0. 0. 1. 0. 0. 0.] \n",
            "[0. 0. 0. 0. 0. 1. 0. 0. 0. 0.]      [0. 0. 0. 1. 0. 0. 0. 0. 0. 0.] \n",
            "[0. 0. 0. 0. 0. 1. 0. 0. 0. 0.]      [1. 0. 0. 0. 0. 0. 0. 0. 0. 0.] \n",
            "[0. 0. 0. 0. 0. 1. 0. 0. 0. 0.]      [0. 0. 0. 1. 0. 0. 0. 0. 0. 0.] \n",
            "[0. 0. 0. 0. 0. 1. 0. 0. 0. 0.]      [0. 0. 0. 1. 0. 0. 0. 0. 0. 0.] \n",
            "[0. 0. 0. 0. 0. 1. 0. 0. 0. 0.]      [0. 1. 0. 0. 0. 0. 0. 0. 0. 0.] \n",
            "[0. 0. 0. 0. 0. 1. 0. 0. 0. 0.]      [0. 0. 1. 0. 0. 0. 0. 0. 0. 0.] \n",
            "[0. 0. 0. 0. 0. 1. 0. 0. 0. 0.]      [0. 0. 0. 1. 0. 0. 0. 0. 0. 0.] \n",
            "[0. 0. 0. 0. 0. 1. 0. 0. 0. 0.]      [0. 0. 1. 0. 0. 0. 0. 0. 0. 0.] \n",
            "[0. 0. 0. 0. 0. 1. 0. 0. 0. 0.]      [0. 0. 0. 0. 0. 0. 0. 0. 1. 0.] \n",
            "[0. 0. 0. 0. 0. 1. 0. 0. 0. 0.]      [0. 0. 0. 0. 0. 0. 0. 0. 1. 0.] \n",
            "[0. 0. 0. 0. 0. 1. 0. 0. 0. 0.]      [0. 0. 0. 0. 1. 0. 0. 0. 0. 0.] \n",
            "[0. 0. 0. 0. 0. 1. 0. 0. 0. 0.]      [1. 0. 0. 0. 0. 0. 0. 0. 0. 0.] \n",
            "[0. 0. 0. 0. 0. 1. 0. 0. 0. 0.]      [0. 1. 0. 0. 0. 0. 0. 0. 0. 0.] \n",
            "[0. 0. 0. 0. 0. 1. 0. 0. 0. 0.]      [0. 0. 0. 0. 1. 0. 0. 0. 0. 0.] \n",
            "[0. 0. 0. 0. 0. 1. 0. 0. 0. 0.]      [0. 1. 0. 0. 0. 0. 0. 0. 0. 0.] \n",
            "[0. 0. 0. 0. 0. 1. 0. 0. 0. 0.]      [0. 0. 0. 0. 1. 0. 0. 0. 0. 0.] \n",
            "[0. 0. 0. 0. 0. 1. 0. 0. 0. 0.]      [0. 0. 0. 1. 0. 0. 0. 0. 0. 0.] \n",
            "[0. 0. 0. 0. 0. 1. 0. 0. 0. 0.]      [0. 0. 0. 0. 0. 0. 1. 0. 0. 0.] \n",
            "[0. 0. 0. 0. 0. 1. 0. 0. 0. 0.]      [0. 0. 0. 0. 0. 0. 0. 0. 0. 1.] \n",
            "[0. 0. 0. 0. 0. 1. 0. 0. 0. 0.]      [0. 0. 0. 0. 0. 0. 0. 0. 1. 0.] \n",
            "[0. 0. 0. 0. 0. 1. 0. 0. 0. 0.]      [0. 0. 0. 0. 0. 0. 0. 0. 0. 1.] \n",
            "[0. 0. 0. 0. 0. 1. 0. 0. 0. 0.]      [0. 0. 0. 0. 1. 0. 0. 0. 0. 0.] \n",
            "[0. 0. 0. 0. 0. 1. 0. 0. 0. 0.]      [0. 0. 0. 1. 0. 0. 0. 0. 0. 0.] \n",
            "[0. 0. 0. 0. 0. 1. 0. 0. 0. 0.]      [0. 0. 0. 0. 0. 1. 0. 0. 0. 0.] \n",
            "[0. 0. 0. 0. 0. 1. 0. 0. 0. 0.]      [1. 0. 0. 0. 0. 0. 0. 0. 0. 0.] \n",
            "[0. 0. 0. 0. 0. 1. 0. 0. 0. 0.]      [0. 0. 0. 1. 0. 0. 0. 0. 0. 0.] \n",
            "[0. 0. 0. 0. 0. 1. 0. 0. 0. 0.]      [0. 0. 0. 0. 0. 0. 0. 0. 1. 0.] \n",
            "[0. 0. 0. 0. 0. 1. 0. 0. 0. 0.]      [0. 0. 0. 1. 0. 0. 0. 0. 0. 0.] \n",
            "[0. 0. 0. 0. 0. 1. 0. 0. 0. 0.]      [1. 0. 0. 0. 0. 0. 0. 0. 0. 0.] \n",
            "[0. 0. 0. 0. 0. 1. 0. 0. 0. 0.]      [0. 0. 0. 0. 1. 0. 0. 0. 0. 0.] \n",
            "[0. 0. 0. 0. 0. 1. 0. 0. 0. 0.]      [0. 0. 0. 0. 0. 0. 0. 0. 1. 0.] \n",
            "[0. 0. 0. 0. 0. 1. 0. 0. 0. 0.]      [0. 0. 0. 0. 1. 0. 0. 0. 0. 0.] \n",
            "[0. 0. 0. 0. 0. 1. 0. 0. 0. 0.]      [0. 0. 0. 0. 0. 0. 0. 0. 1. 0.] \n",
            "[0. 0. 0. 0. 0. 1. 0. 0. 0. 0.]      [0. 0. 0. 0. 0. 0. 0. 1. 0. 0.] \n",
            "[0. 0. 0. 0. 0. 1. 0. 0. 0. 0.]      [0. 0. 1. 0. 0. 0. 0. 0. 0. 0.] \n",
            "[0. 0. 0. 0. 0. 1. 0. 0. 0. 0.]      [0. 0. 0. 0. 0. 0. 0. 1. 0. 0.] \n",
            "[0. 0. 0. 0. 0. 1. 0. 0. 0. 0.]      [0. 0. 0. 0. 0. 0. 0. 1. 0. 0.] \n",
            "[0. 0. 0. 0. 0. 1. 0. 0. 0. 0.]      [0. 1. 0. 0. 0. 0. 0. 0. 0. 0.] \n",
            "[0. 0. 0. 0. 0. 1. 0. 0. 0. 0.]      [0. 0. 0. 1. 0. 0. 0. 0. 0. 0.] \n",
            "[0. 0. 0. 0. 0. 1. 0. 0. 0. 0.]      [0. 1. 0. 0. 0. 0. 0. 0. 0. 0.] \n",
            "[0. 0. 0. 0. 0. 1. 0. 0. 0. 0.]      [0. 0. 0. 0. 1. 0. 0. 0. 0. 0.] \n",
            "[0. 0. 0. 0. 0. 1. 0. 0. 0. 0.]      [1. 0. 0. 0. 0. 0. 0. 0. 0. 0.] \n",
            "[0. 0. 0. 0. 0. 1. 0. 0. 0. 0.]      [0. 0. 0. 0. 1. 0. 0. 0. 0. 0.] \n",
            "[0. 0. 0. 0. 0. 1. 0. 0. 0. 0.]      [0. 0. 0. 0. 0. 0. 0. 0. 0. 1.] \n",
            "[0. 0. 0. 0. 0. 1. 0. 0. 0. 0.]      [0. 0. 0. 0. 0. 0. 0. 0. 1. 0.] \n",
            "[0. 0. 0. 0. 0. 1. 0. 0. 0. 0.]      [0. 0. 0. 0. 0. 0. 0. 0. 1. 0.] \n",
            "[0. 0. 0. 0. 0. 1. 0. 0. 0. 0.]      [0. 0. 0. 0. 0. 0. 0. 0. 0. 1.] \n",
            "[0. 0. 0. 0. 0. 1. 0. 0. 0. 0.]      [0. 0. 0. 0. 0. 1. 0. 0. 0. 0.] \n",
            "[0. 0. 0. 0. 0. 1. 0. 0. 0. 0.]      [0. 0. 0. 0. 1. 0. 0. 0. 0. 0.] \n",
            "[0. 0. 0. 0. 0. 1. 0. 0. 0. 0.]      [1. 0. 0. 0. 0. 0. 0. 0. 0. 0.] \n",
            "[0. 0. 0. 0. 0. 1. 0. 0. 0. 0.]      [0. 0. 0. 0. 0. 0. 0. 1. 0. 0.] \n",
            "[0. 0. 0. 0. 0. 1. 0. 0. 0. 0.]      [0. 0. 0. 0. 0. 1. 0. 0. 0. 0.] \n",
            "[0. 0. 0. 0. 0. 1. 0. 0. 0. 0.]      [0. 0. 0. 1. 0. 0. 0. 0. 0. 0.] \n",
            "[0. 0. 0. 0. 0. 1. 0. 0. 0. 0.]      [0. 0. 0. 1. 0. 0. 0. 0. 0. 0.] \n",
            "[0. 0. 0. 0. 0. 1. 0. 0. 0. 0.]      [0. 0. 0. 0. 1. 0. 0. 0. 0. 0.] \n",
            "[0. 0. 0. 0. 0. 1. 0. 0. 0. 0.]      [0. 0. 0. 0. 0. 1. 0. 0. 0. 0.] \n",
            "[0. 0. 0. 0. 0. 1. 0. 0. 0. 0.]      [0. 0. 0. 0. 0. 1. 0. 0. 0. 0.] \n",
            "[0. 0. 0. 0. 0. 1. 0. 0. 0. 0.]      [0. 0. 0. 1. 0. 0. 0. 0. 0. 0.] \n",
            "[0. 0. 0. 0. 0. 1. 0. 0. 0. 0.]      [0. 0. 0. 0. 0. 0. 1. 0. 0. 0.] \n",
            "[0. 0. 0. 0. 0. 1. 0. 0. 0. 0.]      [0. 0. 0. 0. 0. 0. 0. 0. 0. 1.] \n",
            "[0. 0. 0. 0. 0. 1. 0. 0. 0. 0.]      [1. 0. 0. 0. 0. 0. 0. 0. 0. 0.] \n",
            "[0. 0. 0. 0. 0. 1. 0. 0. 0. 0.]      [0. 0. 1. 0. 0. 0. 0. 0. 0. 0.] \n",
            "[0. 0. 0. 0. 0. 1. 0. 0. 0. 0.]      [0. 1. 0. 0. 0. 0. 0. 0. 0. 0.] \n",
            "[0. 0. 0. 0. 0. 1. 0. 0. 0. 0.]      [0. 1. 0. 0. 0. 0. 0. 0. 0. 0.] \n",
            "[0. 0. 0. 0. 0. 1. 0. 0. 0. 0.]      [0. 0. 0. 0. 0. 0. 0. 1. 0. 0.] \n",
            "[0. 0. 0. 0. 0. 1. 0. 0. 0. 0.]      [0. 0. 1. 0. 0. 0. 0. 0. 0. 0.] \n",
            "[0. 0. 0. 0. 0. 1. 0. 0. 0. 0.]      [0. 0. 0. 0. 0. 0. 1. 0. 0. 0.] \n",
            "[0. 0. 0. 0. 0. 1. 0. 0. 0. 0.]      [0. 0. 0. 1. 0. 0. 0. 0. 0. 0.] \n",
            "[0. 0. 0. 0. 0. 1. 0. 0. 0. 0.]      [0. 0. 0. 0. 0. 0. 0. 0. 1. 0.] \n",
            "[0. 0. 0. 0. 0. 1. 0. 0. 0. 0.]      [0. 1. 0. 0. 0. 0. 0. 0. 0. 0.] \n",
            "[0. 0. 0. 0. 0. 1. 0. 0. 0. 0.]      [0. 1. 0. 0. 0. 0. 0. 0. 0. 0.] \n",
            "[0. 0. 0. 0. 0. 1. 0. 0. 0. 0.]      [0. 0. 0. 0. 0. 0. 0. 1. 0. 0.] \n",
            "[0. 0. 0. 0. 0. 1. 0. 0. 0. 0.]      [0. 0. 0. 0. 0. 0. 0. 1. 0. 0.] \n",
            "[0. 0. 0. 0. 0. 1. 0. 0. 0. 0.]      [0. 0. 0. 0. 1. 0. 0. 0. 0. 0.] \n",
            "[0. 0. 0. 0. 0. 1. 0. 0. 0. 0.]      [0. 0. 0. 0. 0. 1. 0. 0. 0. 0.] \n",
            "[0. 0. 0. 0. 0. 1. 0. 0. 0. 0.]      [0. 0. 1. 0. 0. 0. 0. 0. 0. 0.] \n",
            "[0. 0. 0. 0. 0. 1. 0. 0. 0. 0.]      [0. 0. 0. 0. 0. 0. 0. 0. 1. 0.] \n",
            "[0. 0. 0. 0. 0. 1. 0. 0. 0. 0.]      [0. 0. 0. 0. 0. 0. 1. 0. 0. 0.] \n",
            "[0. 0. 0. 0. 0. 1. 0. 0. 0. 0.]      [0. 1. 0. 0. 0. 0. 0. 0. 0. 0.] \n",
            "[0. 0. 0. 0. 0. 1. 0. 0. 0. 0.]      [0. 0. 0. 0. 0. 0. 0. 0. 1. 0.] \n",
            "[0. 0. 0. 0. 0. 1. 0. 0. 0. 0.]      [0. 0. 0. 0. 1. 0. 0. 0. 0. 0.] \n",
            "[0. 0. 0. 0. 0. 1. 0. 0. 0. 0.]      [0. 1. 0. 0. 0. 0. 0. 0. 0. 0.] \n",
            "[0. 0. 0. 0. 0. 1. 0. 0. 0. 0.]      [1. 0. 0. 0. 0. 0. 0. 0. 0. 0.] \n",
            "[0. 0. 0. 0. 0. 1. 0. 0. 0. 0.]      [0. 0. 0. 0. 0. 0. 1. 0. 0. 0.] \n",
            "[0. 0. 0. 0. 0. 1. 0. 0. 0. 0.]      [0. 0. 0. 0. 0. 0. 0. 0. 1. 0.] \n",
            "[0. 0. 0. 0. 0. 1. 0. 0. 0. 0.]      [0. 0. 0. 1. 0. 0. 0. 0. 0. 0.] \n",
            "[0. 0. 0. 0. 0. 1. 0. 0. 0. 0.]      [0. 0. 1. 0. 0. 0. 0. 0. 0. 0.] \n",
            "[0. 0. 0. 0. 0. 1. 0. 0. 0. 0.]      [0. 0. 0. 1. 0. 0. 0. 0. 0. 0.] \n",
            "[0. 0. 0. 0. 0. 1. 0. 0. 0. 0.]      [0. 0. 0. 0. 1. 0. 0. 0. 0. 0.] \n",
            "[0. 0. 0. 0. 0. 1. 0. 0. 0. 0.]      [0. 0. 0. 0. 0. 1. 0. 0. 0. 0.] \n",
            "[0. 0. 0. 0. 0. 1. 0. 0. 0. 0.]      [0. 0. 1. 0. 0. 0. 0. 0. 0. 0.] \n",
            "[0. 0. 0. 0. 0. 1. 0. 0. 0. 0.]      [1. 0. 0. 0. 0. 0. 0. 0. 0. 0.] \n",
            "[0. 0. 0. 0. 0. 1. 0. 0. 0. 0.]      [0. 0. 0. 0. 0. 0. 0. 0. 0. 1.] \n",
            "[0. 0. 0. 0. 0. 1. 0. 0. 0. 0.]      [0. 0. 0. 0. 0. 1. 0. 0. 0. 0.] \n",
            "[0. 0. 0. 0. 0. 1. 0. 0. 0. 0.]      [0. 0. 0. 0. 0. 0. 0. 1. 0. 0.] \n",
            "[0. 0. 0. 0. 0. 1. 0. 0. 0. 0.]      [0. 1. 0. 0. 0. 0. 0. 0. 0. 0.] \n",
            "[0. 0. 0. 0. 0. 1. 0. 0. 0. 0.]      [1. 0. 0. 0. 0. 0. 0. 0. 0. 0.] \n",
            "[0. 0. 0. 0. 0. 1. 0. 0. 0. 0.]      [0. 0. 0. 0. 0. 1. 0. 0. 0. 0.] \n",
            "[0. 0. 0. 0. 0. 1. 0. 0. 0. 0.]      [0. 0. 0. 0. 0. 1. 0. 0. 0. 0.] \n",
            "[0. 0. 0. 0. 0. 1. 0. 0. 0. 0.]      [1. 0. 0. 0. 0. 0. 0. 0. 0. 0.] \n",
            "[0. 0. 0. 0. 0. 1. 0. 0. 0. 0.]      [0. 0. 0. 0. 0. 0. 0. 1. 0. 0.] \n",
            "[0. 0. 0. 0. 0. 1. 0. 0. 0. 0.]      [1. 0. 0. 0. 0. 0. 0. 0. 0. 0.] \n",
            "[0. 0. 0. 0. 0. 1. 0. 0. 0. 0.]      [0. 0. 0. 0. 1. 0. 0. 0. 0. 0.] \n",
            "[0. 0. 0. 0. 0. 1. 0. 0. 0. 0.]      [0. 0. 1. 0. 0. 0. 0. 0. 0. 0.] \n",
            "[0. 0. 0. 0. 0. 1. 0. 0. 0. 0.]      [0. 0. 0. 0. 0. 0. 0. 1. 0. 0.] \n",
            "[0. 0. 0. 0. 0. 1. 0. 0. 0. 0.]      [0. 0. 0. 1. 0. 0. 0. 0. 0. 0.] \n",
            "[0. 0. 0. 0. 0. 1. 0. 0. 0. 0.]      [0. 0. 0. 0. 0. 0. 0. 0. 1. 0.] \n",
            "[0. 0. 0. 0. 0. 1. 0. 0. 0. 0.]      [0. 0. 1. 0. 0. 0. 0. 0. 0. 0.] \n",
            "[0. 0. 0. 0. 0. 1. 0. 0. 0. 0.]      [0. 0. 0. 0. 0. 0. 0. 0. 1. 0.] \n",
            "[0. 0. 0. 0. 0. 1. 0. 0. 0. 0.]      [1. 0. 0. 0. 0. 0. 0. 0. 0. 0.] \n",
            "[0. 0. 0. 0. 0. 1. 0. 0. 0. 0.]      [1. 0. 0. 0. 0. 0. 0. 0. 0. 0.] \n",
            "[0. 0. 0. 0. 0. 1. 0. 0. 0. 0.]      [0. 0. 0. 1. 0. 0. 0. 0. 0. 0.] \n",
            "[0. 0. 0. 0. 0. 1. 0. 0. 0. 0.]      [0. 0. 0. 0. 0. 0. 1. 0. 0. 0.] \n",
            "[0. 0. 0. 0. 0. 1. 0. 0. 0. 0.]      [0. 0. 1. 0. 0. 0. 0. 0. 0. 0.] \n",
            "[0. 0. 0. 0. 0. 1. 0. 0. 0. 0.]      [1. 0. 0. 0. 0. 0. 0. 0. 0. 0.] \n",
            "[0. 0. 0. 0. 0. 1. 0. 0. 0. 0.]      [1. 0. 0. 0. 0. 0. 0. 0. 0. 0.] \n",
            "[0. 0. 0. 0. 0. 1. 0. 0. 0. 0.]      [0. 0. 0. 0. 1. 0. 0. 0. 0. 0.] \n",
            "[0. 0. 0. 0. 0. 1. 0. 0. 0. 0.]      [0. 0. 1. 0. 0. 0. 0. 0. 0. 0.] \n",
            "[0. 0. 0. 0. 0. 1. 0. 0. 0. 0.]      [0. 0. 0. 1. 0. 0. 0. 0. 0. 0.] \n",
            "[0. 0. 0. 0. 0. 1. 0. 0. 0. 0.]      [0. 0. 0. 0. 1. 0. 0. 0. 0. 0.] \n",
            "[0. 0. 0. 0. 0. 1. 0. 0. 0. 0.]      [0. 0. 0. 0. 0. 0. 0. 0. 0. 1.] \n",
            "[0. 0. 0. 0. 0. 1. 0. 0. 0. 0.]      [0. 1. 0. 0. 0. 0. 0. 0. 0. 0.] \n",
            "[0. 0. 0. 0. 0. 1. 0. 0. 0. 0.]      [1. 0. 0. 0. 0. 0. 0. 0. 0. 0.] \n",
            "[0. 0. 0. 0. 0. 1. 0. 0. 0. 0.]      [0. 0. 0. 0. 0. 0. 0. 0. 0. 1.] \n",
            "[0. 0. 0. 0. 0. 1. 0. 0. 0. 0.]      [0. 0. 0. 0. 0. 0. 1. 0. 0. 0.] \n",
            "[0. 0. 0. 0. 0. 1. 0. 0. 0. 0.]      [0. 0. 0. 0. 1. 0. 0. 0. 0. 0.] \n",
            "[0. 0. 0. 0. 0. 1. 0. 0. 0. 0.]      [0. 0. 0. 1. 0. 0. 0. 0. 0. 0.] \n",
            "[0. 0. 0. 0. 0. 1. 0. 0. 0. 0.]      [0. 0. 0. 1. 0. 0. 0. 0. 0. 0.] \n",
            "[0. 0. 0. 0. 0. 1. 0. 0. 0. 0.]      [0. 0. 0. 0. 0. 1. 0. 0. 0. 0.] \n",
            "[0. 0. 0. 0. 0. 1. 0. 0. 0. 0.]      [0. 0. 0. 0. 0. 0. 0. 0. 1. 0.] \n",
            "[0. 0. 0. 0. 0. 1. 0. 0. 0. 0.]      [0. 0. 0. 0. 0. 0. 0. 1. 0. 0.] \n",
            "[0. 0. 0. 0. 0. 1. 0. 0. 0. 0.]      [0. 0. 0. 0. 0. 0. 1. 0. 0. 0.] \n",
            "[0. 0. 0. 0. 0. 1. 0. 0. 0. 0.]      [0. 0. 0. 1. 0. 0. 0. 0. 0. 0.] \n",
            "[0. 0. 0. 0. 0. 1. 0. 0. 0. 0.]      [0. 0. 0. 0. 0. 0. 1. 0. 0. 0.] \n",
            "[0. 0. 0. 0. 0. 1. 0. 0. 0. 0.]      [1. 0. 0. 0. 0. 0. 0. 0. 0. 0.] \n",
            "[0. 0. 0. 0. 0. 1. 0. 0. 0. 0.]      [0. 0. 0. 0. 0. 0. 0. 0. 0. 1.] \n",
            "[0. 0. 0. 0. 0. 1. 0. 0. 0. 0.]      [0. 0. 0. 0. 0. 0. 1. 0. 0. 0.] \n",
            "[0. 0. 0. 0. 0. 1. 0. 0. 0. 0.]      [0. 0. 0. 0. 0. 1. 0. 0. 0. 0.] \n",
            "[0. 0. 0. 0. 0. 1. 0. 0. 0. 0.]      [0. 0. 0. 1. 0. 0. 0. 0. 0. 0.] \n",
            "[0. 0. 0. 0. 0. 1. 0. 0. 0. 0.]      [0. 0. 0. 0. 0. 0. 1. 0. 0. 0.] \n",
            "[0. 0. 0. 0. 0. 1. 0. 0. 0. 0.]      [0. 0. 0. 0. 1. 0. 0. 0. 0. 0.] \n",
            "[0. 0. 0. 0. 0. 1. 0. 0. 0. 0.]      [0. 0. 1. 0. 0. 0. 0. 0. 0. 0.] \n",
            "[0. 0. 0. 0. 0. 1. 0. 0. 0. 0.]      [0. 0. 0. 1. 0. 0. 0. 0. 0. 0.] \n",
            "[0. 0. 0. 0. 0. 1. 0. 0. 0. 0.]      [0. 0. 0. 1. 0. 0. 0. 0. 0. 0.] \n"
          ],
          "name": "stdout"
        }
      ]
    },
    {
      "cell_type": "code",
      "metadata": {
        "id": "VKJF8vmTv0iB",
        "colab_type": "code",
        "colab": {
          "base_uri": "https://localhost:8080/",
          "height": 35
        },
        "outputId": "ef5a5f85-9136-4b96-eb93-c9860350bf8d"
      },
      "source": [
        "print(acc) # alpha =.5"
      ],
      "execution_count": 69,
      "outputs": [
        {
          "output_type": "stream",
          "text": [
            "18.5\n"
          ],
          "name": "stdout"
        }
      ]
    },
    {
      "cell_type": "code",
      "metadata": {
        "id": "-gwTJCakwUo-",
        "colab_type": "code",
        "colab": {
          "base_uri": "https://localhost:8080/",
          "height": 35
        },
        "outputId": "780f69ab-c52a-48e6-d56c-a52284c1ded3"
      },
      "source": [
        "print(acc,hlSize) # alpha = .01"
      ],
      "execution_count": 72,
      "outputs": [
        {
          "output_type": "stream",
          "text": [
            "7.000000000000001 100\n"
          ],
          "name": "stdout"
        }
      ]
    }
  ]
}