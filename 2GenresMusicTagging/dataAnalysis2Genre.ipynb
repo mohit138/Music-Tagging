{
  "nbformat": 4,
  "nbformat_minor": 0,
  "metadata": {
    "colab": {
      "name": "dataAnalysis2Genre.ipynb",
      "provenance": [],
      "collapsed_sections": []
    },
    "kernelspec": {
      "name": "python3",
      "display_name": "Python 3"
    },
    "accelerator": "GPU"
  },
  "cells": [
    {
      "cell_type": "code",
      "metadata": {
        "id": "LqDuoyJ__jNP",
        "colab_type": "code",
        "outputId": "58cd2cde-f1fd-4a86-b0ea-011ee410b46f",
        "colab": {
          "resources": {
            "http://localhost:8080/nbextensions/google.colab/files.js": {
              "data": "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",
              "ok": true,
              "headers": [
                [
                  "content-type",
                  "application/javascript"
                ]
              ],
              "status": 200,
              "status_text": "OK"
            }
          },
          "base_uri": "https://localhost:8080/",
          "height": 148
        }
      },
      "source": [
        "from google.colab import files\n",
        "\n",
        "uploaded = files.upload()"
      ],
      "execution_count": 1,
      "outputs": [
        {
          "output_type": "display_data",
          "data": {
            "text/html": [
              "\n",
              "     <input type=\"file\" id=\"files-264dff92-1630-4875-b340-94e527b1d999\" name=\"files[]\" multiple disabled />\n",
              "     <output id=\"result-264dff92-1630-4875-b340-94e527b1d999\">\n",
              "      Upload widget is only available when the cell has been executed in the\n",
              "      current browser session. Please rerun this cell to enable.\n",
              "      </output>\n",
              "      <script src=\"/nbextensions/google.colab/files.js\"></script> "
            ],
            "text/plain": [
              "<IPython.core.display.HTML object>"
            ]
          },
          "metadata": {
            "tags": []
          }
        },
        {
          "output_type": "stream",
          "text": [
            "Saving TestData2.csv to TestData2.csv\n",
            "Saving TrainData2.csv to TrainData2.csv\n",
            "Saving ValData2.csv to ValData2.csv\n"
          ],
          "name": "stdout"
        }
      ]
    },
    {
      "cell_type": "code",
      "metadata": {
        "id": "R8fm7ddkbnkY",
        "colab_type": "code",
        "colab": {}
      },
      "source": [
        "# data analysis for MUSIC data\n",
        "import pandas as pd\n",
        "import numpy as np\n",
        "from sklearn.model_selection import train_test_split\n",
        "import matplotlib.pyplot as plt\n",
        "from numpy import savetxt\n",
        "from pylab import rcParams\n",
        "rcParams['figure.figsize'] = 15, 9\n",
        "\n",
        "# extra added for using inbuilt sigmoid\n",
        "\n",
        "from scipy.special import expit"
      ],
      "execution_count": 0,
      "outputs": []
    },
    {
      "cell_type": "code",
      "metadata": {
        "id": "DkbFdLUM9nWJ",
        "colab_type": "code",
        "colab": {}
      },
      "source": [
        "op_cases = 1\n",
        "train_df = pd.read_csv(\"TrainData2.csv\")\n",
        "data_t = train_df.to_numpy()\n",
        "x_train = data_t[:,0:29]\n",
        "y_train = data_t[:,29:39]\n",
        "\n",
        "val_df = pd.read_csv(\"ValData2.csv\")\n",
        "data_v = val_df.to_numpy()\n",
        "x_val = data_v[:,0:29]\n",
        "y_val = data_v[:,29:39]\n",
        "\n",
        "test_df = pd.read_csv(\"TestData2.csv\")\n",
        "data_te = test_df.to_numpy()\n",
        "x_test = data_te[:,0:29]\n",
        "y_test = data_te[:,29:39]"
      ],
      "execution_count": 0,
      "outputs": []
    },
    {
      "cell_type": "code",
      "metadata": {
        "id": "Tm0axjyj-HbW",
        "colab_type": "code",
        "colab": {}
      },
      "source": [
        "#cost function for logistic regression\n",
        "def costFunction(X,y,theta,lam):\n",
        "    m=X.shape[0]\n",
        "    prod=np.zeros((X.shape[0],theta.shape[1]))\n",
        "    \n",
        "    prod=X.dot(theta)\n",
        "    #print(prod)\n",
        "    h=1/(1+np.exp(-prod))\n",
        "    J = (-1/m)*np.sum( y*np.log(h +1e-20) + (1-y)*np.log(1-h +1e-20)) + (lam/(2*m))*((np.sum(theta))-np.sum(theta[0,:]));\n",
        "    return [J,h]"
      ],
      "execution_count": 0,
      "outputs": []
    },
    {
      "cell_type": "code",
      "metadata": {
        "id": "bGCPVB4A-oz1",
        "colab_type": "code",
        "colab": {}
      },
      "source": [
        "# gradient descent algorithm\n",
        "def grad_descent_vec(X,y,theta,lam,max_itr,alpha):\n",
        "    m=X.shape[0]\n",
        "    J_hist=np.zeros((max_itr,1))\n",
        "    for i in range(max_itr):\n",
        "        [J,h]=costFunction(X,y,theta,lam)\n",
        "        dif = h-y\n",
        "        theta = theta - (alpha/m)*((X.T).dot(dif))\n",
        "        J_hist[i]=J\n",
        "    return [theta,J_hist]"
      ],
      "execution_count": 0,
      "outputs": []
    },
    {
      "cell_type": "code",
      "metadata": {
        "id": "QufGbGY_N8s3",
        "colab_type": "code",
        "colab": {}
      },
      "source": [
        "def learning_curve(xT,xV,yT,yV,theta,lam):\n",
        "    ma=yV.shape[0]\n",
        "    J_t_error = np.zeros((ma-1,1))\n",
        "    J_v_error = np.zeros((ma-1,1))\n",
        "    for i in range(2,ma+1):\n",
        "        [J_t_error[i-2],h] = costFunction(xT[0:i-1,:], yT[0:i-1,:], theta, lam)\n",
        "        [J_v_error[i-2],h] = costFunction(xV[0:i-1,:], yV[0:i-1,:], theta, lam)\n",
        "    i=np.arange(1,ma,1)\n",
        "    #print(J_t_error,J_v_error)\n",
        "    plt.plot(i,J_t_error,label='Train Error')\n",
        "    plt.plot(i,J_v_error,label='Validation Error')\n",
        "    plt.legend(loc='upper left')\n",
        "    plt.title('learning curve')\n",
        "    plt.show()"
      ],
      "execution_count": 0,
      "outputs": []
    },
    {
      "cell_type": "code",
      "metadata": {
        "id": "0mMyon9ZPFhh",
        "colab_type": "code",
        "colab": {}
      },
      "source": [
        "# the function to find degree for best results. \n",
        "def lc_degree(d_max,xT,xV,yT,yV,lam,max_itr,alpha,col):\n",
        "    power=1\n",
        "    alpha =.1\n",
        "    max_itr = 10000\n",
        "    ma=yV.shape[0]\n",
        "    J_t_error = np.zeros((d_max,1))\n",
        "    J_v_error = np.zeros((d_max,1))\n",
        "    for i in range(d_max):\n",
        "        initial_theta = np.ones((xT.shape[1],yT.shape[1]))\n",
        "        [theta,j_hist] = grad_descent_vec(xT, yT, initial_theta,lam, max_itr, alpha)    \n",
        "        [J_t_error[i],h] = costFunction(xT[0:ma,:], yT[0:ma,:], theta, lam)\n",
        "        [J_v_error[i],h] = costFunction(xV, yV, theta, lam)\n",
        "        \n",
        "        [J,h_train]=costFunction(xT, yT, theta,0)\n",
        "\n",
        "        h_train,acc=prediction(h_train,yT)\n",
        "        print(\"\\naccuracy (train):  \",acc)\n",
        "\n",
        "        [J,h_test]=costFunction(xV, yV, theta,0)\n",
        "\n",
        "        h_test,acc=prediction(h_test,yV)\n",
        "        print(\"\\naccuracy:  \",acc)\n",
        "        \n",
        "        fact = normalise_fact( np.append(np.power(xT,i+1) , np.power(xV,i+1),axis=0) )\n",
        "        #fact=1\n",
        "        powT = (np.power(xT,i+1))/fact\n",
        "        powV = (np.power(xV,i+1))/fact\n",
        "        xT = np.append(xT, powT,axis=1)\n",
        "        xV = np.append(xV, powV,axis=1)\n",
        "        j=np.arange(1,10001,1)\n",
        "        #plt.plot(j,j_hist)\n",
        "        #plt.show()\n",
        "        #xT = np.power(xT,i+1) / fact\n",
        "        #xV = np.power(xV,i+1) / fact\n",
        "        #print(j_hist[980:1000])\n",
        "        \n",
        "    power = np.argmin(J_v_error)\n",
        "    i=np.arange(1,d_max+1,1)\n",
        "    plt.plot(i,J_t_error,label='Train Error')\n",
        "    plt.plot(i,J_v_error,label='Validation Error')\n",
        "    plt.legend(loc='upper left')\n",
        "    plt.title(col)\n",
        "    plt.show()\n",
        "    return power\n",
        "\n",
        "def normalise_fact(x):\n",
        "    Max = np.max(x)\n",
        "    Min = np.min(x)\n",
        "    fact = (Max-Min)\n",
        "    return fact"
      ],
      "execution_count": 0,
      "outputs": []
    },
    {
      "cell_type": "code",
      "metadata": {
        "id": "HAXbY-tSU2F1",
        "colab_type": "code",
        "colab": {}
      },
      "source": [
        "#def prediction(h,y):\n",
        "#    h_out=np.zeros((h.shape[0],h.shape[1]))\n",
        "#    add=0\n",
        "#    for i in range(h.shape[0]):\n",
        "#        result = np.where(h[i:i+1,:] == np.amax(h[i:i+1,:],axis=1))\n",
        "#        list_of_cordinates= list(zip(result[0],result[1]))\n",
        "#        #print(list_of_cordinates)\n",
        "#        cord = list_of_cordinates[0][1]\n",
        "#        h_out[i:i+1,cord]=1\n",
        "#        if np.all(h_out[i:i+1,:]==y[i:i+1,:]):\n",
        "#            add=add+1\n",
        "#\n",
        "#    accuracy = add / h.shape[0] *100\n",
        "#    return [h_out,accuracy]"
      ],
      "execution_count": 0,
      "outputs": []
    },
    {
      "cell_type": "code",
      "metadata": {
        "id": "k2YtJ5tvsheV",
        "colab_type": "code",
        "colab": {}
      },
      "source": [
        "def prediction(h,y):\n",
        "    \n",
        "    count =0\n",
        "    h_out = np.zeros(h.shape)\n",
        "    \n",
        "    for i in range(h.shape[0]):\n",
        "        if h.shape[1] == 1:\n",
        "            if h[i] >= 0.5:\n",
        "                h_out[i] = 1\n",
        "        else:\n",
        "            h_out[i, np.argmax(h[i,:])] =1\n",
        "    \n",
        "    \n",
        "    for i in range(h.shape[0]):\n",
        "        for j in range(h.shape[1]):\n",
        "            if h_out[i,j]!=y[i,j]:\n",
        "                count = count+1\n",
        "                break\n",
        "    acc = (h.shape[0] - count)/h.shape[0] *100\n",
        "    return [h_out, acc]"
      ],
      "execution_count": 0,
      "outputs": []
    },
    {
      "cell_type": "code",
      "metadata": {
        "id": "bnwrHF9cKeb1",
        "colab_type": "code",
        "colab": {}
      },
      "source": [
        "max_itr = 10000\n",
        "alpha = 1\n",
        "lam=0"
      ],
      "execution_count": 0,
      "outputs": []
    },
    {
      "cell_type": "code",
      "metadata": {
        "id": "HwDaIOuTPSqy",
        "colab_type": "code",
        "colab": {}
      },
      "source": [
        "# to check the best degree for all features\n",
        "\n",
        "#alpha_vals = [ .00002 , 0.00005, .07, .1, .0000008, ]\n",
        "\n",
        "columns = ['x0',\t'tempo',\t'beats',\t'chroma_stft',\t'rmse',\t'spectral_centroid',\t'spectral_bandwidth',\t'rolloff',\t'zero_crossing_rate',\t'mfcc1',\t'mfcc2',\t'mfcc3',\t'mfcc4',\t'mfcc5',\t'mfcc6',\t'mfcc7',\t'mfcc8',\t'mfcc9',\t'mfcc10',\t'mfcc11',\t'mfcc12',\t'mfcc13',\t'mfcc14',\t'mfcc15',\t'mfcc16',\t'mfcc17',\t'mfcc18',\t'mfcc19',\t'mfcc20']\n",
        "power = [None] * len(columns)\n",
        "d_max=13\n",
        "#print(x_train[:,2:3])\n",
        "# range(0,28)\n",
        "for i in range(0,8):\n",
        "    #print(x_train[:,i+1:i+2])\n",
        "    power[i]=lc_degree(d_max, x_train[:,i+1:i+2], x_val[:,i+1:i+2], y_train, y_val, lam, max_itr, alpha,columns[i+1])"
      ],
      "execution_count": 0,
      "outputs": []
    },
    {
      "cell_type": "code",
      "metadata": {
        "id": "r_uOu-ga7TLI",
        "colab_type": "code",
        "colab": {}
      },
      "source": [
        "power = [3,3,3,5,5,4,3,3]"
      ],
      "execution_count": 0,
      "outputs": []
    },
    {
      "cell_type": "code",
      "metadata": {
        "id": "GiNWjZJm6IA-",
        "colab_type": "code",
        "colab": {}
      },
      "source": [
        "# Adding polynomial terms to the first 8 features \n",
        "for i in range(0,8):\n",
        "     if power[i] != 0:\n",
        "         for j in range(2,power[i]+1):\n",
        "             print(j);\n",
        "             fact = normalise_fact( np.append( np.append( np.power(x_train[:,i:i+1],j) , np.power(x_val[:,i:i+1],j), axis=0) , np.power(x_test[:,i:i+1],j) ,axis=0) )\n",
        "             #fact=1\n",
        "             #print(np.append( np.append( np.power(x_train[:,i:i+1],j) , np.power(x_val[:,i:i+1],j), axis=0) , np.power(x_test[:,i:i+1],j) ,axis=0).shape)\n",
        "             x_train = np.append(x_train, (np.power(x_train[:,i:i+1],j) / fact),axis=1)\n",
        "             x_val = np.append(x_val, (np.power(x_val[:,i:i+1],j) / fact),axis=1)\n",
        "             x_test = np.append(x_test, (np.power(x_test[:,i:i+1],j) / fact),axis=1)\n"
      ],
      "execution_count": 0,
      "outputs": []
    },
    {
      "cell_type": "code",
      "metadata": {
        "id": "Fd_l5Bu6CUL5",
        "colab_type": "code",
        "colab": {}
      },
      "source": [
        "initial_theta= np.zeros((x_train.shape[1],y_train.shape[1])) \n",
        "[J,h]=costFunction(x_train, y_train, initial_theta,0)\n",
        "#[J,h]=cost(x_train, y_train, initial_theta,0)\n"
      ],
      "execution_count": 0,
      "outputs": []
    },
    {
      "cell_type": "code",
      "metadata": {
        "id": "A-AJaAYICUIV",
        "colab_type": "code",
        "outputId": "7d99321b-d416-4c07-b9ab-0549471d349d",
        "colab": {
          "base_uri": "https://localhost:8080/",
          "height": 1000
        }
      },
      "source": [
        "[theta,j_hist] = grad_descent_vec(x_train, y_train, initial_theta,lam, max_itr, alpha)\n",
        "\n",
        "i=np.arange(1,10001,1)\n",
        "plt.plot(i,j_hist)\n",
        "plt.show()\n",
        "\n",
        "learning_curve(x_train, x_val, y_train, y_val, theta, lam)"
      ],
      "execution_count": 176,
      "outputs": [
        {
          "output_type": "display_data",
          "data": {
            "image/png": "[encoded data removed]",
            "text/plain": [
              "<Figure size 1080x648 with 1 Axes>"
            ]
          },
          "metadata": {
            "tags": [],
            "needs_background": "light"
          }
        },
        {
          "output_type": "display_data",
          "data": {
            "image/png": "[encoded data removed]",
            "text/plain": [
              "<Figure size 1080x648 with 1 Axes>"
            ]
          },
          "metadata": {
            "tags": [],
            "needs_background": "light"
          }
        }
      ]
    },
    {
      "cell_type": "code",
      "metadata": {
        "id": "--jdCfH79lQi",
        "colab_type": "code",
        "colab": {}
      },
      "source": [
        "print(theta)\n"
      ],
      "execution_count": 0,
      "outputs": []
    },
    {
      "cell_type": "code",
      "metadata": {
        "id": "IDEZFsLaU0J-",
        "colab_type": "code",
        "outputId": "47fa3b56-cac4-4b6b-8157-813a5409b6fd",
        "colab": {
          "base_uri": "https://localhost:8080/",
          "height": 90
        }
      },
      "source": [
        "[J,h_train]=costFunction(x_train, y_train, theta,lam)\n",
        "\n",
        "h_train,acc=prediction(h_train,y_train)\n",
        "print(\"\\naccuracy (train):  \",acc)\n",
        "\n",
        "[J,h_test]=costFunction(x_test, y_test, theta,lam)\n",
        "\n",
        "h_test,acc=prediction(h_test,y_test)\n",
        "print(\"\\naccuracy:  \",acc)"
      ],
      "execution_count": 177,
      "outputs": [
        {
          "output_type": "stream",
          "text": [
            "\n",
            "accuracy (train):   98.33333333333333\n",
            "\n",
            "accuracy:   95.0\n"
          ],
          "name": "stdout"
        }
      ]
    },
    {
      "cell_type": "code",
      "metadata": {
        "id": "3rWhfH3ZWOyT",
        "colab_type": "code",
        "outputId": "1a503ecc-73ce-46c2-b421-45ea6ec0c8aa",
        "colab": {
          "base_uri": "https://localhost:8080/",
          "height": 752
        }
      },
      "source": [
        "for i in range(y_test.shape[0]):\n",
        "  print( \"{}      {} \" .format(h_test[i] , y_test[i]))"
      ],
      "execution_count": 144,
      "outputs": [
        {
          "output_type": "stream",
          "text": [
            "[0.]      [1.] \n",
            "[0.]      [0.] \n",
            "[0.]      [0.] \n",
            "[1.]      [1.] \n",
            "[0.]      [0.] \n",
            "[0.]      [0.] \n",
            "[0.]      [0.] \n",
            "[0.]      [0.] \n",
            "[1.]      [1.] \n",
            "[1.]      [1.] \n",
            "[1.]      [1.] \n",
            "[1.]      [1.] \n",
            "[0.]      [0.] \n",
            "[1.]      [1.] \n",
            "[0.]      [0.] \n",
            "[0.]      [0.] \n",
            "[1.]      [1.] \n",
            "[0.]      [0.] \n",
            "[1.]      [1.] \n",
            "[1.]      [1.] \n",
            "[0.]      [0.] \n",
            "[0.]      [1.] \n",
            "[0.]      [0.] \n",
            "[0.]      [0.] \n",
            "[1.]      [1.] \n",
            "[0.]      [0.] \n",
            "[1.]      [1.] \n",
            "[0.]      [0.] \n",
            "[1.]      [1.] \n",
            "[0.]      [0.] \n",
            "[0.]      [0.] \n",
            "[1.]      [1.] \n",
            "[0.]      [0.] \n",
            "[0.]      [0.] \n",
            "[1.]      [1.] \n",
            "[0.]      [0.] \n",
            "[0.]      [0.] \n",
            "[0.]      [0.] \n",
            "[1.]      [1.] \n",
            "[1.]      [1.] \n"
          ],
          "name": "stdout"
        }
      ]
    }
  ]
}