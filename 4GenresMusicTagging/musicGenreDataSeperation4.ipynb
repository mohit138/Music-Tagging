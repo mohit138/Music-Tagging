{
  "nbformat": 4,
  "nbformat_minor": 0,
  "metadata": {
    "colab": {
      "name": "musicGenreDataSeperation4.ipynb",
      "provenance": []
    },
    "kernelspec": {
      "name": "python3",
      "display_name": "Python 3"
    }
  },
  "cells": [
    {
      "cell_type": "code",
      "metadata": {
        "id": "XHHy2MGpYhDE",
        "colab_type": "code",
        "colab": {}
      },
      "source": [
        "import pandas as pd\n",
        "import numpy as np\n",
        "from numpy import savetxt\n",
        "from sklearn.model_selection import train_test_split\n",
        "import matplotlib.pyplot as plt\n",
        "from sklearn.preprocessing import normalize"
      ],
      "execution_count": 0,
      "outputs": []
    },
    {
      "cell_type": "code",
      "metadata": {
        "id": "66wU9KpUg4kS",
        "colab_type": "code",
        "colab": {}
      },
      "source": [
        "genre_df = pd.read_csv('data.csv')\n"
      ],
      "execution_count": 0,
      "outputs": []
    },
    {
      "cell_type": "code",
      "metadata": {
        "id": "pKRUZhCdhws5",
        "colab_type": "code",
        "colab": {}
      },
      "source": [
        "Label = [\"blues\",\"classical\",\"country\",\"disco\",\"hiphop\",\"jazz\",\"metal\",\"pop\",\"reggae\",\"rock\"]\n",
        "op_cases = 4"
      ],
      "execution_count": 0,
      "outputs": []
    },
    {
      "cell_type": "code",
      "metadata": {
        "id": "nUP7VFg_zygF",
        "colab_type": "code",
        "colab": {}
      },
      "source": [
        "def label_indexing(x):\n",
        "  for i in range(10):\n",
        "    if(x==Label[i]):\n",
        "      return i"
      ],
      "execution_count": 0,
      "outputs": []
    },
    {
      "cell_type": "code",
      "metadata": {
        "id": "AGBmDs9S5y3Y",
        "colab_type": "code",
        "colab": {}
      },
      "source": [
        "genre_df['label'] = genre_df['label'].apply(label_indexing)"
      ],
      "execution_count": 0,
      "outputs": []
    },
    {
      "cell_type": "code",
      "metadata": {
        "id": "_b-f6Z-19ntU",
        "colab_type": "code",
        "colab": {}
      },
      "source": [
        "data = genre_df.to_numpy()\n",
        "X = data[0:400,1:29]\n",
        "X = normalize(X)\n",
        "y = np.zeros((X.shape[0],op_cases))\n",
        "\n",
        "for i in range(X.shape[0]):\n",
        "  y[i:i+1,:] = np.identity(op_cases)[data[i,29],:]\n",
        "\n",
        "one=np.ones((X.shape[0],1))\n",
        "X= np.append(one,X,axis=1)"
      ],
      "execution_count": 0,
      "outputs": []
    },
    {
      "cell_type": "code",
      "metadata": {
        "id": "kFO0yz9OtkP8",
        "colab_type": "code",
        "outputId": "ee5f7b99-732e-44e2-a1f0-c84f52bf4c23",
        "colab": {
          "base_uri": "https://localhost:8080/",
          "height": 146
        }
      },
      "source": [
        "print(y)"
      ],
      "execution_count": 32,
      "outputs": [
        {
          "output_type": "stream",
          "text": [
            "[[1. 0. 0. 0.]\n",
            " [1. 0. 0. 0.]\n",
            " [1. 0. 0. 0.]\n",
            " ...\n",
            " [0. 0. 0. 1.]\n",
            " [0. 0. 0. 1.]\n",
            " [0. 0. 0. 1.]]\n"
          ],
          "name": "stdout"
        }
      ]
    },
    {
      "cell_type": "code",
      "metadata": {
        "id": "htu3GXYw8gO_",
        "colab_type": "code",
        "colab": {}
      },
      "source": [
        "# make train, val and test sets\n",
        "# seperate out test set\n",
        "x_1,x_test,y_1,y_test=train_test_split(X,y,test_size=0.2)\n",
        "#split remining into train and val set\n",
        "x_train,x_val,y_train,y_val=train_test_split(x_1,y_1,test_size=0.25)"
      ],
      "execution_count": 0,
      "outputs": []
    },
    {
      "cell_type": "code",
      "metadata": {
        "id": "V3Kd4Nz-I-ro",
        "colab_type": "code",
        "colab": {}
      },
      "source": [
        "Train = np.append(x_train,y_train,axis=1) \n",
        "Val = np.append(x_val,y_val,axis=1)\n",
        "Test = np.append(x_test,y_test,axis=1)\n",
        "Header = 'x0,tempo, beats, chroma_stft, rmse,spectral_centroid, spectral_bandwidth, rolloff,zero_crossing_rate, mfcc1, mfcc2, mfcc3, mfcc4, mfcc5, mfcc6, mfcc7, mfcc8, mfcc9, mfcc10, mfcc11, mfcc12, mfcc13, mfcc14, mfcc15, mfcc16, mfcc17, mfcc18, mfcc19, mfcc20, y0, y1,y2,y3' "
      ],
      "execution_count": 0,
      "outputs": []
    },
    {
      "cell_type": "code",
      "metadata": {
        "id": "U_JwBd_iGd9o",
        "colab_type": "code",
        "colab": {}
      },
      "source": [
        "\n",
        "savetxt('TrainData4.csv',Train,delimiter=',',header=Header)\n",
        "savetxt('ValData4.csv',Val,delimiter=',',header=Header)\n",
        "savetxt('TestData4.csv',Test,delimiter=',',header=Header)"
      ],
      "execution_count": 0,
      "outputs": []
    },
    {
      "cell_type": "markdown",
      "metadata": {
        "id": "6eNGlyaNGdqD",
        "colab_type": "text"
      },
      "source": [
        ""
      ]
    }
  ]
}