{
  "nbformat": 4,
  "nbformat_minor": 0,
  "metadata": {
    "colab": {
      "name": "NeuralNetwork2.ipynb",
      "provenance": []
    },
    "kernelspec": {
      "name": "python3",
      "display_name": "Python 3"
    },
    "accelerator": "GPU"
  },
  "cells": [
    {
      "cell_type": "code",
      "metadata": {
        "id": "nBamDfaFNpz6",
        "colab_type": "code",
        "colab": {}
      },
      "source": [
        "import pandas as pd\n",
        "import numpy as np\n",
        "from sklearn.model_selection import train_test_split\n",
        "\n",
        "import matplotlib.pyplot as plt\n",
        "from pylab import rcParams\n",
        "from scipy.special import expit\n",
        "rcParams['figure.figsize'] = 20, 12"
      ],
      "execution_count": 0,
      "outputs": []
    },
    {
      "cell_type": "code",
      "metadata": {
        "id": "TE61OqUlOHTp",
        "colab_type": "code",
        "colab": {}
      },
      "source": [
        "op_cases = 4\n",
        "train_df = pd.read_csv(\"TrainData4.csv\")\n",
        "data_t = train_df.to_numpy()\n",
        "x_train = data_t[:,1:29]\n",
        "y_train = data_t[:,29:33]\n",
        "\n",
        "val_df = pd.read_csv(\"ValData4.csv\")\n",
        "data_v = val_df.to_numpy()\n",
        "x_val = data_v[:,1:29]\n",
        "y_val = data_v[:,29:33]\n",
        "\n",
        "test_df = pd.read_csv(\"TestData4.csv\")\n",
        "data_te = test_df.to_numpy()\n",
        "x_test = data_te[:,1:29]\n",
        "y_test = data_te[:,29:33]"
      ],
      "execution_count": 0,
      "outputs": []
    },
    {
      "cell_type": "code",
      "metadata": {
        "id": "sOiDh__IOOQ8",
        "colab_type": "code",
        "colab": {}
      },
      "source": [
        "def sigmoidGrad(z):\n",
        "    return expit(z)*(1-expit(z))"
      ],
      "execution_count": 0,
      "outputs": []
    },
    {
      "cell_type": "code",
      "metadata": {
        "id": "skVYVKwTORy1",
        "colab_type": "code",
        "colab": {}
      },
      "source": [
        "# cost function for 2 hidden layer Neural Network\n",
        "def cost_function_NN2(theta,hl1Size,hl2Size,numLabel,X,y,lam=0):\n",
        "    m= X.shape[0]\n",
        "    ipSize = X.shape[1]\n",
        "    J=0\n",
        "\n",
        "    t1 = theta[0:hl1Size*(ipSize +1)].reshape(hl1Size,ipSize+1)\n",
        "    t2 = theta[hl1Size*(ipSize +1) : (hl1Size*(ipSize +1)) + (hl2Size*(hl1Size +1))].reshape(hl2Size,hl1Size+1)\n",
        "    t3 = theta[(hl1Size*(ipSize +1)) + (hl2Size*(hl1Size +1)) : (hl1Size*(ipSize +1)) + (hl2Size*(hl1Size +1)) + numLabel*(hl2Size+1)].reshape(numLabel,hl2Size+1)\n",
        "    tGrad1 = np.zeros(t1.shape)\n",
        "    tGrad2 = np.zeros(t2.shape)\n",
        "    tGrad3 = np.zeros(t3.shape)\n",
        "    #print(X.shape,t1.shape)\n",
        "    # Forward propogation algorithm\n",
        "    z2 = np.append(np.ones((m,1)),X,axis =1).dot(t1.T)\n",
        "    a2 = expit(z2)\n",
        "    z3 = np.append(np.ones((m,1)),a2,axis=1).dot(t2.T)\n",
        "    a3 = expit(z3)\n",
        "    z4 = np.append(np.ones((m,1)),a3,axis=1).dot(t3.T)\n",
        "    a4 = expit(z4)\n",
        "    h = a4\n",
        "    \n",
        "    J = (-1/m)*np.sum( y*np.log(h + 1e-20) + (1-y)*np.log(1-h + 1e-20)) \n",
        "    #Reg = \n",
        "    \n",
        "    # Back propogation algorithm\n",
        "    D3=np.zeros(t3.shape)\n",
        "    D2=np.zeros(t2.shape)\n",
        "    D1=np.zeros(t1.shape)\n",
        "    err4 = h - y\n",
        "    #print(err4)\n",
        "    l = t3.shape[1]\n",
        "    err3 = (err4.dot(t3[:,1:l])) * sigmoidGrad(z3)\n",
        "    #print(err3)\n",
        "    l = t2.shape[1]\n",
        "    err2 = (err3.dot(t2[:,1:l])) * sigmoidGrad(z2) \n",
        "    #print(err2)\n",
        "    for i in range(m):\n",
        "        D3 = D3 + (err4[i:i+1,:].T).dot(np.append(np.ones((1,1)),a3[i:i+1,:],axis=1))\n",
        "        D2 = D2 + (err3[i:i+1,:].T).dot(np.append(np.ones((1,1)),a2[i:i+1,:],axis=1))\n",
        "        D1 = D1 + (err2[i:i+1,:].T).dot(np.append(np.ones((1,1)),X[i:i+1,:],axis=1))\n",
        "    tGrad1 = D1/m\n",
        "    #tGrad1[:,1:tGrad1.shape[1]] = tGrad1[:,1:tGrad1.shape[1]] + lam/m*t1[:,1:t1.shape[1]]\n",
        "    tGrad2 = D2/m\n",
        "    #tGrad2[:,1:tGrad2.shape[1]] = tGrad2[:,1:tGrad2.shape[1]] + lam/m*t2[:,1:t2.shape[1]]\n",
        "    tGrad3= D3/m\n",
        "    #print(tGrad1, tGrad2)\n",
        "    grad = np.concatenate([tGrad1.flat, tGrad2.flat, tGrad3.flat])\n",
        "    \n",
        "    #print(grad.shape)\n",
        "    return [J,grad,h]"
      ],
      "execution_count": 0,
      "outputs": []
    },
    {
      "cell_type": "code",
      "metadata": {
        "id": "t7geB2UKOdVe",
        "colab_type": "code",
        "colab": {}
      },
      "source": [
        "def gradient_descent_NN2(X,y,theta,lam,max_itr,alpha,hl1Size,hl2Size): # without regularisation !\n",
        "    m=X.shape[0]\n",
        "    J_hist=np.zeros((max_itr,1))\n",
        "    \n",
        "    numLabel = y.shape[1]\n",
        "    for i in range(max_itr):\n",
        "        [J,grad,h]=cost_function_NN2(theta, hl1Size,hl2Size, numLabel, X, y, lam)\n",
        "        if i%1000==0:\n",
        "          print(i)\n",
        "        theta = theta - (alpha)*(grad) \n",
        "        J_hist[i]=J\n",
        "    return [theta,J_hist]"
      ],
      "execution_count": 0,
      "outputs": []
    },
    {
      "cell_type": "code",
      "metadata": {
        "id": "NUkn37k4OiGb",
        "colab_type": "code",
        "colab": {}
      },
      "source": [
        "def gradient_check_NN2(theta,hl1Size,hl2Size,numLabel,X,y):\n",
        "    #m= X.shape[0]\n",
        "    #ipSize = X.shape[1]\n",
        "    appGrad = np.zeros(theta.shape)\n",
        "\n",
        "    #t1 = theta[0:hlSize*(ipSize +1)].reshape(hlSize,ipSize+1)\n",
        "    #t2 = theta[hlSize*(ipSize +1) : (hlSize*(ipSize +1)) + (numLabel*(hlSize +1))+1].reshape(numLabel,hlSize+1)\n",
        "\n",
        "    #tGrad1 = np.zeros(t1.shape)\n",
        "    #tGrad2 = np.zeros(t2.shape)\n",
        "    epsilon =.0001\n",
        "    \n",
        "    for i in range(theta.shape[0]):\n",
        "        posTheta = theta\n",
        "        posTheta[i:i+1] = posTheta[i:i+1] + epsilon\n",
        "        posJ,gr,h = cost_function_NN2(posTheta, hl1Size,hl2Size, numLabel, X, y)\n",
        "        negTheta = theta\n",
        "        negTheta[i:i+1] = negTheta[i:i+1] - epsilon\n",
        "        negJ,gr,h = cost_function_NN2(negTheta, hl1Size,hl2Size, numLabel, X, y)\n",
        "        appGrad[i]=((posJ-negJ)/(2*epsilon))\n",
        "        \n",
        "    print(posJ,negJ)\n",
        "    return appGrad"
      ],
      "execution_count": 0,
      "outputs": []
    },
    {
      "cell_type": "code",
      "metadata": {
        "id": "DYqJ-u2ZOoG7",
        "colab_type": "code",
        "colab": {}
      },
      "source": [
        "def prediction(h,y):\n",
        "    \n",
        "    count =0\n",
        "    h_out = np.zeros(h.shape)\n",
        "    \n",
        "    for i in range(h.shape[0]):\n",
        "        if h.shape[1] == 1:\n",
        "            if h[i] >= 0.5:\n",
        "                h_out[i] = 1\n",
        "        else:\n",
        "            h_out[i, np.argmax(h[i,:])] =1\n",
        "    \n",
        "    \n",
        "    for i in range(h.shape[0]):\n",
        "        for j in range(h.shape[1]):\n",
        "            if h_out[i,j]!=y[i,j]:\n",
        "                count = count+1\n",
        "                break\n",
        "    acc = (h.shape[0] - count)/h.shape[0] *100\n",
        "    return [h_out, acc]"
      ],
      "execution_count": 0,
      "outputs": []
    },
    {
      "cell_type": "code",
      "metadata": {
        "id": "vjFCMZs3OuY7",
        "colab_type": "code",
        "colab": {}
      },
      "source": [
        "ipSize = x_train.shape[1]\n",
        "hl1Size = 22#1* x_train.shape[1]\n",
        "hl2Size = 13\n",
        "numLabel = y_train.shape[1]\n",
        "E0= 0.01\n",
        "theta1 = np.random.randint(1,10,(hl1Size,ipSize+1))\n",
        "itheta1 = theta1*2*E0 - E0\n",
        "theta2 = np.random.randint(1,10,(hl2Size,hl1Size+1))\n",
        "itheta2 = theta2*2*E0 - E0\n",
        "theta3 = np.random.randint(1,10,(numLabel,hl2Size+1))\n",
        "itheta3 = theta3*2*E0 - E0\n",
        "initial_theta = np.concatenate([itheta1.flat, itheta2.flat, itheta3.flat])"
      ],
      "execution_count": 0,
      "outputs": []
    },
    {
      "cell_type": "code",
      "metadata": {
        "id": "GzUlOyI9O1lY",
        "colab_type": "code",
        "colab": {}
      },
      "source": [
        "lam =0\n",
        "alpha =.75#1.7 3000#2 3800#2.5 6000 #2.6 7500 # 2.7, 9000\n",
        "max_itr = 35000"
      ],
      "execution_count": 0,
      "outputs": []
    },
    {
      "cell_type": "code",
      "metadata": {
        "id": "gtyD2163O6if",
        "colab_type": "code",
        "colab": {}
      },
      "source": [
        "J,grad,h = cost_function_NN2(initial_theta, hl1Size,hl2Size, numLabel, x_train, y_train)\n",
        "#appGrad = gradient_check_NN2(initial_theta, hl1Size,hl2Size, numLabel, x_train, y_train)\n",
        "\n",
        "#for i in range(grad.shape[0]):\n",
        "#    print(\"{}   {}\".format(grad[i],appGrad[i]))"
      ],
      "execution_count": 0,
      "outputs": []
    },
    {
      "cell_type": "code",
      "metadata": {
        "id": "NMVIhhAUPEiR",
        "colab_type": "code",
        "outputId": "25595e44-3794-41ee-8546-88c973880867",
        "colab": {
          "base_uri": "https://localhost:8080/",
          "height": 1000
        }
      },
      "source": [
        "theta,J_hist = gradient_descent_NN2(x_train, y_train, initial_theta, lam, max_itr, alpha, hl1Size, hl2Size)\n",
        "i=np.arange(1,35001,1) \n",
        "plt.plot(i,J_hist)\n",
        "plt.show()  \n",
        "print(J_hist[34990,0])\n",
        "#learning_curve2(hl1Size,hl2Size,numLabel,x_train, x_val, y_train, y_val, theta, lam)\n",
        "\n",
        "[J,grad,h_train]=cost_function_NN2(theta, hl1Size,hl2Size, numLabel, x_train, y_train)\n",
        "h_train,acc=prediction(h_train,y_train)\n",
        "print(\"\\naccuracy (train):  \",acc)\n",
        "\n",
        "[J,grad,h_test]=cost_function_NN2(theta, hl1Size,hl2Size, numLabel, x_test, y_test)\n",
        "\n",
        "h_test,acc=prediction(h_test,y_test)\n",
        "print(\"\\naccuracy:  \",acc)    \n",
        "for i in range(y_test.shape[0]):\n",
        "    print( \"{}      {} \" .format(h_test[i] , y_test[i]))"
      ],
      "execution_count": 35,
      "outputs": [
        {
          "output_type": "stream",
          "text": [
            "0\n",
            "1000\n",
            "2000\n",
            "3000\n",
            "4000\n",
            "5000\n",
            "6000\n",
            "7000\n",
            "8000\n",
            "9000\n",
            "10000\n",
            "11000\n",
            "12000\n",
            "13000\n",
            "14000\n",
            "15000\n",
            "16000\n",
            "17000\n",
            "18000\n",
            "19000\n",
            "20000\n",
            "21000\n",
            "22000\n",
            "23000\n",
            "24000\n",
            "25000\n",
            "26000\n",
            "27000\n",
            "28000\n",
            "29000\n",
            "30000\n",
            "31000\n",
            "32000\n",
            "33000\n",
            "34000\n"
          ],
          "name": "stdout"
        },
        {
          "output_type": "display_data",
          "data": {
            "image/png": "[encoded data removed]",
            "text/plain": [
              "<Figure size 1440x864 with 1 Axes>"
            ]
          },
          "metadata": {
            "tags": [],
            "needs_background": "light"
          }
        },
        {
          "output_type": "stream",
          "text": [
            "1.1074386685884794\n",
            "\n",
            "accuracy (train):   72.5\n",
            "\n",
            "accuracy:   60.0\n",
            "[0. 1. 0. 0.]      [0. 1. 0. 0.] \n",
            "[0. 0. 1. 0.]      [0. 0. 0. 1.] \n",
            "[0. 0. 1. 0.]      [0. 0. 1. 0.] \n",
            "[0. 1. 0. 0.]      [0. 1. 0. 0.] \n",
            "[0. 0. 1. 0.]      [0. 0. 0. 1.] \n",
            "[0. 0. 1. 0.]      [0. 0. 1. 0.] \n",
            "[0. 0. 1. 0.]      [0. 0. 0. 1.] \n",
            "[0. 0. 0. 1.]      [0. 0. 0. 1.] \n",
            "[0. 0. 1. 0.]      [0. 0. 1. 0.] \n",
            "[0. 1. 0. 0.]      [0. 1. 0. 0.] \n",
            "[0. 0. 0. 1.]      [0. 0. 1. 0.] \n",
            "[0. 0. 0. 1.]      [1. 0. 0. 0.] \n",
            "[0. 0. 1. 0.]      [1. 0. 0. 0.] \n",
            "[0. 0. 1. 0.]      [1. 0. 0. 0.] \n",
            "[0. 0. 1. 0.]      [0. 0. 0. 1.] \n",
            "[0. 0. 1. 0.]      [0. 0. 1. 0.] \n",
            "[0. 1. 0. 0.]      [0. 1. 0. 0.] \n",
            "[0. 0. 1. 0.]      [0. 0. 1. 0.] \n",
            "[1. 0. 0. 0.]      [1. 0. 0. 0.] \n",
            "[0. 0. 0. 1.]      [0. 0. 1. 0.] \n",
            "[0. 0. 0. 1.]      [1. 0. 0. 0.] \n",
            "[0. 0. 0. 1.]      [0. 0. 0. 1.] \n",
            "[0. 0. 0. 1.]      [0. 0. 0. 1.] \n",
            "[0. 1. 0. 0.]      [0. 1. 0. 0.] \n",
            "[1. 0. 0. 0.]      [1. 0. 0. 0.] \n",
            "[0. 1. 0. 0.]      [0. 1. 0. 0.] \n",
            "[0. 1. 0. 0.]      [0. 1. 0. 0.] \n",
            "[0. 0. 0. 1.]      [0. 0. 1. 0.] \n",
            "[0. 0. 0. 1.]      [1. 0. 0. 0.] \n",
            "[0. 0. 1. 0.]      [1. 0. 0. 0.] \n",
            "[0. 1. 0. 0.]      [1. 0. 0. 0.] \n",
            "[0. 0. 0. 1.]      [0. 0. 0. 1.] \n",
            "[0. 1. 0. 0.]      [0. 1. 0. 0.] \n",
            "[0. 0. 1. 0.]      [1. 0. 0. 0.] \n",
            "[0. 1. 0. 0.]      [0. 1. 0. 0.] \n",
            "[0. 0. 1. 0.]      [0. 0. 1. 0.] \n",
            "[0. 0. 0. 1.]      [1. 0. 0. 0.] \n",
            "[0. 0. 0. 1.]      [0. 0. 0. 1.] \n",
            "[0. 0. 0. 1.]      [1. 0. 0. 0.] \n",
            "[0. 0. 0. 1.]      [0. 0. 0. 1.] \n",
            "[0. 0. 1. 0.]      [0. 0. 1. 0.] \n",
            "[1. 0. 0. 0.]      [1. 0. 0. 0.] \n",
            "[0. 0. 0. 1.]      [1. 0. 0. 0.] \n",
            "[0. 0. 0. 1.]      [0. 0. 1. 0.] \n",
            "[0. 1. 0. 0.]      [0. 0. 1. 0.] \n",
            "[0. 0. 0. 1.]      [0. 0. 1. 0.] \n",
            "[0. 0. 0. 1.]      [0. 0. 1. 0.] \n",
            "[0. 1. 0. 0.]      [0. 1. 0. 0.] \n",
            "[1. 0. 0. 0.]      [0. 1. 0. 0.] \n",
            "[0. 0. 1. 0.]      [1. 0. 0. 0.] \n",
            "[0. 0. 0. 1.]      [1. 0. 0. 0.] \n",
            "[1. 0. 0. 0.]      [1. 0. 0. 0.] \n",
            "[0. 1. 0. 0.]      [0. 1. 0. 0.] \n",
            "[0. 0. 1. 0.]      [0. 0. 1. 0.] \n",
            "[1. 0. 0. 0.]      [0. 0. 1. 0.] \n",
            "[0. 1. 0. 0.]      [0. 1. 0. 0.] \n",
            "[0. 0. 0. 1.]      [0. 0. 0. 1.] \n",
            "[0. 0. 0. 1.]      [1. 0. 0. 0.] \n",
            "[0. 0. 0. 1.]      [0. 0. 0. 1.] \n",
            "[1. 0. 0. 0.]      [1. 0. 0. 0.] \n",
            "[0. 0. 1. 0.]      [1. 0. 0. 0.] \n",
            "[0. 1. 0. 0.]      [0. 1. 0. 0.] \n",
            "[0. 0. 1. 0.]      [0. 0. 1. 0.] \n",
            "[0. 0. 1. 0.]      [0. 1. 0. 0.] \n",
            "[0. 0. 0. 1.]      [0. 0. 0. 1.] \n",
            "[0. 0. 0. 1.]      [1. 0. 0. 0.] \n",
            "[0. 0. 1. 0.]      [0. 0. 1. 0.] \n",
            "[0. 0. 0. 1.]      [0. 0. 1. 0.] \n",
            "[0. 1. 0. 0.]      [0. 1. 0. 0.] \n",
            "[0. 1. 0. 0.]      [0. 1. 0. 0.] \n",
            "[0. 1. 0. 0.]      [0. 1. 0. 0.] \n",
            "[0. 0. 1. 0.]      [0. 0. 1. 0.] \n",
            "[0. 1. 0. 0.]      [0. 1. 0. 0.] \n",
            "[0. 0. 0. 1.]      [0. 0. 0. 1.] \n",
            "[0. 1. 0. 0.]      [0. 1. 0. 0.] \n",
            "[0. 0. 1. 0.]      [0. 0. 1. 0.] \n",
            "[0. 0. 1. 0.]      [0. 0. 1. 0.] \n",
            "[0. 0. 0. 1.]      [1. 0. 0. 0.] \n",
            "[0. 0. 1. 0.]      [0. 0. 1. 0.] \n",
            "[0. 1. 0. 0.]      [0. 1. 0. 0.] \n"
          ],
          "name": "stdout"
        }
      ]
    },
    {
      "cell_type": "code",
      "metadata": {
        "id": "DEnwC74urmLy",
        "colab_type": "code",
        "outputId": "327d441d-0744-4cbd-9b50-69a4cecb3af8",
        "colab": {
          "base_uri": "https://localhost:8080/",
          "height": 35
        }
      },
      "source": [
        "print(J_hist[990,0]) #13  2.828...."
      ],
      "execution_count": 24,
      "outputs": [
        {
          "output_type": "stream",
          "text": [
            "2.246817219333197\n"
          ],
          "name": "stdout"
        }
      ]
    }
  ]
}