{
  "nbformat": 4,
  "nbformat_minor": 0,
  "metadata": {
    "colab": {
      "name": "revisedNN2L.ipynb",
      "provenance": []
    },
    "kernelspec": {
      "name": "python3",
      "display_name": "Python 3"
    },
    "accelerator": "GPU"
  },
  "cells": [
    {
      "cell_type": "code",
      "metadata": {
        "id": "b7H7q90Jy2UG",
        "colab_type": "code",
        "colab": {}
      },
      "source": [
        "# Revised Neural Network"
      ],
      "execution_count": 0,
      "outputs": []
    },
    {
      "cell_type": "code",
      "metadata": {
        "id": "-R_gQYyXzvzs",
        "colab_type": "code",
        "colab": {}
      },
      "source": [
        "import pandas as pd\n",
        "import numpy as np\n",
        "from sklearn.model_selection import train_test_split\n",
        "import matplotlib.pyplot as plt\n",
        "from numpy import savetxt\n",
        "from pylab import rcParams\n",
        "rcParams['figure.figsize'] = 20, 12"
      ],
      "execution_count": 0,
      "outputs": []
    },
    {
      "cell_type": "code",
      "metadata": {
        "id": "zObInrkA7jQa",
        "colab_type": "code",
        "colab": {}
      },
      "source": [
        "op_cases = 4\n",
        "train_df = pd.read_csv(\"TrainData4.csv\")\n",
        "data_t = train_df.to_numpy()\n",
        "x_train = data_t[:,1:29].T\n",
        "y_train = data_t[:,29:33].T\n",
        "\n",
        "test_df = pd.read_csv(\"TestData4.csv\")\n",
        "data_te = test_df.to_numpy()\n",
        "x_test = data_te[:,1:29].T\n",
        "y_test = data_te[:,29:33].T"
      ],
      "execution_count": 0,
      "outputs": []
    },
    {
      "cell_type": "code",
      "metadata": {
        "id": "3sIX0Htr8CuA",
        "colab_type": "code",
        "colab": {
          "base_uri": "https://localhost:8080/",
          "height": 35
        },
        "outputId": "c3435ce2-acfb-46a5-bf02-5024a123396e"
      },
      "source": [
        "print(y_train.shape)"
      ],
      "execution_count": 41,
      "outputs": [
        {
          "output_type": "stream",
          "text": [
            "(4, 320)\n"
          ],
          "name": "stdout"
        }
      ]
    },
    {
      "cell_type": "code",
      "metadata": {
        "id": "TB-eN-nQ8Q0I",
        "colab_type": "code",
        "colab": {}
      },
      "source": [
        "def initialize_parameters(n_x, n_h, n_y):    \n",
        "    np.random.seed(1)\n",
        "\n",
        "    W1 = np.random.randn(n_h,n_x) * .01\n",
        "    b1 = np.zeros((n_h,1))\n",
        "    W2 = np.random.randn(n_y,n_h) * .01\n",
        "    b2 = np.zeros((n_y,1))\n",
        "    \n",
        "    assert(W1.shape == (n_h, n_x))\n",
        "    assert(b1.shape == (n_h, 1))\n",
        "    assert(W2.shape == (n_y, n_h))\n",
        "    assert(b2.shape == (n_y, 1))\n",
        "    \n",
        "    parameters = {\"W1\": W1,\n",
        "                  \"b1\": b1,\n",
        "                  \"W2\": W2,\n",
        "                  \"b2\": b2}\n",
        "    \n",
        "    return parameters   "
      ],
      "execution_count": 0,
      "outputs": []
    },
    {
      "cell_type": "code",
      "metadata": {
        "id": "tfFdoYYj-BRX",
        "colab_type": "code",
        "colab": {}
      },
      "source": [
        "# calculate Z for forward propogation\n",
        "def linear_forward(A, W, b):    \n",
        "    \n",
        "    Z = np.dot(W,A) + b\n",
        "\n",
        "    assert(Z.shape == (W.shape[0], A.shape[1]))\n",
        "    # storing parameters and A in cache\n",
        "    cache = (A, W, b)\n",
        "    \n",
        "    return Z, cache"
      ],
      "execution_count": 0,
      "outputs": []
    },
    {
      "cell_type": "code",
      "metadata": {
        "id": "ocNYK7w5_7mT",
        "colab_type": "code",
        "colab": {}
      },
      "source": [
        "def sigmoid(Z):\n",
        "    A = 1/(1+np.exp(-Z))\n",
        "    \n",
        "    cache = Z\n",
        "    return A, cache\n",
        "\n",
        "def relu(Z):\n",
        "    A = np.maximum(0,Z)\n",
        "\n",
        "    assert(A.shape==Z.shape)\n",
        "    cache = Z\n",
        "    return A, cache\n",
        "\n",
        "def tanh(Z):\n",
        "    A = ( np.exp(Z)-np.exp(-Z) )/( np.exp(Z)+np.exp(-Z))\n",
        "\n",
        "    assert(A.shape == Z.shape)\n",
        "    cache = Z\n",
        "    return A, cache"
      ],
      "execution_count": 0,
      "outputs": []
    },
    {
      "cell_type": "code",
      "metadata": {
        "id": "ZRxOGq5t_Dq5",
        "colab_type": "code",
        "colab": {}
      },
      "source": [
        "# forward propogation function\n",
        "def linear_activation_forward(A_prev, W, b, activation):\n",
        "    if activation == \"sigmoid\":\n",
        "        Z, linear_cache = linear_forward(A_prev,W,b)\n",
        "        A, activation_cache = sigmoid(Z)\n",
        "    \n",
        "    elif activation == \"relu\":\n",
        "        Z, linear_cache = linear_forward(A_prev,W,b)\n",
        "        A, activation_cache = relu(Z)\n",
        "\n",
        "    elif activation == \"tanh\":\n",
        "        Z, linear_cache = linear_forward(A_prev,W,b)\n",
        "        A, activation_cache = tanh(Z)\n",
        "    assert (A.shape == (W.shape[0], A_prev.shape[1]))\n",
        "    cache = (linear_cache, activation_cache)\n",
        "\n",
        "    return A, cache"
      ],
      "execution_count": 0,
      "outputs": []
    },
    {
      "cell_type": "code",
      "metadata": {
        "id": "oXhzMcptD456",
        "colab_type": "code",
        "colab": {}
      },
      "source": [
        "def compute_cost(AL,Y):\n",
        "    m = Y.shape[1]\n",
        "\n",
        "    cost = -1/m * np.sum( Y*np.log(AL + 1e-20) + (1-Y)*np.log(1-AL + 1e-20))\n",
        "    cost = np.squeeze(cost)\n",
        "    assert(cost.shape == ())\n",
        "    return cost"
      ],
      "execution_count": 0,
      "outputs": []
    },
    {
      "cell_type": "code",
      "metadata": {
        "id": "R-H9Oo5mGyAv",
        "colab_type": "code",
        "colab": {}
      },
      "source": [
        "def linear_backward(dZ, cache):\n",
        "    A_prev, W, b = cache\n",
        "    m = A_prev.shape[1]\n",
        "\n",
        "    dW = 1/m * np.dot(dZ,A_prev.T)\n",
        "    db = 1/m * np.sum(dZ,axis=1,keepdims=True)\n",
        "    dA_prev = np.dot(W.T,dZ)\n",
        "    \n",
        "    assert (dA_prev.shape == A_prev.shape)\n",
        "    assert (dW.shape == W.shape)\n",
        "    assert (db.shape == b.shape)\n",
        "    \n",
        "    return dA_prev, dW, db"
      ],
      "execution_count": 0,
      "outputs": []
    },
    {
      "cell_type": "code",
      "metadata": {
        "id": "DqkjaTpDJehE",
        "colab_type": "code",
        "colab": {}
      },
      "source": [
        "def relu_backward(dA, cache):\n",
        "    Z = cache\n",
        "    dZ = np.array(dA, copy=True) # just converting dz to a correct object.\n",
        "    # When z <= 0, you should set dz to 0 as well. \n",
        "    dZ[Z <= 0] = 0\n",
        "    \n",
        "    assert (dZ.shape == Z.shape)\n",
        "    return dZ\n",
        "\n",
        "def sigmoid_backward(dA, cache):\n",
        "    Z = cache\n",
        "    s =  1/(1+np.exp(-Z))\n",
        "    dZ = dA * s * (1-s)\n",
        "\n",
        "    assert(dZ.shape == Z.shape)\n",
        "    return dZ\n",
        "\n",
        "def tanh_backward(dA,cache):\n",
        "    Z = cache\n",
        "    t = ( np.exp(Z)-np.exp(-Z) )/( np.exp(Z)+np.exp(-Z))\n",
        "    dtanh = 1 - np.power(t,2)\n",
        "    dZ = dA * dtanh\n",
        "\n",
        "    assert(dZ.shape==Z.shape)\n",
        "    return dZ"
      ],
      "execution_count": 0,
      "outputs": []
    },
    {
      "cell_type": "code",
      "metadata": {
        "id": "rnQQFqaiJGx6",
        "colab_type": "code",
        "colab": {}
      },
      "source": [
        "def linear_activation_backward(dA, cache, activation):\n",
        "    linear_cache, activation_cache = cache\n",
        "    # linear cache  -> A_prev, W, b\n",
        "    # activation cache -> Z\n",
        "    \n",
        "    if activation == \"relu\":\n",
        "        dZ = relu_backward(dA, activation_cache)\n",
        "        dA_prev, dW, db = linear_backward(dZ, linear_cache)\n",
        "        \n",
        "    elif activation == \"sigmoid\":\n",
        "        dZ = sigmoid_backward(dA, activation_cache)\n",
        "        dA_prev, dW, db = linear_backward(dZ, linear_cache)\n",
        "        \n",
        "    elif activation == \"tanh\":\n",
        "        dZ = tanh_backward(dA, activation_cache)\n",
        "        dA_prev, dW, db = linear_backward(dZ, linear_cache)\n",
        "        \n",
        "    return dA_prev, dW, db"
      ],
      "execution_count": 0,
      "outputs": []
    },
    {
      "cell_type": "code",
      "metadata": {
        "id": "2daqo5bwO-ED",
        "colab_type": "code",
        "colab": {}
      },
      "source": [
        "# gradient descent\n",
        "def update_parameters(parameters, grads, learning_rate):\n",
        "   \n",
        "    L = len(parameters) // 2 # number of layers in the neural network\n",
        "\n",
        "    # Update rule for each parameter. Use a for loop.\n",
        "    ### START CODE HERE ### (≈ 3 lines of code)\n",
        "    for l in range(L):\n",
        "        parameters[\"W\" + str(l+1)] = parameters[\"W\" + str(l+1)] - learning_rate * grads[\"dW\" + str(l+1)]\n",
        "        parameters[\"b\" + str(l+1)] = parameters[\"b\" + str(l+1)] - learning_rate * grads[\"db\" + str(l+1)]\n",
        "    ### END CODE HERE ###\n",
        "    return parameters"
      ],
      "execution_count": 0,
      "outputs": []
    },
    {
      "cell_type": "code",
      "metadata": {
        "id": "CNA8647FMjJk",
        "colab_type": "code",
        "colab": {}
      },
      "source": [
        "n_x = 28\n",
        "n_h = 20\n",
        "n_y = 4\n",
        "layers_dims = (n_x,n_h,n_y)"
      ],
      "execution_count": 0,
      "outputs": []
    },
    {
      "cell_type": "code",
      "metadata": {
        "id": "vPTvAOPJMUfP",
        "colab_type": "code",
        "colab": {}
      },
      "source": [
        "def two_layer_model(X,Y,layers_dims,learning_rate = .005, num_iterations = 3000,  print_cost=False):\n",
        "    np.random.seed(1)\n",
        "    grads = {}\n",
        "    costs = []                              # to keep track of the cost\n",
        "    m = X.shape[1]                           # number of examples\n",
        "    (n_x, n_h, n_y) = layers_dims\n",
        "    \n",
        "    # initialising parameters\n",
        "    parameters = initialize_parameters(n_x, n_h, n_y)\n",
        "    \n",
        "    # Get W1, b1, W2 and b2 from the dictionary parameters.\n",
        "    W1 = parameters[\"W1\"]\n",
        "    b1 = parameters[\"b1\"]\n",
        "    W2 = parameters[\"W2\"]\n",
        "    b2 = parameters[\"b2\"]\n",
        "    \n",
        "    # Loop (gradient descent)\n",
        "\n",
        "    for i in range(0, num_iterations):\n",
        "        # varying learning rate with iterations\n",
        "        if(i%10000==0):\n",
        "            learning_rate = learning_rate*.6\n",
        "        # Forward propagation: LINEAR -> RELU -> LINEAR -> SIGMOID. Inputs: \"X, W1, b1, W2, b2\". Output: \"A1, cache1, A2, cache2\".\n",
        "        A1, cache1 = linear_activation_forward(X, W1, b1, activation=\"relu\")\n",
        "        A2, cache2 = linear_activation_forward(A1, W2, b2, activation=\"sigmoid\")\n",
        "        \n",
        "        # Compute cost\n",
        "        cost = compute_cost(A2, Y)\n",
        "        \n",
        "        # Initializing backward propagation\n",
        "        dA2 = - (np.divide(Y, A2) - np.divide(1 - Y, 1 - A2))\n",
        "        \n",
        "        # Backward propagation. Inputs: \"dA2, cache2, cache1\". Outputs: \"dA1, dW2, db2; also dA0 (not used), dW1, db1\".\n",
        "        dA1, dW2, db2 = linear_activation_backward(dA2, cache2, activation=\"sigmoid\")\n",
        "        dA0, dW1, db1 = linear_activation_backward(dA1, cache1, activation=\"relu\")\n",
        "        \n",
        "        # Set grads['dWl'] to dW1, grads['db1'] to db1, grads['dW2'] to dW2, grads['db2'] to db2\n",
        "        grads['dW1'] = dW1\n",
        "        grads['db1'] = db1\n",
        "        grads['dW2'] = dW2\n",
        "        grads['db2'] = db2\n",
        "        \n",
        "        # Update parameters.\n",
        "        parameters = update_parameters(parameters, grads, learning_rate)\n",
        "        \n",
        "        # Retrieve W1, b1, W2, b2 from parameters\n",
        "        W1 = parameters[\"W1\"]\n",
        "        b1 = parameters[\"b1\"]\n",
        "        W2 = parameters[\"W2\"]\n",
        "        b2 = parameters[\"b2\"]\n",
        "        \n",
        "        # Print the cost every 100 training example\n",
        "        if print_cost and i % 100 == 0:\n",
        "            print(\"Cost after iteration {}: {}\".format(i, np.squeeze(cost)))\n",
        "        #if print_cost and i % 100 == 0:\n",
        "        costs.append(cost)\n",
        "        \n",
        "    # plot the cost\n",
        "\n",
        "    plt.plot(np.squeeze(costs))\n",
        "    plt.ylabel('cost')\n",
        "    plt.xlabel('iterations (per hundreds)')\n",
        "    plt.title(\"Learning rate =\" + str(learning_rate))\n",
        "    plt.show()\n",
        "    \n",
        "    return parameters     "
      ],
      "execution_count": 0,
      "outputs": []
    },
    {
      "cell_type": "code",
      "metadata": {
        "id": "wgUjwxYGTqiX",
        "colab_type": "code",
        "colab": {
          "base_uri": "https://localhost:8080/",
          "height": 54
        },
        "outputId": "81e68f63-e630-4b80-ef25-d68e9147b181"
      },
      "source": [
        "print(y_train.size)\n",
        "print(y_train.shape)"
      ],
      "execution_count": 63,
      "outputs": [
        {
          "output_type": "stream",
          "text": [
            "1280\n",
            "(4, 320)\n"
          ],
          "name": "stdout"
        }
      ]
    },
    {
      "cell_type": "code",
      "metadata": {
        "id": "MvVIg-XISq5N",
        "colab_type": "code",
        "colab": {}
      },
      "source": [
        "# using last layer as sigmoid layer\n",
        "def predict(X,Y,parameters):\n",
        "    \n",
        "    # Computes probabilities using forward propagation, and classifies to 0/1 using 0.5 as the threshold.\n",
        "    W1 = parameters[\"W1\"]\n",
        "    b1 = parameters[\"b1\"]\n",
        "    W2 = parameters[\"W2\"]\n",
        "    b2 = parameters[\"b2\"]\n",
        "    A1, cache1 = linear_activation_forward(X, W1, b1, activation=\"relu\")\n",
        "    A2, cache2 = linear_activation_forward(A1, W2, b2, activation=\"sigmoid\")\n",
        "    predictions = np.zeros(Y.shape)\n",
        "    for j in range(Y.shape[1]):\n",
        "        max=0;\n",
        "        for i in range(Y.shape[0]):\n",
        "            if(A2[i,j]>=max):\n",
        "                i_max = i \n",
        "                max = A2[i,j]\n",
        "        predictions[i_max,j] = 1\n",
        "    \n",
        "    # finding accuracy\n",
        "    I = np.identity(Y.shape[0], dtype = 'float')\n",
        "    acc = (float( np.sum(np.dot(Y,predictions.T)*I) + np.sum(np.dot(1-Y,1-predictions.T)*I) )) / float(Y.size) * 100\n",
        "    return predictions,acc"
      ],
      "execution_count": 0,
      "outputs": []
    },
    {
      "cell_type": "code",
      "metadata": {
        "id": "FRvjxYm3PN4h",
        "colab_type": "code",
        "colab": {
          "base_uri": "https://localhost:8080/",
          "height": 1000
        },
        "outputId": "3123c385-5eda-48a0-b724-1f8df44613ab"
      },
      "source": [
        "parameters = two_layer_model(x_train, y_train, layers_dims = (n_x, n_h, n_y), learning_rate = .13, num_iterations=40000 , print_cost=True)"
      ],
      "execution_count": 134,
      "outputs": [
        {
          "output_type": "stream",
          "text": [
            "Cost after iteration 0: 2.772826102107249\n",
            "Cost after iteration 100: 2.263328538759136\n",
            "Cost after iteration 200: 2.248391794465337\n",
            "Cost after iteration 300: 2.2479686424576104\n",
            "Cost after iteration 400: 2.247911600437086\n",
            "Cost after iteration 500: 2.2478368063678027\n",
            "Cost after iteration 600: 2.2477193300645575\n",
            "Cost after iteration 700: 2.247533192406635\n",
            "Cost after iteration 800: 2.2472372811088572\n",
            "Cost after iteration 900: 2.246765928825946\n",
            "Cost after iteration 1000: 2.246016970485976\n",
            "Cost after iteration 1100: 2.244834947763209\n",
            "Cost after iteration 1200: 2.2429935696410817\n",
            "Cost after iteration 1300: 2.240151689735062\n",
            "Cost after iteration 1400: 2.2358065705678825\n",
            "Cost after iteration 1500: 2.2292521898840256\n",
            "Cost after iteration 1600: 2.2195223798731605\n",
            "Cost after iteration 1700: 2.205431645307654\n",
            "Cost after iteration 1800: 2.1859063554746934\n",
            "Cost after iteration 1900: 2.1600509530234633\n",
            "Cost after iteration 2000: 2.1276740546831348\n",
            "Cost after iteration 2100: 2.0903427292216334\n",
            "Cost after iteration 2200: 2.0511334820333396\n",
            "Cost after iteration 2300: 2.0134173518957152\n",
            "Cost after iteration 2400: 1.9795458367549406\n",
            "Cost after iteration 2500: 1.9505203986699564\n",
            "Cost after iteration 2600: 1.9262923077726413\n",
            "Cost after iteration 2700: 1.9061948384346488\n",
            "Cost after iteration 2800: 1.8894038024642628\n",
            "Cost after iteration 2900: 1.8755061205857395\n",
            "Cost after iteration 3000: 1.8631074970343098\n",
            "Cost after iteration 3100: 1.8518464322972545\n",
            "Cost after iteration 3200: 1.842389719517363\n",
            "Cost after iteration 3300: 1.834172736123263\n",
            "Cost after iteration 3400: 1.8259775788256574\n",
            "Cost after iteration 3500: 1.819115757283752\n",
            "Cost after iteration 3600: 1.8125642518935061\n",
            "Cost after iteration 3700: 1.8065619695279924\n",
            "Cost after iteration 3800: 1.8009981566891966\n",
            "Cost after iteration 3900: 1.7955719121996225\n",
            "Cost after iteration 4000: 1.7904166142607167\n",
            "Cost after iteration 4100: 1.7853403291482206\n",
            "Cost after iteration 4200: 1.7793385137240243\n",
            "Cost after iteration 4300: 1.7742932556157243\n",
            "Cost after iteration 4400: 1.7693630496167037\n",
            "Cost after iteration 4500: 1.764405808523926\n",
            "Cost after iteration 4600: 1.7594258951176025\n",
            "Cost after iteration 4700: 1.7543567136031184\n",
            "Cost after iteration 4800: 1.749149024823111\n",
            "Cost after iteration 4900: 1.7437805160991333\n",
            "Cost after iteration 5000: 1.7382081734426522\n",
            "Cost after iteration 5100: 1.7323920159479578\n",
            "Cost after iteration 5200: 1.7262972749437364\n",
            "Cost after iteration 5300: 1.7199039815237924\n",
            "Cost after iteration 5400: 1.713138984883524\n",
            "Cost after iteration 5500: 1.7060470471728282\n",
            "Cost after iteration 5600: 1.6986224045588907\n",
            "Cost after iteration 5700: 1.6908574482389018\n",
            "Cost after iteration 5800: 1.6827668612011006\n",
            "Cost after iteration 5900: 1.6743878784178188\n",
            "Cost after iteration 6000: 1.665687021016138\n",
            "Cost after iteration 6100: 1.6567889828279807\n",
            "Cost after iteration 6200: 1.6474245253031765\n",
            "Cost after iteration 6300: 1.6375688355301798\n",
            "Cost after iteration 6400: 1.627896169603361\n",
            "Cost after iteration 6500: 1.6183826386491333\n",
            "Cost after iteration 6600: 1.6084317630947425\n",
            "Cost after iteration 6700: 1.598731975824264\n",
            "Cost after iteration 6800: 1.5894271721765492\n",
            "Cost after iteration 6900: 1.5805599798034018\n",
            "Cost after iteration 7000: 1.5721128307703651\n",
            "Cost after iteration 7100: 1.5640876512345407\n",
            "Cost after iteration 7200: 1.5565137902836164\n",
            "Cost after iteration 7300: 1.5494039805103705\n",
            "Cost after iteration 7400: 1.5427619621034967\n",
            "Cost after iteration 7500: 1.536556269122652\n",
            "Cost after iteration 7600: 1.5307535379552397\n",
            "Cost after iteration 7700: 1.5253430637040715\n",
            "Cost after iteration 7800: 1.5203204221918225\n",
            "Cost after iteration 7900: 1.5156607346609432\n",
            "Cost after iteration 8000: 1.5113209276186053\n",
            "Cost after iteration 8100: 1.5072824495849686\n",
            "Cost after iteration 8200: 1.503527361594232\n",
            "Cost after iteration 8300: 1.5000380728220053\n",
            "Cost after iteration 8400: 1.4967881495243944\n",
            "Cost after iteration 8500: 1.4937547662584407\n",
            "Cost after iteration 8600: 1.4909167923259965\n",
            "Cost after iteration 8700: 1.4882556890663516\n",
            "Cost after iteration 8800: 1.4857568618021733\n",
            "Cost after iteration 8900: 1.4833527663230182\n",
            "Cost after iteration 9000: 1.4811076119139521\n",
            "Cost after iteration 9100: 1.4789879889730437\n",
            "Cost after iteration 9200: 1.4769764201397706\n",
            "Cost after iteration 9300: 1.475061586497607\n",
            "Cost after iteration 9400: 1.4732349042201804\n",
            "Cost after iteration 9500: 1.47148437439908\n",
            "Cost after iteration 9600: 1.4698059529045016\n",
            "Cost after iteration 9700: 1.4681903611173255\n",
            "Cost after iteration 9800: 1.4666335399342403\n",
            "Cost after iteration 9900: 1.4651293640387906\n",
            "Cost after iteration 10000: 1.463673221251746\n",
            "Cost after iteration 10100: 1.4628214324158342\n",
            "Cost after iteration 10200: 1.4619854848611906\n",
            "Cost after iteration 10300: 1.4611636958949645\n",
            "Cost after iteration 10400: 1.4603551341831946\n",
            "Cost after iteration 10500: 1.4595597464149035\n",
            "Cost after iteration 10600: 1.458776012574238\n",
            "Cost after iteration 10700: 1.4580038172391363\n",
            "Cost after iteration 10800: 1.4572424153579244\n",
            "Cost after iteration 10900: 1.4564913256658558\n",
            "Cost after iteration 11000: 1.4557500783787372\n",
            "Cost after iteration 11100: 1.4550181616722702\n",
            "Cost after iteration 11200: 1.4542953932493439\n",
            "Cost after iteration 11300: 1.4535809110466749\n",
            "Cost after iteration 11400: 1.4528743749739101\n",
            "Cost after iteration 11500: 1.4521756318330497\n",
            "Cost after iteration 11600: 1.4514843134507378\n",
            "Cost after iteration 11700: 1.4507996841849717\n",
            "Cost after iteration 11800: 1.4501216369882703\n",
            "Cost after iteration 11900: 1.4494499667406586\n",
            "Cost after iteration 12000: 1.448784629881633\n",
            "Cost after iteration 12100: 1.4481244948837297\n",
            "Cost after iteration 12200: 1.4474699291361082\n",
            "Cost after iteration 12300: 1.446820723041466\n",
            "Cost after iteration 12400: 1.4461765015737618\n",
            "Cost after iteration 12500: 1.4455368393859953\n",
            "Cost after iteration 12600: 1.4449016663781\n",
            "Cost after iteration 12700: 1.4442711887144477\n",
            "Cost after iteration 12800: 1.443644515792244\n",
            "Cost after iteration 12900: 1.4430218654720997\n",
            "Cost after iteration 13000: 1.4424026759853206\n",
            "Cost after iteration 13100: 1.4417873128928456\n",
            "Cost after iteration 13200: 1.4411755204505823\n",
            "Cost after iteration 13300: 1.4405668388286719\n",
            "Cost after iteration 13400: 1.4399608350126376\n",
            "Cost after iteration 13500: 1.4393586711703563\n",
            "Cost after iteration 13600: 1.438758481630696\n",
            "Cost after iteration 13700: 1.438161335499745\n",
            "Cost after iteration 13800: 1.4375664883157429\n",
            "Cost after iteration 13900: 1.4369739907065933\n",
            "Cost after iteration 14000: 1.4363840275555715\n",
            "Cost after iteration 14100: 1.4357960510991779\n",
            "Cost after iteration 14200: 1.4352103182155806\n",
            "Cost after iteration 14300: 1.4346260473853936\n",
            "Cost after iteration 14400: 1.4340441026387283\n",
            "Cost after iteration 14500: 1.433463994161583\n",
            "Cost after iteration 14600: 1.4328850736895689\n",
            "Cost after iteration 14700: 1.43230836972241\n",
            "Cost after iteration 14800: 1.4317325930831464\n",
            "Cost after iteration 14900: 1.4311586657839368\n",
            "Cost after iteration 15000: 1.430585702655063\n",
            "Cost after iteration 15100: 1.4300159775069254\n",
            "Cost after iteration 15200: 1.429445571258461\n",
            "Cost after iteration 15300: 1.4288765698418926\n",
            "Cost after iteration 15400: 1.4283090144412829\n",
            "Cost after iteration 15500: 1.4277431481169955\n",
            "Cost after iteration 15600: 1.4271776715036453\n",
            "Cost after iteration 15700: 1.426613152414682\n",
            "Cost after iteration 15800: 1.4260494681358467\n",
            "Cost after iteration 15900: 1.4254864508471867\n",
            "Cost after iteration 16000: 1.4249237133967252\n",
            "Cost after iteration 16100: 1.4243621547785623\n",
            "Cost after iteration 16200: 1.4238008295038478\n",
            "Cost after iteration 16300: 1.4232401988622738\n",
            "Cost after iteration 16400: 1.422679575983075\n",
            "Cost after iteration 16500: 1.4221199685769794\n",
            "Cost after iteration 16600: 1.421560437002803\n",
            "Cost after iteration 16700: 1.4210013185779085\n",
            "Cost after iteration 16800: 1.4204424392043713\n",
            "Cost after iteration 16900: 1.4198835054864347\n",
            "Cost after iteration 17000: 1.419324596122197\n",
            "Cost after iteration 17100: 1.4187666138666521\n",
            "Cost after iteration 17200: 1.4182086288799973\n",
            "Cost after iteration 17300: 1.417650053625978\n",
            "Cost after iteration 17400: 1.4170923402981144\n",
            "Cost after iteration 17500: 1.4165339447964194\n",
            "Cost after iteration 17600: 1.4159645221016817\n",
            "Cost after iteration 17700: 1.415401991877821\n",
            "Cost after iteration 17800: 1.414839135292346\n",
            "Cost after iteration 17900: 1.4142760832473054\n",
            "Cost after iteration 18000: 1.413712246775943\n",
            "Cost after iteration 18100: 1.4131488707856235\n",
            "Cost after iteration 18200: 1.4125855009003097\n",
            "Cost after iteration 18300: 1.4120213474842715\n",
            "Cost after iteration 18400: 1.4114571441499575\n",
            "Cost after iteration 18500: 1.410892404672293\n",
            "Cost after iteration 18600: 1.4103272473184327\n",
            "Cost after iteration 18700: 1.409761722853879\n",
            "Cost after iteration 18800: 1.409196080097682\n",
            "Cost after iteration 18900: 1.408629298172345\n",
            "Cost after iteration 19000: 1.408063242948249\n",
            "Cost after iteration 19100: 1.4074958579962549\n",
            "Cost after iteration 19200: 1.4069278410930204\n",
            "Cost after iteration 19300: 1.406359694253995\n",
            "Cost after iteration 19400: 1.4057916515833662\n",
            "Cost after iteration 19500: 1.4052220621400209\n",
            "Cost after iteration 19600: 1.4046517699996266\n",
            "Cost after iteration 19700: 1.404081109417139\n",
            "Cost after iteration 19800: 1.403508552111296\n",
            "Cost after iteration 19900: 1.402934133274733\n",
            "Cost after iteration 20000: 1.4023593856424585\n",
            "Cost after iteration 20100: 1.4020144293726429\n",
            "Cost after iteration 20200: 1.401669008513094\n",
            "Cost after iteration 20300: 1.4013234228984877\n",
            "Cost after iteration 20400: 1.4009776892073016\n",
            "Cost after iteration 20500: 1.40063158496753\n",
            "Cost after iteration 20600: 1.400285175411606\n",
            "Cost after iteration 20700: 1.3999385453706927\n",
            "Cost after iteration 20800: 1.3995915922900444\n",
            "Cost after iteration 20900: 1.3992444444690988\n",
            "Cost after iteration 21000: 1.3988969302759215\n",
            "Cost after iteration 21100: 1.3985491969944825\n",
            "Cost after iteration 21200: 1.3982012557368826\n",
            "Cost after iteration 21300: 1.397852776496034\n",
            "Cost after iteration 21400: 1.3975042927161998\n",
            "Cost after iteration 21500: 1.3971553385677797\n",
            "Cost after iteration 21600: 1.3968061459623464\n",
            "Cost after iteration 21700: 1.3964563093488374\n",
            "Cost after iteration 21800: 1.3961064929376255\n",
            "Cost after iteration 21900: 1.3957558961980494\n",
            "Cost after iteration 22000: 1.3954049863336768\n",
            "Cost after iteration 22100: 1.3950539657627399\n",
            "Cost after iteration 22200: 1.3947023922199453\n",
            "Cost after iteration 22300: 1.3943505258758149\n",
            "Cost after iteration 22400: 1.3939985139262037\n",
            "Cost after iteration 22500: 1.3936458455570782\n",
            "Cost after iteration 22600: 1.3932932781344047\n",
            "Cost after iteration 22700: 1.392940310349944\n",
            "Cost after iteration 22800: 1.392586939765808\n",
            "Cost after iteration 22900: 1.3922335550609124\n",
            "Cost after iteration 23000: 1.3918796966560383\n",
            "Cost after iteration 23100: 1.3915254578179774\n",
            "Cost after iteration 23200: 1.3911711117625782\n",
            "Cost after iteration 23300: 1.3908162907616781\n",
            "Cost after iteration 23400: 1.390461109290416\n",
            "Cost after iteration 23500: 1.390105732772124\n",
            "Cost after iteration 23600: 1.3897498551697132\n",
            "Cost after iteration 23700: 1.3893938598818834\n",
            "Cost after iteration 23800: 1.3890373286903808\n",
            "Cost after iteration 23900: 1.3886807256824056\n",
            "Cost after iteration 24000: 1.3883235593525898\n",
            "Cost after iteration 24100: 1.3879660918898127\n",
            "Cost after iteration 24200: 1.387608181664059\n",
            "Cost after iteration 24300: 1.3872502860505802\n",
            "Cost after iteration 24400: 1.3868916332558852\n",
            "Cost after iteration 24500: 1.3865329284471501\n",
            "Cost after iteration 24600: 1.3861738849910932\n",
            "Cost after iteration 24700: 1.3858142800477988\n",
            "Cost after iteration 24800: 1.3854544445286527\n",
            "Cost after iteration 24900: 1.3850944497982671\n",
            "Cost after iteration 25000: 1.3847336863831192\n",
            "Cost after iteration 25100: 1.3843728266004693\n",
            "Cost after iteration 25200: 1.3840117606940514\n",
            "Cost after iteration 25300: 1.3836501334216125\n",
            "Cost after iteration 25400: 1.3832884360047581\n",
            "Cost after iteration 25500: 1.3829260425355023\n",
            "Cost after iteration 25600: 1.3825639148763271\n",
            "Cost after iteration 25700: 1.3822018473795943\n",
            "Cost after iteration 25800: 1.3818388849893102\n",
            "Cost after iteration 25900: 1.3814760534760386\n",
            "Cost after iteration 26000: 1.3811121543167264\n",
            "Cost after iteration 26100: 1.3807490679240282\n",
            "Cost after iteration 26200: 1.3803856029926707\n",
            "Cost after iteration 26300: 1.3800217436871778\n",
            "Cost after iteration 26400: 1.379657819773383\n",
            "Cost after iteration 26500: 1.379293749551561\n",
            "Cost after iteration 26600: 1.3789291752683912\n",
            "Cost after iteration 26700: 1.3785642426185678\n",
            "Cost after iteration 26800: 1.3781992810576416\n",
            "Cost after iteration 26900: 1.3778341903692612\n",
            "Cost after iteration 27000: 1.377468485025073\n",
            "Cost after iteration 27100: 1.377102460664414\n",
            "Cost after iteration 27200: 1.3767361032066385\n",
            "Cost after iteration 27300: 1.3763692725379244\n",
            "Cost after iteration 27400: 1.376002445677007\n",
            "Cost after iteration 27500: 1.3756347935920605\n",
            "Cost after iteration 27600: 1.3752673569188945\n",
            "Cost after iteration 27700: 1.3748995261759718\n",
            "Cost after iteration 27800: 1.3745310039542902\n",
            "Cost after iteration 27900: 1.3741622731324614\n",
            "Cost after iteration 28000: 1.3737939087041617\n",
            "Cost after iteration 28100: 1.373424954765604\n",
            "Cost after iteration 28200: 1.373056051755766\n",
            "Cost after iteration 28300: 1.3726859647260838\n",
            "Cost after iteration 28400: 1.3723161428914932\n",
            "Cost after iteration 28500: 1.3719464182098036\n",
            "Cost after iteration 28600: 1.3715757789674843\n",
            "Cost after iteration 28700: 1.3712052732215385\n",
            "Cost after iteration 28800: 1.3708339626919122\n",
            "Cost after iteration 28900: 1.3704626848747574\n",
            "Cost after iteration 29000: 1.3700915416931012\n",
            "Cost after iteration 29100: 1.3697193670217866\n",
            "Cost after iteration 29200: 1.3693469898538042\n",
            "Cost after iteration 29300: 1.3689748010838596\n",
            "Cost after iteration 29400: 1.368601892069167\n",
            "Cost after iteration 29500: 1.3682290964848969\n",
            "Cost after iteration 29600: 1.3678557859563187\n",
            "Cost after iteration 29700: 1.3674820458096466\n",
            "Cost after iteration 29800: 1.3671079647717865\n",
            "Cost after iteration 29900: 1.3667337791258145\n",
            "Cost after iteration 30000: 1.3663596598220682\n",
            "Cost after iteration 30100: 1.366134620205082\n",
            "Cost after iteration 30200: 1.3659098236941027\n",
            "Cost after iteration 30300: 1.3656845667103559\n",
            "Cost after iteration 30400: 1.3654595846765791\n",
            "Cost after iteration 30500: 1.3652343454182123\n",
            "Cost after iteration 30600: 1.3650089730483463\n",
            "Cost after iteration 30700: 1.3647837162983425\n",
            "Cost after iteration 30800: 1.3645580957536234\n",
            "Cost after iteration 30900: 1.3643323850416809\n",
            "Cost after iteration 31000: 1.3641067150938917\n",
            "Cost after iteration 31100: 1.3638811350032987\n",
            "Cost after iteration 31200: 1.3636552565288882\n",
            "Cost after iteration 31300: 1.3634291890401427\n",
            "Cost after iteration 31400: 1.363202903763173\n",
            "Cost after iteration 31500: 1.3629772194708312\n",
            "Cost after iteration 31600: 1.3627508101803443\n",
            "Cost after iteration 31700: 1.3625243842839263\n",
            "Cost after iteration 31800: 1.3622978611070389\n",
            "Cost after iteration 31900: 1.3620713024204385\n",
            "Cost after iteration 32000: 1.3618448231805598\n",
            "Cost after iteration 32100: 1.3616182652519124\n",
            "Cost after iteration 32200: 1.3613916037909797\n",
            "Cost after iteration 32300: 1.3611649574914673\n",
            "Cost after iteration 32400: 1.3609377947085566\n",
            "Cost after iteration 32500: 1.3607109310405299\n",
            "Cost after iteration 32600: 1.3604838509917965\n",
            "Cost after iteration 32700: 1.3602566594748529\n",
            "Cost after iteration 32800: 1.3600294604893468\n",
            "Cost after iteration 32900: 1.3598022038988\n",
            "Cost after iteration 33000: 1.359574692779257\n",
            "Cost after iteration 33100: 1.3593473992545624\n",
            "Cost after iteration 33200: 1.3591195710767705\n",
            "Cost after iteration 33300: 1.3588920012527508\n",
            "Cost after iteration 33400: 1.3586646305104626\n",
            "Cost after iteration 33500: 1.358437530620972\n",
            "Cost after iteration 33600: 1.3582096471625698\n",
            "Cost after iteration 33700: 1.3579818526622554\n",
            "Cost after iteration 33800: 1.3577543012670028\n",
            "Cost after iteration 33900: 1.3575263637208843\n",
            "Cost after iteration 34000: 1.357298243365235\n",
            "Cost after iteration 34100: 1.3570700931346393\n",
            "Cost after iteration 34200: 1.3568417901497059\n",
            "Cost after iteration 34300: 1.3566135234371213\n",
            "Cost after iteration 34400: 1.3563850497182586\n",
            "Cost after iteration 34500: 1.356156502432944\n",
            "Cost after iteration 34600: 1.3559281015211189\n",
            "Cost after iteration 34700: 1.355699191255865\n",
            "Cost after iteration 34800: 1.355470511806749\n",
            "Cost after iteration 34900: 1.355241586998634\n",
            "Cost after iteration 35000: 1.355012731358607\n",
            "Cost after iteration 35100: 1.3547837012384503\n",
            "Cost after iteration 35200: 1.3545545065052345\n",
            "Cost after iteration 35300: 1.35432545064925\n",
            "Cost after iteration 35400: 1.3540961226567365\n",
            "Cost after iteration 35500: 1.3538667679745657\n",
            "Cost after iteration 35600: 1.3536372239717593\n",
            "Cost after iteration 35700: 1.3534076406045932\n",
            "Cost after iteration 35800: 1.353178250218083\n",
            "Cost after iteration 35900: 1.3529486207087555\n",
            "Cost after iteration 36000: 1.352719030225626\n",
            "Cost after iteration 36100: 1.3524892256025614\n",
            "Cost after iteration 36200: 1.352258987776059\n",
            "Cost after iteration 36300: 1.3520291590131988\n",
            "Cost after iteration 36400: 1.3517988458127228\n",
            "Cost after iteration 36500: 1.351568688879202\n",
            "Cost after iteration 36600: 1.351338073268326\n",
            "Cost after iteration 36700: 1.3511074751351615\n",
            "Cost after iteration 36800: 1.3508769496707311\n",
            "Cost after iteration 36900: 1.3506463168685547\n",
            "Cost after iteration 37000: 1.3504157693354206\n",
            "Cost after iteration 37100: 1.3501847889997738\n",
            "Cost after iteration 37200: 1.3499538789413905\n",
            "Cost after iteration 37300: 1.349723064933566\n",
            "Cost after iteration 37400: 1.3494918265563163\n",
            "Cost after iteration 37500: 1.3492607577149318\n",
            "Cost after iteration 37600: 1.3490297038904329\n",
            "Cost after iteration 37700: 1.3487982747403338\n",
            "Cost after iteration 37800: 1.3485671278429159\n",
            "Cost after iteration 37900: 1.3483357463200178\n",
            "Cost after iteration 38000: 1.3481042013468334\n",
            "Cost after iteration 38100: 1.347873799961169\n",
            "Cost after iteration 38200: 1.3476433561281767\n",
            "Cost after iteration 38300: 1.3474128294652643\n",
            "Cost after iteration 38400: 1.3471820878634573\n",
            "Cost after iteration 38500: 1.3469515845982256\n",
            "Cost after iteration 38600: 1.3467209453379603\n",
            "Cost after iteration 38700: 1.3464903015361422\n",
            "Cost after iteration 38800: 1.3462594763279985\n",
            "Cost after iteration 38900: 1.3460283778573405\n",
            "Cost after iteration 39000: 1.3457976596261998\n",
            "Cost after iteration 39100: 1.3455667379063556\n",
            "Cost after iteration 39200: 1.3453360145427689\n",
            "Cost after iteration 39300: 1.345104753807896\n",
            "Cost after iteration 39400: 1.344873725193617\n",
            "Cost after iteration 39500: 1.3446425282210692\n",
            "Cost after iteration 39600: 1.3444115521276367\n",
            "Cost after iteration 39700: 1.344180206002796\n",
            "Cost after iteration 39800: 1.343949151745199\n",
            "Cost after iteration 39900: 1.343717425349415\n"
          ],
          "name": "stdout"
        },
        {
          "output_type": "display_data",
          "data": {
            "image/png": "[encoded data removed]",
            "text/plain": [
              "<Figure size 432x288 with 1 Axes>"
            ]
          },
          "metadata": {
            "tags": [],
            "needs_background": "light"
          }
        }
      ]
    },
    {
      "cell_type": "code",
      "metadata": {
        "id": "kkuh9bXnPkym",
        "colab_type": "code",
        "colab": {}
      },
      "source": [
        "predictions_train,acc = predict(x_train, y_train, parameters)\n",
        "predictions_test,acc_test = predict(x_test, y_test, parameters)\n"
      ],
      "execution_count": 0,
      "outputs": []
    },
    {
      "cell_type": "code",
      "metadata": {
        "id": "2Cje1Ez0iaoj",
        "colab_type": "code",
        "colab": {
          "base_uri": "https://localhost:8080/",
          "height": 35
        },
        "outputId": "d734f4c8-c0cc-407b-f248-7b0e83a46208"
      },
      "source": [
        "# with relu as activation function\n",
        "print(acc,acc_test)"
      ],
      "execution_count": 136,
      "outputs": [
        {
          "output_type": "stream",
          "text": [
            "83.75 80.0\n"
          ],
          "name": "stdout"
        }
      ]
    },
    {
      "cell_type": "code",
      "metadata": {
        "id": "RmgYkXkgR-89",
        "colab_type": "code",
        "colab": {
          "base_uri": "https://localhost:8080/",
          "height": 35
        },
        "outputId": "874edcc0-1686-4c40-a14f-41b40a5d3ca2"
      },
      "source": [
        "# was tried with tanh as activation fn\n",
        "print(acc,acc_test)\n",
        "#print(predictions_train[:,0:5],predictions_test[:,0:5])\n",
        "#print(y_train[:,0:5],y_test[:,0:5])"
      ],
      "execution_count": 131,
      "outputs": [
        {
          "output_type": "stream",
          "text": [
            "72.03125 70.0\n"
          ],
          "name": "stdout"
        }
      ]
    },
    {
      "cell_type": "code",
      "metadata": {
        "id": "xFxadBbgWFwW",
        "colab_type": "code",
        "colab": {
          "base_uri": "https://localhost:8080/",
          "height": 1000
        },
        "outputId": "8de6d6ba-594e-44a2-c70e-4303ccf5812d"
      },
      "source": [
        "#to find optimal no of hidden elemnts\n",
        "hidden = [5,10,15,20,25,30]\n",
        "#hidden = [15]\n",
        "for i in range(len(hidden)):\n",
        "    parameters = two_layer_model(x_train, y_train, layers_dims = (n_x, hidden[i], n_y), learning_rate = .1, num_iterations=10000 , print_cost=False)\n",
        "    predictions_train,acc = predict(x_train, y_train, parameters)\n",
        "    predictions_test,acc_test = predict(x_test, y_test, parameters)\n",
        "    print(acc,acc_test)\n"
      ],
      "execution_count": 109,
      "outputs": [
        {
          "output_type": "display_data",
          "data": {
            "image/png": "[encoded data removed]",
            "text/plain": [
              "<Figure size 432x288 with 1 Axes>"
            ]
          },
          "metadata": {
            "tags": [],
            "needs_background": "light"
          }
        },
        {
          "output_type": "stream",
          "text": [
            "82.03125 75.625\n"
          ],
          "name": "stdout"
        },
        {
          "output_type": "display_data",
          "data": {
            "image/png": "[encoded data removed]",
            "text/plain": [
              "<Figure size 432x288 with 1 Axes>"
            ]
          },
          "metadata": {
            "tags": [],
            "needs_background": "light"
          }
        },
        {
          "output_type": "stream",
          "text": [
            "82.8125 76.875\n"
          ],
          "name": "stdout"
        },
        {
          "output_type": "display_data",
          "data": {
            "image/png": "[encoded data removed]",
            "text/plain": [
              "<Figure size 432x288 with 1 Axes>"
            ]
          },
          "metadata": {
            "tags": [],
            "needs_background": "light"
          }
        },
        {
          "output_type": "stream",
          "text": [
            "83.125 78.75\n"
          ],
          "name": "stdout"
        },
        {
          "output_type": "display_data",
          "data": {
            "image/png": "[encoded data removed]",
            "text/plain": [
              "<Figure size 432x288 with 1 Axes>"
            ]
          },
          "metadata": {
            "tags": [],
            "needs_background": "light"
          }
        },
        {
          "output_type": "stream",
          "text": [
            "83.125 78.75\n"
          ],
          "name": "stdout"
        },
        {
          "output_type": "display_data",
          "data": {
            "image/png": "[encoded data removed]",
            "text/plain": [
              "<Figure size 432x288 with 1 Axes>"
            ]
          },
          "metadata": {
            "tags": [],
            "needs_background": "light"
          }
        },
        {
          "output_type": "stream",
          "text": [
            "83.28125 78.125\n"
          ],
          "name": "stdout"
        },
        {
          "output_type": "display_data",
          "data": {
            "image/png": "[encoded data removed]",
            "text/plain": [
              "<Figure size 432x288 with 1 Axes>"
            ]
          },
          "metadata": {
            "tags": [],
            "needs_background": "light"
          }
        },
        {
          "output_type": "stream",
          "text": [
            "82.96875 77.5\n"
          ],
          "name": "stdout"
        }
      ]
    },
    {
      "cell_type": "code",
      "metadata": {
        "id": "JO7kB-CCadIk",
        "colab_type": "code",
        "colab": {
          "base_uri": "https://localhost:8080/",
          "height": 35
        },
        "outputId": "be9f6d4e-be43-44e3-e5eb-24d47fe057d3"
      },
      "source": [
        "print(hidden[i])"
      ],
      "execution_count": 103,
      "outputs": [
        {
          "output_type": "stream",
          "text": [
            "30\n"
          ],
          "name": "stdout"
        }
      ]
    },
    {
      "cell_type": "code",
      "metadata": {
        "id": "ks8DeLEYa3MJ",
        "colab_type": "code",
        "colab": {}
      },
      "source": [
        ""
      ],
      "execution_count": 0,
      "outputs": []
    }
  ]
}