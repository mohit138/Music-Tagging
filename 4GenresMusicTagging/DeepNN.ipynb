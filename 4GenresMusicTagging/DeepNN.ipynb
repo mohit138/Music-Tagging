{
  "nbformat": 4,
  "nbformat_minor": 0,
  "metadata": {
    "colab": {
      "name": "DeepNN.ipynb",
      "provenance": []
    },
    "kernelspec": {
      "name": "python3",
      "display_name": "Python 3"
    },
    "accelerator": "GPU"
  },
  "cells": [
    {
      "cell_type": "code",
      "metadata": {
        "id": "b7H7q90Jy2UG",
        "colab_type": "code",
        "colab": {}
      },
      "source": [
        "# Deep Neural Network"
      ],
      "execution_count": 0,
      "outputs": []
    },
    {
      "cell_type": "code",
      "metadata": {
        "id": "-R_gQYyXzvzs",
        "colab_type": "code",
        "colab": {}
      },
      "source": [
        "import pandas as pd\n",
        "import numpy as np\n",
        "from sklearn.model_selection import train_test_split\n",
        "import matplotlib.pyplot as plt\n",
        "from numpy import savetxt\n",
        "from pylab import rcParams\n",
        "rcParams['figure.figsize'] = 20, 12"
      ],
      "execution_count": 0,
      "outputs": []
    },
    {
      "cell_type": "code",
      "metadata": {
        "id": "zObInrkA7jQa",
        "colab_type": "code",
        "colab": {}
      },
      "source": [
        "op_cases = 4\n",
        "train_df = pd.read_csv(\"TrainData4.csv\")\n",
        "data_t = train_df.to_numpy()\n",
        "x_train = data_t[:,1:29].T\n",
        "y_train = data_t[:,29:33].T\n",
        "\n",
        "# small with 8 ip features, neglecting mfcc's\n",
        "x_train_small = x_train[0:8,:]\n",
        "\n",
        "\n",
        "test_df = pd.read_csv(\"TestData4.csv\")\n",
        "data_te = test_df.to_numpy()\n",
        "x_test = data_te[:,1:29].T\n",
        "y_test = data_te[:,29:33].T\n",
        "\n",
        "x_test_small = x_test[0:8,:]"
      ],
      "execution_count": 0,
      "outputs": []
    },
    {
      "cell_type": "code",
      "metadata": {
        "id": "3sIX0Htr8CuA",
        "colab_type": "code",
        "outputId": "1a8177ab-e307-4699-b89f-88ac172247d5",
        "colab": {
          "base_uri": "https://localhost:8080/",
          "height": 164
        }
      },
      "source": [
        "print(x_train[0:8,0:2])"
      ],
      "execution_count": 84,
      "outputs": [
        {
          "output_type": "stream",
          "text": [
            "[[3.91920610e-02 2.02142949e-02]\n",
            " [1.71997159e-02 9.52831274e-03]\n",
            " [7.91911238e-05 6.84110490e-05]\n",
            " [2.20236400e-05 2.05897296e-05]\n",
            " [3.78447367e-01 4.25707494e-01]\n",
            " [5.36013269e-01 3.55327232e-01]\n",
            " [7.45205037e-01 8.31541503e-01]\n",
            " [1.53397031e-05 2.79077767e-05]]\n"
          ],
          "name": "stdout"
        }
      ]
    },
    {
      "cell_type": "code",
      "metadata": {
        "id": "TB-eN-nQ8Q0I",
        "colab_type": "code",
        "colab": {}
      },
      "source": [
        "def initialize_parameters_deep(layer_dims):    \n",
        "    np.random.seed(3)\n",
        "    parameters = {}\n",
        "    L = len(layer_dims)\n",
        "    \n",
        "    for l in range(1,L):\n",
        "        parameters['W' + str(l)] = np.random.randn(layer_dims[l],layer_dims[l-1])*.01\n",
        "        parameters['b' + str(l)] = np.zeros((layer_dims[l],1))        \n",
        "\n",
        "        assert(parameters['W' + str(l)].shape) == (layer_dims[l],layer_dims[l-1])\n",
        "        assert(parameters['b' + str(l)].shape) == (layer_dims[l],1)    \n",
        "    return parameters   "
      ],
      "execution_count": 0,
      "outputs": []
    },
    {
      "cell_type": "code",
      "metadata": {
        "id": "tfFdoYYj-BRX",
        "colab_type": "code",
        "colab": {}
      },
      "source": [
        "# calculate Z for forward propogation\n",
        "def linear_forward(A, W, b):    \n",
        "    \n",
        "    Z = np.dot(W,A) + b\n",
        "\n",
        "    assert(Z.shape == (W.shape[0], A.shape[1]))\n",
        "    # storing parameters and A in cache\n",
        "    cache = (A, W, b)\n",
        "    \n",
        "    return Z, cache"
      ],
      "execution_count": 0,
      "outputs": []
    },
    {
      "cell_type": "code",
      "metadata": {
        "id": "ocNYK7w5_7mT",
        "colab_type": "code",
        "colab": {}
      },
      "source": [
        "def sigmoid(Z):\n",
        "    A = 1/(1+np.exp(-Z))\n",
        "    \n",
        "    cache = Z\n",
        "    return A, cache\n",
        "\n",
        "def relu(Z):\n",
        "    A = np.maximum(0,Z)\n",
        "\n",
        "    assert(A.shape==Z.shape)\n",
        "    cache = Z\n",
        "    return A, cache\n",
        "\n",
        "def tanh(Z):\n",
        "    A = ( np.exp(Z)-np.exp(-Z) )/( np.exp(Z)+np.exp(-Z))\n",
        "\n",
        "    assert(A.shape == Z.shape)\n",
        "    cache = Z\n",
        "    return A, cache"
      ],
      "execution_count": 0,
      "outputs": []
    },
    {
      "cell_type": "code",
      "metadata": {
        "id": "ZRxOGq5t_Dq5",
        "colab_type": "code",
        "colab": {}
      },
      "source": [
        "# forward propogation function\n",
        "def linear_activation_forward(A_prev, W, b, activation):\n",
        "    if activation == \"sigmoid\":\n",
        "        Z, linear_cache = linear_forward(A_prev,W,b)\n",
        "        A, activation_cache = sigmoid(Z)\n",
        "    \n",
        "    elif activation == \"relu\":\n",
        "        Z, linear_cache = linear_forward(A_prev,W,b)\n",
        "        A, activation_cache = relu(Z)\n",
        "\n",
        "    elif activation == \"tanh\":\n",
        "        Z, linear_cache = linear_forward(A_prev,W,b)\n",
        "        A, activation_cache = tanh(Z)\n",
        "    assert (A.shape == (W.shape[0], A_prev.shape[1]))\n",
        "    cache = (linear_cache, activation_cache)\n",
        "\n",
        "    return A, cache"
      ],
      "execution_count": 0,
      "outputs": []
    },
    {
      "cell_type": "code",
      "metadata": {
        "id": "IaVkPYvN_w_d",
        "colab_type": "code",
        "colab": {}
      },
      "source": [
        "def L_model_forward(X, parameters):\n",
        "    caches = []\n",
        "    A = X\n",
        "    L = len(parameters) // 2 \n",
        "\n",
        "    for l in range(1,L):\n",
        "        A_prev = A\n",
        "        A, cache = linear_activation_forward(A_prev,parameters['W'+str(l)],parameters['b'+str(l)],activation = \"relu\")\n",
        "        caches.append(cache)\n",
        "\n",
        "    AL,cache = linear_activation_forward(A,parameters['W'+str(L)],parameters['b'+str(L)],activation = \"sigmoid\")\n",
        "    caches.append(cache)\n",
        "\n",
        "    assert(AL.shape== (op_cases,X.shape[1]))\n",
        "\n",
        "    return AL, caches"
      ],
      "execution_count": 0,
      "outputs": []
    },
    {
      "cell_type": "code",
      "metadata": {
        "id": "oXhzMcptD456",
        "colab_type": "code",
        "colab": {}
      },
      "source": [
        "def compute_cost(AL,Y):\n",
        "    m = Y.shape[1]\n",
        "\n",
        "    cost = -1/m * np.sum( Y*np.log(AL + 1e-20) + (1-Y)*np.log(1-AL + 1e-20))\n",
        "    cost = np.squeeze(cost)\n",
        "    assert(cost.shape == ())\n",
        "    return cost"
      ],
      "execution_count": 0,
      "outputs": []
    },
    {
      "cell_type": "code",
      "metadata": {
        "id": "R-H9Oo5mGyAv",
        "colab_type": "code",
        "colab": {}
      },
      "source": [
        "def linear_backward(dZ, cache):\n",
        "    A_prev, W, b = cache\n",
        "    m = A_prev.shape[1]\n",
        "\n",
        "    dW = 1/m * np.dot(dZ,A_prev.T)\n",
        "    db = 1/m * np.sum(dZ,axis=1,keepdims=True)\n",
        "    dA_prev = np.dot(W.T,dZ)\n",
        "    \n",
        "    assert (dA_prev.shape == A_prev.shape)\n",
        "    assert (dW.shape == W.shape)\n",
        "    assert (db.shape == b.shape)\n",
        "    \n",
        "    return dA_prev, dW, db"
      ],
      "execution_count": 0,
      "outputs": []
    },
    {
      "cell_type": "code",
      "metadata": {
        "id": "DqkjaTpDJehE",
        "colab_type": "code",
        "colab": {}
      },
      "source": [
        "def relu_backward(dA, cache):\n",
        "    Z = cache\n",
        "    dZ = np.array(dA, copy=True) # just converting dz to a correct object.\n",
        "    # When z <= 0, you should set dz to 0 as well. \n",
        "    dZ[Z <= 0] = 0\n",
        "    \n",
        "    assert (dZ.shape == Z.shape)\n",
        "    return dZ\n",
        "\n",
        "def sigmoid_backward(dA, cache):\n",
        "    Z = cache\n",
        "    s =  1/(1+np.exp(-Z))\n",
        "    dZ = dA * s * (1-s)\n",
        "\n",
        "    assert(dZ.shape == Z.shape)\n",
        "    return dZ\n",
        "\n",
        "def tanh_backward(dA,cache):\n",
        "    Z = cache\n",
        "    t = ( np.exp(Z)-np.exp(-Z) )/( np.exp(Z)+np.exp(-Z))\n",
        "    dtanh = 1 - np.power(t,2)\n",
        "    dZ = dA * dtanh\n",
        "\n",
        "    assert(dZ.shape==Z.shape)\n",
        "    return dZ"
      ],
      "execution_count": 0,
      "outputs": []
    },
    {
      "cell_type": "code",
      "metadata": {
        "id": "rnQQFqaiJGx6",
        "colab_type": "code",
        "colab": {}
      },
      "source": [
        "def linear_activation_backward(dA, cache, activation):\n",
        "    linear_cache, activation_cache = cache\n",
        "    # linear cache  -> A_prev, W, b\n",
        "    # activation cache -> Z\n",
        "    \n",
        "    if activation == \"relu\":\n",
        "        dZ = relu_backward(dA, activation_cache)\n",
        "        dA_prev, dW, db = linear_backward(dZ, linear_cache)\n",
        "        \n",
        "    elif activation == \"sigmoid\":\n",
        "        dZ = sigmoid_backward(dA, activation_cache)\n",
        "        dA_prev, dW, db = linear_backward(dZ, linear_cache)\n",
        "        \n",
        "    elif activation == \"tanh\":\n",
        "        dZ = tanh_backward(dA, activation_cache)\n",
        "        dA_prev, dW, db = linear_backward(dZ, linear_cache)\n",
        "        \n",
        "    return dA_prev, dW, db"
      ],
      "execution_count": 0,
      "outputs": []
    },
    {
      "cell_type": "code",
      "metadata": {
        "id": "0oWbABM-CG_J",
        "colab_type": "code",
        "colab": {}
      },
      "source": [
        "def L_model_backward(AL,Y,caches):\n",
        "    #caches have [A W b Z] \n",
        "    grads={}\n",
        "    L = len(caches)\n",
        "    m = AL.shape[1]\n",
        "    Y = Y.reshape(AL.shape)\n",
        "\n",
        "    # find value of dAL, for initialising back prop. \n",
        "    dAL = - (np.divide(Y,AL) - np.divide(1-Y,1-AL))\n",
        "    current_cache = caches[L-1]\n",
        "    # caches is L-1 elemented list, ie. cache(1), cache(2) ......cache(L-1)\n",
        "    grads[\"dA\"+str(L-1)],grads[\"dW\"+str(L)],grads[\"db\"+str(L)] = linear_activation_backward(dAL,current_cache,activation=\"sigmoid\")\n",
        "\n",
        "    for l in reversed(range(L-1)):\n",
        "        current_cache = caches[l]\n",
        "        dA_prev_temp, dW_temp, db_temp = linear_activation_backward(grads[\"dA\"+str(l+1)],current_cache,activation=\"relu\")\n",
        "        grads[\"dA\"+str(l)] = dA_prev_temp\n",
        "        grads[\"dW\"+str(l+1)] = dW_temp\n",
        "        grads[\"db\"+str(l+1)] = db_temp\n",
        "\n",
        "    return grads"
      ],
      "execution_count": 0,
      "outputs": []
    },
    {
      "cell_type": "code",
      "metadata": {
        "id": "2daqo5bwO-ED",
        "colab_type": "code",
        "colab": {}
      },
      "source": [
        "# gradient descent\n",
        "def update_parameters(parameters, grads, learning_rate):\n",
        "   \n",
        "    L = len(parameters) // 2 # number of layers in the neural network\n",
        "\n",
        "    # Update rule for each parameter. Use a for loop.\n",
        "    ### START CODE HERE ### (≈ 3 lines of code)\n",
        "    for l in range(L):\n",
        "        parameters[\"W\" + str(l+1)] = parameters[\"W\" + str(l+1)] - learning_rate * grads[\"dW\" + str(l+1)]\n",
        "        parameters[\"b\" + str(l+1)] = parameters[\"b\" + str(l+1)] - learning_rate * grads[\"db\" + str(l+1)]\n",
        "    ### END CODE HERE ###\n",
        "    return parameters"
      ],
      "execution_count": 0,
      "outputs": []
    },
    {
      "cell_type": "code",
      "metadata": {
        "id": "Du-o7EhlI5_M",
        "colab_type": "code",
        "colab": {}
      },
      "source": [
        "def L_layer_model(X,Y,layer_dims,learning_rate = .0075,num_iterations=3000, print_cost = False):\n",
        "    np.random.seed(1)\n",
        "    costs = []\n",
        "\n",
        "    parameters = initialize_parameters_deep(layer_dims)\n",
        "\n",
        "    for i in range(0,num_iterations):\n",
        "        AL,caches = L_model_forward(X,parameters)\n",
        "        cost = compute_cost(AL,Y)\n",
        "\n",
        "        grads=L_model_backward(AL,Y,caches)\n",
        "        parameters = update_parameters(parameters,grads,learning_rate)\n",
        "\n",
        "        if(print_cost and i%500 ==0):\n",
        "            print(\"cost after %i iterations = %f\" %(i,cost))\n",
        "        costs.append(cost)\n",
        "\n",
        "    plt.plot(np.squeeze(costs))\n",
        "    plt.ylabel('cost')\n",
        "    plt.xlabel('iterations (per hundreds)')\n",
        "    plt.title(\"Learning rate =\" + str(learning_rate))\n",
        "    plt.show()\n",
        "    \n",
        "    return parameters"
      ],
      "execution_count": 0,
      "outputs": []
    },
    {
      "cell_type": "code",
      "metadata": {
        "id": "MvVIg-XISq5N",
        "colab_type": "code",
        "colab": {}
      },
      "source": [
        "# using last layer as sigmoid layer\n",
        "def predict(X,Y,parameters):\n",
        "    \n",
        "    # Computes probabilities using forward propagation, and classifies to 0/1 using 0.5 as the threshold.\n",
        "    AL,caches = L_model_forward(X,parameters)\n",
        "    predictions = np.zeros(Y.shape)\n",
        "    for j in range(Y.shape[1]):\n",
        "        max=0;\n",
        "        for i in range(Y.shape[0]):\n",
        "            if(AL[i,j]>=max):\n",
        "                i_max = i \n",
        "                max = AL[i,j]\n",
        "        predictions[i_max,j] = 1\n",
        "    \n",
        "    # finding accuracy\n",
        "    I = np.identity(Y.shape[0], dtype = 'float')\n",
        "    acc = (float( np.sum(np.dot(Y,predictions.T)*I) + np.sum(np.dot(1-Y,1-predictions.T)*I) )) / float(Y.size) * 100\n",
        "    return predictions,acc"
      ],
      "execution_count": 0,
      "outputs": []
    },
    {
      "cell_type": "code",
      "metadata": {
        "id": "bwr4sxZ8IweI",
        "colab_type": "code",
        "colab": {}
      },
      "source": [
        "layers_dims = [28,13,7,4]"
      ],
      "execution_count": 0,
      "outputs": []
    },
    {
      "cell_type": "code",
      "metadata": {
        "id": "ypQ6le6YL6wz",
        "colab_type": "code",
        "colab": {
          "base_uri": "https://localhost:8080/",
          "height": 1000
        },
        "outputId": "4b122606-8eaf-473f-ffd3-baed9586f593"
      },
      "source": [
        "parameters = L_layer_model(x_train, y_train, layers_dims, learning_rate=.009 ,num_iterations = 48000, print_cost = True)"
      ],
      "execution_count": 112,
      "outputs": [
        {
          "output_type": "stream",
          "text": [
            "cost after 0 iterations = 7.199152\n",
            "cost after 500 iterations = 2.063534\n",
            "cost after 1000 iterations = 1.964650\n",
            "cost after 1500 iterations = 1.908443\n",
            "cost after 2000 iterations = 1.871450\n",
            "cost after 2500 iterations = 1.844397\n",
            "cost after 3000 iterations = 1.803214\n",
            "cost after 3500 iterations = 1.780956\n",
            "cost after 4000 iterations = 1.762438\n",
            "cost after 4500 iterations = 1.746281\n",
            "cost after 5000 iterations = 1.731682\n",
            "cost after 5500 iterations = 1.716306\n",
            "cost after 6000 iterations = 1.702069\n",
            "cost after 6500 iterations = 1.688649\n",
            "cost after 7000 iterations = 1.675742\n",
            "cost after 7500 iterations = 1.662787\n",
            "cost after 8000 iterations = 1.649900\n",
            "cost after 8500 iterations = 1.634990\n",
            "cost after 9000 iterations = 1.616750\n",
            "cost after 9500 iterations = 1.600597\n",
            "cost after 10000 iterations = 1.587624\n",
            "cost after 10500 iterations = 1.575559\n",
            "cost after 11000 iterations = 1.563459\n",
            "cost after 11500 iterations = 1.552485\n",
            "cost after 12000 iterations = 1.542614\n",
            "cost after 12500 iterations = 1.533391\n",
            "cost after 13000 iterations = 1.524257\n",
            "cost after 13500 iterations = 1.515915\n",
            "cost after 14000 iterations = 1.508588\n",
            "cost after 14500 iterations = 1.501928\n",
            "cost after 15000 iterations = 1.495790\n",
            "cost after 15500 iterations = 1.489773\n",
            "cost after 16000 iterations = 1.484342\n",
            "cost after 16500 iterations = 1.479311\n",
            "cost after 17000 iterations = 1.474686\n",
            "cost after 17500 iterations = 1.469836\n",
            "cost after 18000 iterations = 1.464665\n",
            "cost after 18500 iterations = 1.459614\n",
            "cost after 19000 iterations = 1.455018\n",
            "cost after 19500 iterations = 1.450796\n",
            "cost after 20000 iterations = 1.446758\n",
            "cost after 20500 iterations = 1.442917\n",
            "cost after 21000 iterations = 1.439268\n",
            "cost after 21500 iterations = 1.435811\n",
            "cost after 22000 iterations = 1.432503\n",
            "cost after 22500 iterations = 1.429306\n",
            "cost after 23000 iterations = 1.426204\n",
            "cost after 23500 iterations = 1.423201\n",
            "cost after 24000 iterations = 1.420293\n",
            "cost after 24500 iterations = 1.417469\n",
            "cost after 25000 iterations = 1.414736\n",
            "cost after 25500 iterations = 1.412069\n",
            "cost after 26000 iterations = 1.409456\n",
            "cost after 26500 iterations = 1.406891\n",
            "cost after 27000 iterations = 1.404376\n",
            "cost after 27500 iterations = 1.401915\n",
            "cost after 28000 iterations = 1.399503\n",
            "cost after 28500 iterations = 1.397114\n",
            "cost after 29000 iterations = 1.394749\n",
            "cost after 29500 iterations = 1.392419\n",
            "cost after 30000 iterations = 1.390123\n",
            "cost after 30500 iterations = 1.387847\n",
            "cost after 31000 iterations = 1.385598\n",
            "cost after 31500 iterations = 1.383385\n",
            "cost after 32000 iterations = 1.381202\n",
            "cost after 32500 iterations = 1.379037\n",
            "cost after 33000 iterations = 1.376891\n",
            "cost after 33500 iterations = 1.374776\n",
            "cost after 34000 iterations = 1.372688\n",
            "cost after 34500 iterations = 1.370626\n",
            "cost after 35000 iterations = 1.368596\n",
            "cost after 35500 iterations = 1.366608\n",
            "cost after 36000 iterations = 1.364660\n",
            "cost after 36500 iterations = 1.362742\n",
            "cost after 37000 iterations = 1.360858\n",
            "cost after 37500 iterations = 1.358999\n",
            "cost after 38000 iterations = 1.357164\n",
            "cost after 38500 iterations = 1.355357\n",
            "cost after 39000 iterations = 1.353552\n",
            "cost after 39500 iterations = 1.351783\n",
            "cost after 40000 iterations = 1.350054\n",
            "cost after 40500 iterations = 1.348359\n",
            "cost after 41000 iterations = 1.346687\n",
            "cost after 41500 iterations = 1.345056\n",
            "cost after 42000 iterations = 1.343471\n",
            "cost after 42500 iterations = 1.341922\n",
            "cost after 43000 iterations = 1.340405\n",
            "cost after 43500 iterations = 1.338933\n",
            "cost after 44000 iterations = 1.337499\n",
            "cost after 44500 iterations = 1.336100\n",
            "cost after 45000 iterations = 1.334741\n",
            "cost after 45500 iterations = 1.333425\n",
            "cost after 46000 iterations = 1.332139\n",
            "cost after 46500 iterations = 1.330873\n",
            "cost after 47000 iterations = 1.329634\n",
            "cost after 47500 iterations = 1.328419\n"
          ],
          "name": "stdout"
        },
        {
          "output_type": "display_data",
          "data": {
            "image/png": "[encoded data removed]",
            "text/plain": [
              "<Figure size 1440x864 with 1 Axes>"
            ]
          },
          "metadata": {
            "tags": [],
            "needs_background": "light"
          }
        }
      ]
    },
    {
      "cell_type": "code",
      "metadata": {
        "id": "kkuh9bXnPkym",
        "colab_type": "code",
        "colab": {}
      },
      "source": [
        "predictions_train,acc = predict(x_train, y_train, parameters)\n",
        "predictions_test,acc_test = predict(x_test, y_test, parameters)\n"
      ],
      "execution_count": 0,
      "outputs": []
    },
    {
      "cell_type": "code",
      "metadata": {
        "id": "2Cje1Ez0iaoj",
        "colab_type": "code",
        "outputId": "b9280683-c9a0-4337-acc2-f61423e326cf",
        "colab": {
          "base_uri": "https://localhost:8080/",
          "height": 35
        }
      },
      "source": [
        "# with relu as activation function\n",
        "print(acc,acc_test)"
      ],
      "execution_count": 114,
      "outputs": [
        {
          "output_type": "stream",
          "text": [
            "81.5625 78.75\n"
          ],
          "name": "stdout"
        }
      ]
    },
    {
      "cell_type": "code",
      "metadata": {
        "id": "SDLKv1mcU0dd",
        "colab_type": "code",
        "colab": {}
      },
      "source": [
        ""
      ],
      "execution_count": 0,
      "outputs": []
    }
  ]
}