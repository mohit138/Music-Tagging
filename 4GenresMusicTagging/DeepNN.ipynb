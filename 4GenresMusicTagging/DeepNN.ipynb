{
  "nbformat": 4,
  "nbformat_minor": 0,
  "metadata": {
    "colab": {
      "name": "DeepNN.ipynb",
      "provenance": []
    },
    "kernelspec": {
      "name": "python3",
      "display_name": "Python 3"
    },
    "accelerator": "GPU"
  },
  "cells": [
    {
      "cell_type": "code",
      "metadata": {
        "id": "b7H7q90Jy2UG",
        "colab_type": "code",
        "colab": {}
      },
      "source": [
        "# Deep Neural Network"
      ],
      "execution_count": 0,
      "outputs": []
    },
    {
      "cell_type": "code",
      "metadata": {
        "id": "-R_gQYyXzvzs",
        "colab_type": "code",
        "colab": {}
      },
      "source": [
        "import pandas as pd\n",
        "import numpy as np\n",
        "from sklearn.model_selection import train_test_split\n",
        "import matplotlib.pyplot as plt\n",
        "from numpy import savetxt\n",
        "from pylab import rcParams\n",
        "rcParams['figure.figsize'] = 20, 12\n",
        "\n",
        "np.random.seed(1)"
      ],
      "execution_count": 0,
      "outputs": []
    },
    {
      "cell_type": "code",
      "metadata": {
        "id": "zObInrkA7jQa",
        "colab_type": "code",
        "colab": {}
      },
      "source": [
        "op_cases = 4\n",
        "train_df = pd.read_csv(\"TrainData4_scaled.csv\")\n",
        "data_t = train_df.to_numpy()\n",
        "x_train = data_t[:,1:29].T\n",
        "y_train = data_t[:,29:33].T\n",
        "\n",
        "\n",
        "test_df = pd.read_csv(\"TestData4_scaled.csv\")\n",
        "data_te = test_df.to_numpy()\n",
        "x_test = data_te[:,1:29].T\n",
        "y_test = data_te[:,29:33].T\n"
      ],
      "execution_count": 0,
      "outputs": []
    },
    {
      "cell_type": "code",
      "metadata": {
        "id": "3sIX0Htr8CuA",
        "colab_type": "code",
        "outputId": "52a4b592-a2ed-4008-90df-152903c96b1c",
        "colab": {
          "base_uri": "https://localhost:8080/",
          "height": 164
        }
      },
      "source": [
        "print(x_train[0:8,0:2])"
      ],
      "execution_count": 4,
      "outputs": [
        {
          "output_type": "stream",
          "text": [
            "[[-1.10988122  0.83459252]\n",
            " [-0.92264737  0.63875587]\n",
            " [ 1.50248836 -1.19546278]\n",
            " [ 1.5050976  -1.03380025]\n",
            " [ 0.1209077  -1.20260769]\n",
            " [-0.12558259 -0.92397874]\n",
            " [ 0.03812823 -1.24715214]\n",
            " [ 0.22014613 -1.23747799]]\n"
          ],
          "name": "stdout"
        }
      ]
    },
    {
      "cell_type": "code",
      "metadata": {
        "id": "TB-eN-nQ8Q0I",
        "colab_type": "code",
        "colab": {}
      },
      "source": [
        "def initialize_parameters_deep(layer_dims):    \n",
        "    np.random.seed(3)\n",
        "    parameters = {}\n",
        "    L = len(layer_dims)\n",
        "    \n",
        "    for l in range(1,L):\n",
        "        parameters['W' + str(l)] = np.random.randn(layer_dims[l],layer_dims[l-1])*.01\n",
        "        parameters['b' + str(l)] = np.zeros((layer_dims[l],1))        \n",
        "\n",
        "        assert(parameters['W' + str(l)].shape) == (layer_dims[l],layer_dims[l-1])\n",
        "        assert(parameters['b' + str(l)].shape) == (layer_dims[l],1)    \n",
        "    return parameters   "
      ],
      "execution_count": 0,
      "outputs": []
    },
    {
      "cell_type": "code",
      "metadata": {
        "id": "tfFdoYYj-BRX",
        "colab_type": "code",
        "colab": {}
      },
      "source": [
        "# calculate Z for forward propogation\n",
        "def linear_forward(A, W, b):    \n",
        "    \n",
        "    Z = np.dot(W,A) + b\n",
        "\n",
        "    assert(Z.shape == (W.shape[0], A.shape[1]))\n",
        "    # storing parameters and A in cache\n",
        "    cache = (A, W, b)\n",
        "    \n",
        "    return Z, cache"
      ],
      "execution_count": 0,
      "outputs": []
    },
    {
      "cell_type": "code",
      "metadata": {
        "id": "ocNYK7w5_7mT",
        "colab_type": "code",
        "colab": {}
      },
      "source": [
        "def sigmoid(Z):\n",
        "    A = 1/(1+np.exp(-Z))\n",
        "    \n",
        "    cache = Z\n",
        "    return A, cache\n",
        "\n",
        "def relu(Z):\n",
        "    A = np.maximum(0,Z)\n",
        "\n",
        "    assert(A.shape==Z.shape)\n",
        "    cache = Z\n",
        "    return A, cache\n",
        "\n",
        "def tanh(Z):\n",
        "    A = ( np.exp(Z)-np.exp(-Z) )/( np.exp(Z)+np.exp(-Z))\n",
        "\n",
        "    assert(A.shape == Z.shape)\n",
        "    cache = Z\n",
        "    return A, cache"
      ],
      "execution_count": 0,
      "outputs": []
    },
    {
      "cell_type": "code",
      "metadata": {
        "id": "ZRxOGq5t_Dq5",
        "colab_type": "code",
        "colab": {}
      },
      "source": [
        "# forward propogation function\n",
        "def linear_activation_forward(A_prev, W, b, activation):\n",
        "    if activation == \"sigmoid\":\n",
        "        Z, linear_cache = linear_forward(A_prev,W,b)\n",
        "        A, activation_cache = sigmoid(Z)\n",
        "    \n",
        "    elif activation == \"relu\":\n",
        "        Z, linear_cache = linear_forward(A_prev,W,b)\n",
        "        A, activation_cache = relu(Z)\n",
        "\n",
        "    elif activation == \"tanh\":\n",
        "        Z, linear_cache = linear_forward(A_prev,W,b)\n",
        "        A, activation_cache = tanh(Z)\n",
        "    assert (A.shape == (W.shape[0], A_prev.shape[1]))\n",
        "    cache = (linear_cache, activation_cache)\n",
        "\n",
        "    return A, cache"
      ],
      "execution_count": 0,
      "outputs": []
    },
    {
      "cell_type": "code",
      "metadata": {
        "id": "IaVkPYvN_w_d",
        "colab_type": "code",
        "colab": {}
      },
      "source": [
        "def L_model_forward(X, parameters):\n",
        "    caches = []\n",
        "    A = X\n",
        "    L = len(parameters) // 2 \n",
        "\n",
        "    for l in range(1,L):\n",
        "        A_prev = A\n",
        "        A, cache = linear_activation_forward(A_prev,parameters['W'+str(l)],parameters['b'+str(l)],activation = \"relu\")\n",
        "        caches.append(cache)\n",
        "\n",
        "    AL,cache = linear_activation_forward(A,parameters['W'+str(L)],parameters['b'+str(L)],activation = \"sigmoid\")\n",
        "    caches.append(cache)\n",
        "\n",
        "    assert(AL.shape== (op_cases,X.shape[1]))\n",
        "\n",
        "    return AL, caches"
      ],
      "execution_count": 0,
      "outputs": []
    },
    {
      "cell_type": "code",
      "metadata": {
        "id": "oXhzMcptD456",
        "colab_type": "code",
        "colab": {}
      },
      "source": [
        "def compute_cost(AL,Y):\n",
        "    m = Y.shape[1]\n",
        "\n",
        "    cost = -1/m * np.sum( Y*np.log(AL + 1e-20) + (1-Y)*np.log(1-AL + 1e-20))\n",
        "    cost = np.squeeze(cost)\n",
        "    assert(cost.shape == ())\n",
        "    return cost"
      ],
      "execution_count": 0,
      "outputs": []
    },
    {
      "cell_type": "code",
      "metadata": {
        "id": "R-H9Oo5mGyAv",
        "colab_type": "code",
        "colab": {}
      },
      "source": [
        "def linear_backward(dZ, cache):\n",
        "    A_prev, W, b = cache\n",
        "    m = A_prev.shape[1]\n",
        "\n",
        "    dW = 1/m * np.dot(dZ,A_prev.T)\n",
        "    db = 1/m * np.sum(dZ,axis=1,keepdims=True)\n",
        "    dA_prev = np.dot(W.T,dZ)\n",
        "    \n",
        "    assert (dA_prev.shape == A_prev.shape)\n",
        "    assert (dW.shape == W.shape)\n",
        "    assert (db.shape == b.shape)\n",
        "    \n",
        "    return dA_prev, dW, db"
      ],
      "execution_count": 0,
      "outputs": []
    },
    {
      "cell_type": "code",
      "metadata": {
        "id": "DqkjaTpDJehE",
        "colab_type": "code",
        "colab": {}
      },
      "source": [
        "def relu_backward(dA, cache):\n",
        "    Z = cache\n",
        "    dZ = np.array(dA, copy=True) # just converting dz to a correct object.\n",
        "    # When z <= 0, you should set dz to 0 as well. \n",
        "    dZ[Z <= 0] = 0\n",
        "    \n",
        "    assert (dZ.shape == Z.shape)\n",
        "    return dZ\n",
        "\n",
        "def sigmoid_backward(dA, cache):\n",
        "    Z = cache\n",
        "    s =  1/(1+np.exp(-Z))\n",
        "    dZ = dA * s * (1-s)\n",
        "\n",
        "    assert(dZ.shape == Z.shape)\n",
        "    return dZ\n",
        "\n",
        "def tanh_backward(dA,cache):\n",
        "    Z = cache\n",
        "    t = ( np.exp(Z)-np.exp(-Z) )/( np.exp(Z)+np.exp(-Z))\n",
        "    dtanh = 1 - np.power(t,2)\n",
        "    dZ = dA * dtanh\n",
        "\n",
        "    assert(dZ.shape==Z.shape)\n",
        "    return dZ"
      ],
      "execution_count": 0,
      "outputs": []
    },
    {
      "cell_type": "code",
      "metadata": {
        "id": "rnQQFqaiJGx6",
        "colab_type": "code",
        "colab": {}
      },
      "source": [
        "def linear_activation_backward(dA, cache, activation):\n",
        "    linear_cache, activation_cache = cache\n",
        "    # linear cache  -> A_prev, W, b\n",
        "    # activation cache -> Z\n",
        "    \n",
        "    if activation == \"relu\":\n",
        "        dZ = relu_backward(dA, activation_cache)\n",
        "        dA_prev, dW, db = linear_backward(dZ, linear_cache)\n",
        "        \n",
        "    elif activation == \"sigmoid\":\n",
        "        dZ = sigmoid_backward(dA, activation_cache)\n",
        "        dA_prev, dW, db = linear_backward(dZ, linear_cache)\n",
        "        \n",
        "    elif activation == \"tanh\":\n",
        "        dZ = tanh_backward(dA, activation_cache)\n",
        "        dA_prev, dW, db = linear_backward(dZ, linear_cache)\n",
        "        \n",
        "    return dA_prev, dW, db"
      ],
      "execution_count": 0,
      "outputs": []
    },
    {
      "cell_type": "code",
      "metadata": {
        "id": "0oWbABM-CG_J",
        "colab_type": "code",
        "colab": {}
      },
      "source": [
        "def L_model_backward(AL,Y,caches):\n",
        "    #caches have [A W b Z] \n",
        "    grads={}\n",
        "    L = len(caches)\n",
        "    m = AL.shape[1]\n",
        "    Y = Y.reshape(AL.shape)\n",
        "\n",
        "    # find value of dAL, for initialising back prop. \n",
        "    dAL = - (np.divide(Y,AL) - np.divide(1-Y,1-AL))\n",
        "    current_cache = caches[L-1]\n",
        "    # caches is L-1 elemented list, ie. cache(1), cache(2) ......cache(L-1)\n",
        "    grads[\"dA\"+str(L-1)],grads[\"dW\"+str(L)],grads[\"db\"+str(L)] = linear_activation_backward(dAL,current_cache,activation=\"sigmoid\")\n",
        "\n",
        "    for l in reversed(range(L-1)):\n",
        "        current_cache = caches[l]\n",
        "        dA_prev_temp, dW_temp, db_temp = linear_activation_backward(grads[\"dA\"+str(l+1)],current_cache,activation=\"relu\")\n",
        "        grads[\"dA\"+str(l)] = dA_prev_temp\n",
        "        grads[\"dW\"+str(l+1)] = dW_temp\n",
        "        grads[\"db\"+str(l+1)] = db_temp\n",
        "\n",
        "    return grads"
      ],
      "execution_count": 0,
      "outputs": []
    },
    {
      "cell_type": "code",
      "metadata": {
        "id": "2daqo5bwO-ED",
        "colab_type": "code",
        "colab": {}
      },
      "source": [
        "# gradient descent\n",
        "def update_parameters(parameters, grads, learning_rate):\n",
        "   \n",
        "    L = len(parameters) // 2 # number of layers in the neural network\n",
        "\n",
        "    # Update rule for each parameter. Use a for loop.\n",
        "    ### START CODE HERE ### (≈ 3 lines of code)\n",
        "    for l in range(L):\n",
        "        parameters[\"W\" + str(l+1)] = parameters[\"W\" + str(l+1)] - learning_rate * grads[\"dW\" + str(l+1)]\n",
        "        parameters[\"b\" + str(l+1)] = parameters[\"b\" + str(l+1)] - learning_rate * grads[\"db\" + str(l+1)]\n",
        "    ### END CODE HERE ###\n",
        "    return parameters"
      ],
      "execution_count": 0,
      "outputs": []
    },
    {
      "cell_type": "code",
      "metadata": {
        "id": "Du-o7EhlI5_M",
        "colab_type": "code",
        "colab": {}
      },
      "source": [
        "def L_layer_model(X,Y,layer_dims,learning_rate = .0075,num_iterations=3000, print_cost = False, change_lr=False):\n",
        "    np.random.seed(1)\n",
        "    costs = []\n",
        "\n",
        "    parameters = initialize_parameters_deep(layer_dims)\n",
        "\n",
        "    for i in range(0,num_iterations):\n",
        "        if( i==int(num_iterations*.7) and change_lr==True ):\n",
        "            learning_rate = learning_rate*.7\n",
        "            print(\"lr update\")\n",
        "        AL,caches = L_model_forward(X,parameters)\n",
        "        cost = compute_cost(AL,Y)\n",
        "\n",
        "        grads=L_model_backward(AL,Y,caches)\n",
        "        parameters = update_parameters(parameters,grads,learning_rate)\n",
        "\n",
        "        if(print_cost and i%500 ==0):\n",
        "            print(\"cost after %i iterations = %f\" %(i,cost))\n",
        "        costs.append(cost)\n",
        "\n",
        "    plt.plot(np.squeeze(costs))\n",
        "    plt.ylabel('cost')\n",
        "    plt.xlabel('iterations (per hundreds)')\n",
        "    plt.title(\"Learning rate =\" + str(learning_rate))\n",
        "    plt.show()\n",
        "    \n",
        "    return parameters"
      ],
      "execution_count": 0,
      "outputs": []
    },
    {
      "cell_type": "code",
      "metadata": {
        "id": "MvVIg-XISq5N",
        "colab_type": "code",
        "colab": {}
      },
      "source": [
        "# using last layer as sigmoid layer\n",
        "def predict(X,Y,parameters):\n",
        "    \n",
        "    # Computes probabilities using forward propagation, and classifies to 0/1 using 0.5 as the threshold.\n",
        "    AL,caches = L_model_forward(X,parameters)\n",
        "    predictions = np.zeros(Y.shape)\n",
        "    for j in range(Y.shape[1]):\n",
        "        max=0;\n",
        "        for i in range(Y.shape[0]):\n",
        "            if(AL[i,j]>=max):\n",
        "                i_max = i \n",
        "                max = AL[i,j]\n",
        "        predictions[i_max,j] = 1\n",
        "    \n",
        "    # finding accuracy\n",
        "    I = np.identity(Y.shape[0], dtype = 'float')\n",
        "    acc = (float( np.sum(np.dot(Y,predictions.T)*I) + np.sum(np.dot(1-Y,1-predictions.T)*I) )) / float(Y.size) * 100\n",
        "    return predictions,acc"
      ],
      "execution_count": 0,
      "outputs": []
    },
    {
      "cell_type": "code",
      "metadata": {
        "id": "bwr4sxZ8IweI",
        "colab_type": "code",
        "colab": {}
      },
      "source": [
        "layers_dims = [28,13,7,4]"
      ],
      "execution_count": 0,
      "outputs": []
    },
    {
      "cell_type": "code",
      "metadata": {
        "id": "ypQ6le6YL6wz",
        "colab_type": "code",
        "outputId": "984427d1-9589-4814-81dc-3c04d01f9db5",
        "colab": {
          "base_uri": "https://localhost:8080/",
          "height": 1000
        }
      },
      "source": [
        "parameters = L_layer_model(x_train, y_train, layers_dims, learning_rate=.009 ,num_iterations = 28000, print_cost = True,change_lr=True)"
      ],
      "execution_count": 38,
      "outputs": [
        {
          "output_type": "stream",
          "text": [
            "cost after 0 iterations = 2.772588\n",
            "cost after 500 iterations = 2.315521\n",
            "cost after 1000 iterations = 2.256955\n",
            "cost after 1500 iterations = 2.247777\n",
            "cost after 2000 iterations = 2.246200\n",
            "cost after 2500 iterations = 2.245916\n",
            "cost after 3000 iterations = 2.245862\n",
            "cost after 3500 iterations = 2.245849\n",
            "cost after 4000 iterations = 2.245842\n",
            "cost after 4500 iterations = 2.245836\n",
            "cost after 5000 iterations = 2.245829\n",
            "cost after 5500 iterations = 2.245818\n",
            "cost after 6000 iterations = 2.245803\n",
            "cost after 6500 iterations = 2.245780\n",
            "cost after 7000 iterations = 2.245744\n",
            "cost after 7500 iterations = 2.245682\n",
            "cost after 8000 iterations = 2.245563\n",
            "cost after 8500 iterations = 2.245296\n",
            "cost after 9000 iterations = 2.244546\n",
            "cost after 9500 iterations = 2.241434\n",
            "cost after 10000 iterations = 2.210479\n",
            "cost after 10500 iterations = 1.818388\n",
            "cost after 11000 iterations = 1.653605\n",
            "cost after 11500 iterations = 1.582139\n",
            "cost after 12000 iterations = 1.504583\n",
            "cost after 12500 iterations = 1.374057\n",
            "cost after 13000 iterations = 1.234806\n",
            "cost after 13500 iterations = 1.103840\n",
            "cost after 14000 iterations = 1.008793\n",
            "cost after 14500 iterations = 0.944595\n",
            "cost after 15000 iterations = 0.886939\n",
            "cost after 15500 iterations = 0.824454\n",
            "cost after 16000 iterations = 0.747097\n",
            "cost after 16500 iterations = 0.660998\n",
            "cost after 17000 iterations = 0.579300\n",
            "cost after 17500 iterations = 0.515679\n",
            "cost after 18000 iterations = 0.470681\n",
            "cost after 18500 iterations = 0.435444\n",
            "cost after 19000 iterations = 0.405139\n",
            "cost after 19500 iterations = 0.377008\n",
            "lr update\n",
            "cost after 20000 iterations = 0.356375\n",
            "cost after 20500 iterations = 0.332056\n",
            "cost after 21000 iterations = 0.309718\n",
            "cost after 21500 iterations = 0.290044\n",
            "cost after 22000 iterations = 0.271861\n",
            "cost after 22500 iterations = 0.255628\n",
            "cost after 23000 iterations = 0.240470\n",
            "cost after 23500 iterations = 0.225491\n",
            "cost after 24000 iterations = 0.211493\n",
            "cost after 24500 iterations = 0.198312\n",
            "cost after 25000 iterations = 0.186411\n",
            "cost after 25500 iterations = 0.175310\n",
            "cost after 26000 iterations = 0.164689\n",
            "cost after 26500 iterations = 0.154860\n",
            "cost after 27000 iterations = 0.145628\n",
            "cost after 27500 iterations = 0.137012\n"
          ],
          "name": "stdout"
        },
        {
          "output_type": "display_data",
          "data": {
            "image/png": "[encoded data removed]",
            "text/plain": [
              "<Figure size 1440x864 with 1 Axes>"
            ]
          },
          "metadata": {
            "tags": [],
            "needs_background": "light"
          }
        }
      ]
    },
    {
      "cell_type": "code",
      "metadata": {
        "id": "kkuh9bXnPkym",
        "colab_type": "code",
        "colab": {}
      },
      "source": [
        "predictions_train,acc = predict(x_train, y_train, parameters)\n",
        "predictions_test,acc_test = predict(x_test, y_test, parameters)\n"
      ],
      "execution_count": 0,
      "outputs": []
    },
    {
      "cell_type": "code",
      "metadata": {
        "id": "2Cje1Ez0iaoj",
        "colab_type": "code",
        "outputId": "bf59b3c7-3cbd-495f-84e6-216c02ec35d6",
        "colab": {
          "base_uri": "https://localhost:8080/",
          "height": 35
        }
      },
      "source": [
        "# with relu as activation function\n",
        "print(acc,acc_test)"
      ],
      "execution_count": 40,
      "outputs": [
        {
          "output_type": "stream",
          "text": [
            "99.6875 90.0\n"
          ],
          "name": "stdout"
        }
      ]
    },
    {
      "cell_type": "code",
      "metadata": {
        "id": "SDLKv1mcU0dd",
        "colab_type": "code",
        "colab": {}
      },
      "source": [
        "#choosing only mfcc1 and 2 and don't use tempo\n",
        "x_train1 = x_train[1:10,:]\n",
        "x_test1 = x_test[1:10,:]\n"
      ],
      "execution_count": 0,
      "outputs": []
    },
    {
      "cell_type": "code",
      "metadata": {
        "id": "0w32YRK2FdCz",
        "colab_type": "code",
        "outputId": "2b42851b-63fe-42d5-8e5a-583b4f20d773",
        "colab": {
          "base_uri": "https://localhost:8080/",
          "height": 1000
        }
      },
      "source": [
        "# layer\n",
        "layers_dims = [9,6,4]\n",
        "parameters = L_layer_model(x_train1, y_train, layers_dims, learning_rate=.012 ,num_iterations = 108000, print_cost = True)\n"
      ],
      "execution_count": 25,
      "outputs": [
        {
          "output_type": "stream",
          "text": [
            "cost after 0 iterations = 2.772713\n",
            "cost after 500 iterations = 2.212846\n",
            "cost after 1000 iterations = 1.717134\n",
            "cost after 1500 iterations = 1.576239\n",
            "cost after 2000 iterations = 1.478600\n",
            "cost after 2500 iterations = 1.416310\n",
            "cost after 3000 iterations = 1.375949\n",
            "cost after 3500 iterations = 1.346866\n",
            "cost after 4000 iterations = 1.322846\n",
            "cost after 4500 iterations = 1.299476\n",
            "cost after 5000 iterations = 1.276141\n",
            "cost after 5500 iterations = 1.254958\n",
            "cost after 6000 iterations = 1.236978\n",
            "cost after 6500 iterations = 1.221561\n",
            "cost after 7000 iterations = 1.207351\n",
            "cost after 7500 iterations = 1.193055\n",
            "cost after 8000 iterations = 1.180131\n",
            "cost after 8500 iterations = 1.166589\n",
            "cost after 9000 iterations = 1.151167\n",
            "cost after 9500 iterations = 1.135957\n",
            "cost after 10000 iterations = 1.115088\n",
            "cost after 10500 iterations = 1.100223\n",
            "cost after 11000 iterations = 1.088077\n",
            "cost after 11500 iterations = 1.077366\n",
            "cost after 12000 iterations = 1.066948\n",
            "cost after 12500 iterations = 1.058095\n",
            "cost after 13000 iterations = 1.050451\n",
            "cost after 13500 iterations = 1.043559\n",
            "cost after 14000 iterations = 1.037230\n",
            "cost after 14500 iterations = 1.031589\n",
            "cost after 15000 iterations = 1.026332\n",
            "cost after 15500 iterations = 1.021449\n",
            "cost after 16000 iterations = 1.016858\n",
            "cost after 16500 iterations = 1.012407\n",
            "cost after 17000 iterations = 1.008194\n",
            "cost after 17500 iterations = 1.003485\n",
            "cost after 18000 iterations = 0.999178\n",
            "cost after 18500 iterations = 0.995266\n",
            "cost after 19000 iterations = 0.991538\n",
            "cost after 19500 iterations = 0.987682\n",
            "cost after 20000 iterations = 0.983779\n",
            "cost after 20500 iterations = 0.979792\n",
            "cost after 21000 iterations = 0.975685\n",
            "cost after 21500 iterations = 0.971513\n",
            "cost after 22000 iterations = 0.967353\n",
            "cost after 22500 iterations = 0.963217\n",
            "cost after 23000 iterations = 0.958955\n",
            "cost after 23500 iterations = 0.954728\n",
            "cost after 24000 iterations = 0.950460\n",
            "cost after 24500 iterations = 0.946170\n",
            "cost after 25000 iterations = 0.941817\n",
            "cost after 25500 iterations = 0.937521\n",
            "cost after 26000 iterations = 0.933276\n",
            "cost after 26500 iterations = 0.929100\n",
            "cost after 27000 iterations = 0.925184\n",
            "cost after 27500 iterations = 0.921423\n",
            "cost after 28000 iterations = 0.917850\n",
            "cost after 28500 iterations = 0.914388\n",
            "cost after 29000 iterations = 0.910596\n",
            "cost after 29500 iterations = 0.907290\n",
            "cost after 30000 iterations = 0.904058\n",
            "cost after 30500 iterations = 0.901185\n",
            "cost after 31000 iterations = 0.898550\n",
            "cost after 31500 iterations = 0.896109\n",
            "cost after 32000 iterations = 0.893319\n",
            "cost after 32500 iterations = 0.890617\n",
            "cost after 33000 iterations = 0.888157\n",
            "cost after 33500 iterations = 0.885802\n",
            "cost after 34000 iterations = 0.882976\n",
            "cost after 34500 iterations = 0.880521\n",
            "cost after 35000 iterations = 0.878234\n",
            "cost after 35500 iterations = 0.876098\n",
            "cost after 36000 iterations = 0.874015\n",
            "cost after 36500 iterations = 0.872068\n",
            "cost after 37000 iterations = 0.870044\n",
            "cost after 37500 iterations = 0.867993\n",
            "cost after 38000 iterations = 0.866163\n",
            "cost after 38500 iterations = 0.864515\n",
            "cost after 39000 iterations = 0.862976\n",
            "cost after 39500 iterations = 0.861533\n",
            "cost after 40000 iterations = 0.860156\n",
            "cost after 40500 iterations = 0.858850\n",
            "cost after 41000 iterations = 0.857593\n",
            "cost after 41500 iterations = 0.856400\n",
            "cost after 42000 iterations = 0.855253\n",
            "cost after 42500 iterations = 0.853990\n",
            "cost after 43000 iterations = 0.852795\n",
            "cost after 43500 iterations = 0.851666\n",
            "cost after 44000 iterations = 0.850591\n",
            "cost after 44500 iterations = 0.849569\n",
            "cost after 45000 iterations = 0.848587\n",
            "cost after 45500 iterations = 0.847637\n",
            "cost after 46000 iterations = 0.846730\n",
            "cost after 46500 iterations = 0.845854\n",
            "cost after 47000 iterations = 0.845013\n",
            "cost after 47500 iterations = 0.844192\n",
            "cost after 48000 iterations = 0.843394\n",
            "cost after 48500 iterations = 0.842634\n",
            "cost after 49000 iterations = 0.841884\n",
            "cost after 49500 iterations = 0.841057\n",
            "cost after 50000 iterations = 0.839673\n",
            "cost after 50500 iterations = 0.838738\n",
            "cost after 51000 iterations = 0.837866\n",
            "cost after 51500 iterations = 0.837055\n",
            "cost after 52000 iterations = 0.836281\n",
            "cost after 52500 iterations = 0.835434\n",
            "cost after 53000 iterations = 0.834555\n",
            "cost after 53500 iterations = 0.833633\n",
            "cost after 54000 iterations = 0.832692\n",
            "cost after 54500 iterations = 0.831746\n",
            "cost after 55000 iterations = 0.830799\n",
            "cost after 55500 iterations = 0.829899\n",
            "cost after 56000 iterations = 0.828992\n",
            "cost after 56500 iterations = 0.828081\n",
            "cost after 57000 iterations = 0.827154\n",
            "cost after 57500 iterations = 0.826210\n",
            "cost after 58000 iterations = 0.825274\n",
            "cost after 58500 iterations = 0.824317\n",
            "cost after 59000 iterations = 0.823157\n",
            "cost after 59500 iterations = 0.822145\n",
            "cost after 60000 iterations = 0.821154\n",
            "cost after 60500 iterations = 0.820177\n",
            "cost after 61000 iterations = 0.819216\n",
            "cost after 61500 iterations = 0.818267\n",
            "cost after 62000 iterations = 0.817335\n",
            "cost after 62500 iterations = 0.816396\n",
            "cost after 63000 iterations = 0.815441\n",
            "cost after 63500 iterations = 0.814500\n",
            "cost after 64000 iterations = 0.813557\n",
            "cost after 64500 iterations = 0.812624\n",
            "cost after 65000 iterations = 0.811721\n",
            "cost after 65500 iterations = 0.810809\n",
            "cost after 66000 iterations = 0.809938\n",
            "cost after 66500 iterations = 0.809092\n",
            "cost after 67000 iterations = 0.808168\n",
            "cost after 67500 iterations = 0.807253\n",
            "cost after 68000 iterations = 0.806359\n",
            "cost after 68500 iterations = 0.805521\n",
            "cost after 69000 iterations = 0.804675\n",
            "cost after 69500 iterations = 0.803494\n",
            "cost after 70000 iterations = 0.802466\n",
            "cost after 70500 iterations = 0.801564\n",
            "cost after 71000 iterations = 0.800709\n",
            "cost after 71500 iterations = 0.799875\n",
            "cost after 72000 iterations = 0.799064\n",
            "cost after 72500 iterations = 0.798254\n",
            "cost after 73000 iterations = 0.797471\n",
            "cost after 73500 iterations = 0.796675\n",
            "cost after 74000 iterations = 0.795896\n",
            "cost after 74500 iterations = 0.795160\n",
            "cost after 75000 iterations = 0.794404\n",
            "cost after 75500 iterations = 0.793688\n",
            "cost after 76000 iterations = 0.792946\n",
            "cost after 76500 iterations = 0.792240\n",
            "cost after 77000 iterations = 0.791547\n",
            "cost after 77500 iterations = 0.790856\n",
            "cost after 78000 iterations = 0.790169\n",
            "cost after 78500 iterations = 0.789377\n",
            "cost after 79000 iterations = 0.788587\n",
            "cost after 79500 iterations = 0.787817\n",
            "cost after 80000 iterations = 0.787108\n",
            "cost after 80500 iterations = 0.786434\n",
            "cost after 81000 iterations = 0.785760\n",
            "cost after 81500 iterations = 0.785103\n",
            "cost after 82000 iterations = 0.784473\n",
            "cost after 82500 iterations = 0.783870\n",
            "cost after 83000 iterations = 0.783242\n",
            "cost after 83500 iterations = 0.782666\n",
            "cost after 84000 iterations = 0.782065\n",
            "cost after 84500 iterations = 0.781479\n",
            "cost after 85000 iterations = 0.780918\n",
            "cost after 85500 iterations = 0.780347\n",
            "cost after 86000 iterations = 0.779814\n",
            "cost after 86500 iterations = 0.779274\n",
            "cost after 87000 iterations = 0.778741\n",
            "cost after 87500 iterations = 0.778219\n",
            "cost after 88000 iterations = 0.777698\n",
            "cost after 88500 iterations = 0.777201\n",
            "cost after 89000 iterations = 0.776702\n",
            "cost after 89500 iterations = 0.776204\n",
            "cost after 90000 iterations = 0.775712\n",
            "cost after 90500 iterations = 0.775227\n",
            "cost after 91000 iterations = 0.774741\n",
            "cost after 91500 iterations = 0.774252\n",
            "cost after 92000 iterations = 0.773799\n",
            "cost after 92500 iterations = 0.773325\n",
            "cost after 93000 iterations = 0.772861\n",
            "cost after 93500 iterations = 0.772402\n",
            "cost after 94000 iterations = 0.771928\n",
            "cost after 94500 iterations = 0.771492\n",
            "cost after 95000 iterations = 0.771061\n",
            "cost after 95500 iterations = 0.770632\n",
            "cost after 96000 iterations = 0.770124\n",
            "cost after 96500 iterations = 0.769652\n",
            "cost after 97000 iterations = 0.769216\n",
            "cost after 97500 iterations = 0.768819\n",
            "cost after 98000 iterations = 0.768423\n",
            "cost after 98500 iterations = 0.768023\n",
            "cost after 99000 iterations = 0.767636\n",
            "cost after 99500 iterations = 0.767269\n",
            "cost after 100000 iterations = 0.766886\n",
            "cost after 100500 iterations = 0.766543\n",
            "cost after 101000 iterations = 0.766182\n",
            "cost after 101500 iterations = 0.765826\n",
            "cost after 102000 iterations = 0.765474\n",
            "cost after 102500 iterations = 0.765141\n",
            "cost after 103000 iterations = 0.764809\n",
            "cost after 103500 iterations = 0.764512\n",
            "cost after 104000 iterations = 0.764185\n",
            "cost after 104500 iterations = 0.763884\n",
            "cost after 105000 iterations = 0.763426\n",
            "cost after 105500 iterations = 0.763013\n",
            "cost after 106000 iterations = 0.762650\n",
            "cost after 106500 iterations = 0.762338\n",
            "cost after 107000 iterations = 0.762009\n",
            "cost after 107500 iterations = 0.761716\n"
          ],
          "name": "stdout"
        },
        {
          "output_type": "display_data",
          "data": {
            "image/png": "[encoded data removed]",
            "text/plain": [
              "<Figure size 1440x864 with 1 Axes>"
            ]
          },
          "metadata": {
            "tags": [],
            "needs_background": "light"
          }
        }
      ]
    },
    {
      "cell_type": "code",
      "metadata": {
        "id": "OpYS0c9yF3WR",
        "colab_type": "code",
        "outputId": "8c3e90cf-6719-40cf-caf8-a4d8c108e39a",
        "colab": {
          "base_uri": "https://localhost:8080/",
          "height": 35
        }
      },
      "source": [
        "predictions_train,acc = predict(x_train1, y_train, parameters)\n",
        "predictions_test,acc_test = predict(x_test1, y_test, parameters)\n",
        "print(acc,acc_test)"
      ],
      "execution_count": 26,
      "outputs": [
        {
          "output_type": "stream",
          "text": [
            "92.5 88.75\n"
          ],
          "name": "stdout"
        }
      ]
    },
    {
      "cell_type": "code",
      "metadata": {
        "id": "ocjlWwQ4GW7B",
        "colab_type": "code",
        "colab": {}
      },
      "source": [
        "#including mmfc 4,5,6,7,8\n",
        "x_train2 = x_train[0:19,:]\n",
        "x_test2 = x_test[0:19,:]\n"
      ],
      "execution_count": 0,
      "outputs": []
    },
    {
      "cell_type": "code",
      "metadata": {
        "id": "BDIthvBkKl41",
        "colab_type": "code",
        "outputId": "cb236aa9-c145-4a31-e7c7-84e275464035",
        "colab": {
          "base_uri": "https://localhost:8080/",
          "height": 1000
        }
      },
      "source": [
        "layers_dims = [19,13,9,4]\n",
        "parameters = L_layer_model(x_train2, y_train, layers_dims, learning_rate=.007 ,num_iterations = 41000, print_cost = True, change_lr=True)"
      ],
      "execution_count": 31,
      "outputs": [
        {
          "output_type": "stream",
          "text": [
            "cost after 0 iterations = 2.772577\n",
            "cost after 500 iterations = 2.352845\n",
            "cost after 1000 iterations = 2.270604\n",
            "cost after 1500 iterations = 2.251996\n",
            "cost after 2000 iterations = 2.247423\n",
            "cost after 2500 iterations = 2.246246\n",
            "cost after 3000 iterations = 2.245928\n",
            "cost after 3500 iterations = 2.245830\n",
            "cost after 4000 iterations = 2.245784\n",
            "cost after 4500 iterations = 2.245742\n",
            "cost after 5000 iterations = 2.245684\n",
            "cost after 5500 iterations = 2.245590\n",
            "cost after 6000 iterations = 2.245421\n",
            "cost after 6500 iterations = 2.245081\n",
            "cost after 7000 iterations = 2.244292\n",
            "cost after 7500 iterations = 2.242026\n",
            "cost after 8000 iterations = 2.234010\n",
            "cost after 8500 iterations = 2.191645\n",
            "cost after 9000 iterations = 1.960028\n",
            "cost after 9500 iterations = 1.696324\n",
            "cost after 10000 iterations = 1.541320\n",
            "cost after 10500 iterations = 1.413736\n",
            "cost after 11000 iterations = 1.309152\n",
            "cost after 11500 iterations = 1.229749\n",
            "cost after 12000 iterations = 1.173852\n",
            "cost after 12500 iterations = 1.135419\n",
            "cost after 13000 iterations = 1.108269\n",
            "cost after 13500 iterations = 1.087711\n",
            "cost after 14000 iterations = 1.070391\n",
            "cost after 14500 iterations = 1.056963\n",
            "cost after 15000 iterations = 1.045609\n",
            "cost after 15500 iterations = 1.035959\n",
            "cost after 16000 iterations = 1.027522\n",
            "cost after 16500 iterations = 1.019487\n",
            "cost after 17000 iterations = 1.010523\n",
            "cost after 17500 iterations = 1.002997\n",
            "cost after 18000 iterations = 0.995772\n",
            "cost after 18500 iterations = 0.988527\n",
            "cost after 19000 iterations = 0.980861\n",
            "cost after 19500 iterations = 0.972597\n",
            "cost after 20000 iterations = 0.963596\n",
            "cost after 20500 iterations = 0.953019\n",
            "cost after 21000 iterations = 0.942452\n",
            "cost after 21500 iterations = 0.930869\n",
            "cost after 22000 iterations = 0.916840\n",
            "cost after 22500 iterations = 0.902584\n",
            "cost after 23000 iterations = 0.887235\n",
            "cost after 23500 iterations = 0.871924\n",
            "cost after 24000 iterations = 0.855071\n",
            "cost after 24500 iterations = 0.836172\n",
            "cost after 25000 iterations = 0.814542\n",
            "cost after 25500 iterations = 0.777168\n",
            "cost after 26000 iterations = 0.722160\n",
            "cost after 26500 iterations = 0.667378\n",
            "cost after 27000 iterations = 0.624325\n",
            "cost after 27500 iterations = 0.590488\n",
            "cost after 28000 iterations = 0.564294\n",
            "cost after 28500 iterations = 0.541864\n",
            "lr update\n",
            "cost after 29000 iterations = 0.527869\n",
            "cost after 29500 iterations = 0.517875\n",
            "cost after 30000 iterations = 0.509027\n",
            "cost after 30500 iterations = 0.501010\n",
            "cost after 31000 iterations = 0.493579\n",
            "cost after 31500 iterations = 0.486357\n",
            "cost after 32000 iterations = 0.480116\n",
            "cost after 32500 iterations = 0.474634\n",
            "cost after 33000 iterations = 0.469593\n",
            "cost after 33500 iterations = 0.464830\n",
            "cost after 34000 iterations = 0.460356\n",
            "cost after 34500 iterations = 0.456224\n",
            "cost after 35000 iterations = 0.452274\n",
            "cost after 35500 iterations = 0.448411\n",
            "cost after 36000 iterations = 0.444725\n",
            "cost after 36500 iterations = 0.439481\n",
            "cost after 37000 iterations = 0.434288\n",
            "cost after 37500 iterations = 0.429631\n",
            "cost after 38000 iterations = 0.425546\n",
            "cost after 38500 iterations = 0.421778\n",
            "cost after 39000 iterations = 0.418218\n",
            "cost after 39500 iterations = 0.414783\n",
            "cost after 40000 iterations = 0.411360\n",
            "cost after 40500 iterations = 0.407946\n"
          ],
          "name": "stdout"
        },
        {
          "output_type": "display_data",
          "data": {
            "image/png": "[encoded data removed]",
            "text/plain": [
              "<Figure size 1440x864 with 1 Axes>"
            ]
          },
          "metadata": {
            "tags": [],
            "needs_background": "light"
          }
        }
      ]
    },
    {
      "cell_type": "code",
      "metadata": {
        "id": "UoBJZO9CKpBG",
        "colab_type": "code",
        "outputId": "e6b69b1c-9c7a-47ed-955b-9a3653502f7f",
        "colab": {
          "base_uri": "https://localhost:8080/",
          "height": 35
        }
      },
      "source": [
        "# results show over fitting\n",
        "predictions_train,acc = predict(x_train2, y_train, parameters)\n",
        "predictions_test,acc_test = predict(x_test2, y_test, parameters)\n",
        "print(acc,acc_test)"
      ],
      "execution_count": 32,
      "outputs": [
        {
          "output_type": "stream",
          "text": [
            "97.1875 89.375\n"
          ],
          "name": "stdout"
        }
      ]
    },
    {
      "cell_type": "code",
      "metadata": {
        "id": "B5iGMSrrK2Ci",
        "colab_type": "code",
        "colab": {}
      },
      "source": [
        ""
      ],
      "execution_count": 0,
      "outputs": []
    }
  ]
}