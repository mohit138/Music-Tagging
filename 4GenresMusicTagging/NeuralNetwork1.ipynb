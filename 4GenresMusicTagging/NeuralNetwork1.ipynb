{
  "nbformat": 4,
  "nbformat_minor": 0,
  "metadata": {
    "colab": {
      "name": "NeuralNetwork1.ipynb",
      "provenance": []
    },
    "kernelspec": {
      "name": "python3",
      "display_name": "Python 3"
    },
    "accelerator": "GPU"
  },
  "cells": [
    {
      "cell_type": "code",
      "metadata": {
        "id": "3G5BaoqlWJ3b",
        "colab_type": "code",
        "colab": {}
      },
      "source": [
        "# data analysis for MUSIC data\n",
        "import pandas as pd\n",
        "import numpy as np\n",
        "from sklearn.model_selection import train_test_split\n",
        "import matplotlib.pyplot as plt\n",
        "from numpy import savetxt\n",
        "from pylab import rcParams\n",
        "rcParams['figure.figsize'] = 20, 12\n",
        "\n",
        "# extra added for using inbuilt sigmoid\n",
        "\n",
        "from scipy.special import expit"
      ],
      "execution_count": 0,
      "outputs": []
    },
    {
      "cell_type": "code",
      "metadata": {
        "id": "Eph49IkgWp94",
        "colab_type": "code",
        "colab": {}
      },
      "source": [
        "op_cases = 4\n",
        "train_df = pd.read_csv(\"TrainData4.csv\")\n",
        "data_t = train_df.to_numpy()\n",
        "x_train = data_t[:,1:29]\n",
        "y_train = data_t[:,29:33]\n",
        "\n",
        "val_df = pd.read_csv(\"ValData4.csv\")\n",
        "data_v = val_df.to_numpy()\n",
        "x_val = data_v[:,1:29]\n",
        "y_val = data_v[:,29:33]\n",
        "\n",
        "test_df = pd.read_csv(\"TestData4.csv\")\n",
        "data_te = test_df.to_numpy()\n",
        "x_test = data_te[:,1:29]\n",
        "y_test = data_te[:,29:33]"
      ],
      "execution_count": 0,
      "outputs": []
    },
    {
      "cell_type": "code",
      "metadata": {
        "id": "XTel5N3QX7Yh",
        "colab_type": "code",
        "outputId": "177b36c5-ce30-4fc2-d6bd-73f8bef152fe",
        "colab": {
          "base_uri": "https://localhost:8080/",
          "height": 35
        }
      },
      "source": [
        "print(x_train.shape)"
      ],
      "execution_count": 4,
      "outputs": [
        {
          "output_type": "stream",
          "text": [
            "(240, 28)\n"
          ],
          "name": "stdout"
        }
      ]
    },
    {
      "cell_type": "code",
      "metadata": {
        "id": "YAq0jMo-YWOb",
        "colab_type": "code",
        "colab": {}
      },
      "source": [
        "def sigmoidGrad(z):\n",
        "    return expit(z)*(1-expit(z))"
      ],
      "execution_count": 0,
      "outputs": []
    },
    {
      "cell_type": "code",
      "metadata": {
        "id": "LS3ZdyjSpZNG",
        "colab_type": "code",
        "colab": {}
      },
      "source": [
        "def tanh(z):\n",
        "    return (2*expit(z) - 1)"
      ],
      "execution_count": 0,
      "outputs": []
    },
    {
      "cell_type": "code",
      "metadata": {
        "id": "2drfUJwEFtQI",
        "colab_type": "code",
        "colab": {}
      },
      "source": [
        "def softmax(z):\n",
        "    t = np.exp(z - np.max(z,axis=0))\n",
        "    return t / np.sum(t,axis=0)"
      ],
      "execution_count": 0,
      "outputs": []
    },
    {
      "cell_type": "code",
      "metadata": {
        "id": "EfWgSZ5lyWYs",
        "colab_type": "code",
        "colab": {}
      },
      "source": [
        "def softmaxGrad(z):\n",
        "    return softmax(z)*(1-softmax(z))"
      ],
      "execution_count": 0,
      "outputs": []
    },
    {
      "cell_type": "code",
      "metadata": {
        "id": "d21onGR12G0i",
        "colab_type": "code",
        "colab": {}
      },
      "source": [
        "def relu(z):\n",
        "    return z*(z>0)"
      ],
      "execution_count": 0,
      "outputs": []
    },
    {
      "cell_type": "code",
      "metadata": {
        "id": "t51H__CTZHRC",
        "colab_type": "code",
        "colab": {}
      },
      "source": [
        "# cost function for 1 hidden layer Neural Network\n",
        "def cost_function_NN1(theta,hlSize,numLabel,X,y,lam=0):\n",
        "    m= X.shape[0]\n",
        "    ipSize = X.shape[1]\n",
        "    J=0\n",
        "\n",
        "    t1 = theta[0:hlSize*(ipSize +1)].reshape(hlSize,ipSize+1)\n",
        "    t2 = theta[hlSize*(ipSize +1) : (hlSize*(ipSize +1)) + (numLabel*(hlSize +1))].reshape(numLabel,hlSize+1)\n",
        "\n",
        "    tGrad1 = np.zeros(t1.shape)\n",
        "    tGrad2 = np.zeros(t2.shape)\n",
        "    #print(X.shape,t1.shape)\n",
        "    # Forward propogation algorithm\n",
        "    z2 = np.append(np.ones((m,1)),X,axis =1).dot(t1.T)\n",
        "    a2 = expit(z2)\n",
        "    z3 = np.append(np.ones((m,1)),a2,axis=1).dot(t2.T)\n",
        "    a3 = expit(z3)\n",
        "    h = a3\n",
        "    J = (-1/m)*np.sum( y*np.log(h + 1e-20) + (1-y)*np.log(1-h + 1e-20)) \n",
        "    #Reg = \n",
        "    \n",
        "    # Back propogation algorithm\n",
        "    D2=np.zeros(t2.shape)\n",
        "    D1=np.zeros(t1.shape)\n",
        "    err3 = h - y\n",
        "\n",
        "    l = t2.shape[1]\n",
        "    \n",
        "    err2 = (err3.dot(t2[:,1:l])) * sigmoidGrad(z2) \n",
        "    \n",
        "    for i in range(m):\n",
        "        D2 = D2 + (err3[i:i+1,:].T).dot(np.append(np.ones((1,1)),a2[i:i+1,:],axis=1))\n",
        "        D1 = D1 + (err2[i:i+1,:].T).dot(np.append(np.ones((1,1)),X[i:i+1,:],axis=1))\n",
        "    tGrad1 = D1/m\n",
        "    #tGrad1[:,1:tGrad1.shape[1]] = tGrad1[:,1:tGrad1.shape[1]] + lam/m*t1[:,1:t1.shape[1]]\n",
        "    tGrad2 = D2/m\n",
        "    #tGrad2[:,1:tGrad2.shape[1]] = tGrad2[:,1:tGrad2.shape[1]] + lam/m*t2[:,1:t2.shape[1]]\n",
        "\n",
        "    #print(tGrad1, tGrad2)\n",
        "    grad = np.concatenate([tGrad1.flat, tGrad2.flat])\n",
        "    \n",
        "    #print(grad.shape)\n",
        "    return [J,grad,h]"
      ],
      "execution_count": 0,
      "outputs": []
    },
    {
      "cell_type": "code",
      "metadata": {
        "id": "YYLQLN7MZO6B",
        "colab_type": "code",
        "colab": {}
      },
      "source": [
        "# gradient descent algorithm for 1 hidden layer NN\n",
        "def gradient_descent_NN1(X,y,theta,lam,max_itr,alpha,hlSize): # without regularisation !\n",
        "    m=X.shape[0]\n",
        "    J_hist=np.zeros((max_itr,1))\n",
        "    \n",
        "    numLabel = y.shape[1]\n",
        "    for i in range(max_itr):\n",
        "        [J,grad,h]=cost_function_NN1(theta, hlSize, numLabel, X, y, lam)\n",
        "        if i%1000==0:\n",
        "          print(i)\n",
        "        #if i==12000:\n",
        "        #  alpha = alpha /1.5\n",
        "        theta = theta - (alpha)*(grad) \n",
        "        J_hist[i]=J\n",
        "    return [theta,J_hist]"
      ],
      "execution_count": 0,
      "outputs": []
    },
    {
      "cell_type": "code",
      "metadata": {
        "id": "uT5j5XNIZaww",
        "colab_type": "code",
        "colab": {}
      },
      "source": [
        "# check if gradien found from back propogation is correct\n",
        "def gradient_check_NN1(theta,hlSize,numLabel,X,y):\n",
        "    #m= X.shape[0]\n",
        "    #ipSize = X.shape[1]\n",
        "    appGrad = np.zeros(theta.shape)\n",
        "\n",
        "    #t1 = theta[0:hlSize*(ipSize +1)].reshape(hlSize,ipSize+1)\n",
        "    #t2 = theta[hlSize*(ipSize +1) : (hlSize*(ipSize +1)) + (numLabel*(hlSize +1))+1].reshape(numLabel,hlSize+1)\n",
        "\n",
        "    #tGrad1 = np.zeros(t1.shape)\n",
        "    #tGrad2 = np.zeros(t2.shape)\n",
        "    epsilon =.0001\n",
        "    \n",
        "    for i in range(theta.shape[0]):\n",
        "        posTheta = theta\n",
        "        posTheta[i:i+1] = posTheta[i:i+1] + epsilon\n",
        "        posJ,gr,h = cost_function_NN1(posTheta, hlSize, numLabel, X, y)\n",
        "        negTheta = theta\n",
        "        negTheta[i:i+1] = negTheta[i:i+1] - epsilon\n",
        "        negJ,gr,h = cost_function_NN1(negTheta, hlSize, numLabel, X, y)\n",
        "        appGrad[i:i+1]=((posJ-negJ)/(2*epsilon))\n",
        "        \n",
        "    print(posJ,negJ)\n",
        "    return appGrad"
      ],
      "execution_count": 0,
      "outputs": []
    },
    {
      "cell_type": "code",
      "metadata": {
        "id": "7kxs7piNZkMl",
        "colab_type": "code",
        "colab": {}
      },
      "source": [
        "def prediction(h,y):\n",
        "    count =0\n",
        "    h_out = np.zeros(h.shape)\n",
        "    \n",
        "    for i in range(h.shape[0]):\n",
        "        if h.shape[1] == 1:\n",
        "            if h[i] >= 0.5:\n",
        "                h_out[i] = 1\n",
        "        else:\n",
        "            h_out[i, np.argmax(h[i,:])] =1\n",
        "    \n",
        "    \n",
        "    for i in range(h.shape[0]):\n",
        "        for j in range(h.shape[1]):\n",
        "            if h_out[i,j]!=y[i,j]:\n",
        "                count = count+1\n",
        "                break\n",
        "    acc = (h.shape[0] - count)/h.shape[0] *100\n",
        "    return [h_out, acc]\n"
      ],
      "execution_count": 0,
      "outputs": []
    },
    {
      "cell_type": "code",
      "metadata": {
        "id": "B8P5swgwZ23t",
        "colab_type": "code",
        "colab": {}
      },
      "source": [
        "ipSize = x_train.shape[1]\n",
        "hlSize = 17 \n",
        "numLabel = y_train.shape[1]\n",
        "E0= 0.1\n",
        "itheta1 = np.random.randint(1,10,(hlSize,ipSize+1))\n",
        "itheta1 = itheta1*2*E0 - E0\n",
        "itheta2 = np.random.randint(1,10,(numLabel,hlSize+1))\n",
        "itheta2 = itheta2*2*E0 - E0\n",
        "initial_theta = np.concatenate([itheta1.flat, itheta2.flat])"
      ],
      "execution_count": 0,
      "outputs": []
    },
    {
      "cell_type": "code",
      "metadata": {
        "id": "5lHKmVDiafDL",
        "colab_type": "code",
        "colab": {}
      },
      "source": [
        "lam =0\n",
        "alpha =1.07\n",
        "max_itr = 30000\n"
      ],
      "execution_count": 0,
      "outputs": []
    },
    {
      "cell_type": "code",
      "metadata": {
        "id": "-4v_-dThahdA",
        "colab_type": "code",
        "colab": {}
      },
      "source": [
        "\n",
        "J,grad,h = cost_function_NN1(initial_theta, hlSize, numLabel, x_train, y_train)\n",
        "\n",
        "appGrad = gradient_check_NN1(initial_theta, hlSize, numLabel, x_train, y_train)\n",
        "for i in range(grad.shape[0]):\n",
        "    print(\"{}   {}      {}\".format(grad[i],appGrad[i],i))"
      ],
      "execution_count": 0,
      "outputs": []
    },
    {
      "cell_type": "code",
      "metadata": {
        "id": "KCRM8HdfoGh7",
        "colab_type": "code",
        "colab": {}
      },
      "source": [
        "print(h)"
      ],
      "execution_count": 0,
      "outputs": []
    },
    {
      "cell_type": "code",
      "metadata": {
        "id": "GXu3rlgNfVPZ",
        "colab_type": "code",
        "outputId": "01a0c0f0-7b63-4212-e661-6aa866fe3eee",
        "colab": {
          "base_uri": "https://localhost:8080/",
          "height": 1000
        }
      },
      "source": [
        "theta,J_hist = gradient_descent_NN1(x_train, y_train, initial_theta, lam, max_itr, alpha, hlSize)\n",
        "i=np.arange(1,30001,1) \n",
        "plt.plot(i,J_hist)\n",
        "plt.show()  \n",
        "print(J_hist[29998,0])\n",
        "#learning_curve(hlSize,numLabel,x_train, x_val, y_train, y_val, theta, lam)\n",
        "\n",
        "[J,grad,h_train]=cost_function_NN1(theta, hlSize, numLabel, x_train, y_train)\n",
        "h_train,acc=prediction(h_train,y_train)\n",
        "print(\"\\naccuracy (train):  \",acc)\n",
        "\n",
        "[J,grad,h_test]=cost_function_NN1(theta, hlSize, numLabel, x_test, y_test)\n",
        "h_test,acc=prediction(h_test,y_test)\n",
        "print(\"\\naccuracy:  \",acc)    \n",
        "for i in range(y_test.shape[0]):\n",
        "    print( \"{}      {} \" .format(h_test[i] , y_test[i]))"
      ],
      "execution_count": 28,
      "outputs": [
        {
          "output_type": "stream",
          "text": [
            "0\n",
            "1000\n",
            "2000\n",
            "3000\n",
            "4000\n",
            "5000\n",
            "6000\n",
            "7000\n",
            "8000\n",
            "9000\n",
            "10000\n",
            "11000\n",
            "12000\n",
            "13000\n",
            "14000\n",
            "15000\n",
            "16000\n",
            "17000\n",
            "18000\n",
            "19000\n",
            "20000\n",
            "21000\n",
            "22000\n",
            "23000\n",
            "24000\n",
            "25000\n",
            "26000\n",
            "27000\n",
            "28000\n",
            "29000\n"
          ],
          "name": "stdout"
        },
        {
          "output_type": "display_data",
          "data": {
            "image/png": "[encoded data removed]",
            "text/plain": [
              "<Figure size 1440x864 with 1 Axes>"
            ]
          },
          "metadata": {
            "tags": [],
            "needs_background": "light"
          }
        },
        {
          "output_type": "stream",
          "text": [
            "1.2232084481136467\n",
            "\n",
            "accuracy (train):   69.16666666666667\n",
            "\n",
            "accuracy:   60.0\n",
            "[0. 1. 0. 0.]      [0. 1. 0. 0.] \n",
            "[0. 0. 1. 0.]      [0. 0. 0. 1.] \n",
            "[0. 0. 1. 0.]      [0. 0. 1. 0.] \n",
            "[0. 1. 0. 0.]      [0. 1. 0. 0.] \n",
            "[0. 0. 1. 0.]      [0. 0. 0. 1.] \n",
            "[0. 0. 1. 0.]      [0. 0. 1. 0.] \n",
            "[0. 0. 1. 0.]      [0. 0. 0. 1.] \n",
            "[0. 0. 0. 1.]      [0. 0. 0. 1.] \n",
            "[0. 0. 1. 0.]      [0. 0. 1. 0.] \n",
            "[0. 1. 0. 0.]      [0. 1. 0. 0.] \n",
            "[0. 0. 0. 1.]      [0. 0. 1. 0.] \n",
            "[0. 0. 0. 1.]      [1. 0. 0. 0.] \n",
            "[1. 0. 0. 0.]      [1. 0. 0. 0.] \n",
            "[0. 0. 1. 0.]      [1. 0. 0. 0.] \n",
            "[0. 0. 1. 0.]      [0. 0. 0. 1.] \n",
            "[0. 0. 1. 0.]      [0. 0. 1. 0.] \n",
            "[0. 1. 0. 0.]      [0. 1. 0. 0.] \n",
            "[0. 0. 1. 0.]      [0. 0. 1. 0.] \n",
            "[1. 0. 0. 0.]      [1. 0. 0. 0.] \n",
            "[0. 0. 0. 1.]      [0. 0. 1. 0.] \n",
            "[0. 0. 0. 1.]      [1. 0. 0. 0.] \n",
            "[0. 0. 0. 1.]      [0. 0. 0. 1.] \n",
            "[0. 0. 0. 1.]      [0. 0. 0. 1.] \n",
            "[0. 1. 0. 0.]      [0. 1. 0. 0.] \n",
            "[0. 0. 1. 0.]      [1. 0. 0. 0.] \n",
            "[0. 1. 0. 0.]      [0. 1. 0. 0.] \n",
            "[0. 1. 0. 0.]      [0. 1. 0. 0.] \n",
            "[0. 0. 1. 0.]      [0. 0. 1. 0.] \n",
            "[0. 0. 0. 1.]      [1. 0. 0. 0.] \n",
            "[1. 0. 0. 0.]      [1. 0. 0. 0.] \n",
            "[0. 1. 0. 0.]      [1. 0. 0. 0.] \n",
            "[0. 0. 0. 1.]      [0. 0. 0. 1.] \n",
            "[0. 1. 0. 0.]      [0. 1. 0. 0.] \n",
            "[0. 0. 1. 0.]      [1. 0. 0. 0.] \n",
            "[0. 1. 0. 0.]      [0. 1. 0. 0.] \n",
            "[0. 0. 1. 0.]      [0. 0. 1. 0.] \n",
            "[0. 0. 0. 1.]      [1. 0. 0. 0.] \n",
            "[0. 0. 0. 1.]      [0. 0. 0. 1.] \n",
            "[0. 0. 0. 1.]      [1. 0. 0. 0.] \n",
            "[0. 0. 0. 1.]      [0. 0. 0. 1.] \n",
            "[0. 0. 1. 0.]      [0. 0. 1. 0.] \n",
            "[0. 0. 1. 0.]      [1. 0. 0. 0.] \n",
            "[0. 0. 0. 1.]      [1. 0. 0. 0.] \n",
            "[0. 0. 0. 1.]      [0. 0. 1. 0.] \n",
            "[0. 1. 0. 0.]      [0. 0. 1. 0.] \n",
            "[0. 0. 0. 1.]      [0. 0. 1. 0.] \n",
            "[0. 0. 0. 1.]      [0. 0. 1. 0.] \n",
            "[0. 1. 0. 0.]      [0. 1. 0. 0.] \n",
            "[1. 0. 0. 0.]      [0. 1. 0. 0.] \n",
            "[0. 0. 1. 0.]      [1. 0. 0. 0.] \n",
            "[0. 0. 0. 1.]      [1. 0. 0. 0.] \n",
            "[1. 0. 0. 0.]      [1. 0. 0. 0.] \n",
            "[0. 1. 0. 0.]      [0. 1. 0. 0.] \n",
            "[0. 0. 1. 0.]      [0. 0. 1. 0.] \n",
            "[1. 0. 0. 0.]      [0. 0. 1. 0.] \n",
            "[0. 1. 0. 0.]      [0. 1. 0. 0.] \n",
            "[0. 0. 0. 1.]      [0. 0. 0. 1.] \n",
            "[0. 0. 0. 1.]      [1. 0. 0. 0.] \n",
            "[0. 0. 0. 1.]      [0. 0. 0. 1.] \n",
            "[0. 0. 1. 0.]      [1. 0. 0. 0.] \n",
            "[0. 0. 1. 0.]      [1. 0. 0. 0.] \n",
            "[0. 1. 0. 0.]      [0. 1. 0. 0.] \n",
            "[0. 0. 1. 0.]      [0. 0. 1. 0.] \n",
            "[0. 0. 1. 0.]      [0. 1. 0. 0.] \n",
            "[0. 0. 0. 1.]      [0. 0. 0. 1.] \n",
            "[0. 0. 0. 1.]      [1. 0. 0. 0.] \n",
            "[0. 0. 1. 0.]      [0. 0. 1. 0.] \n",
            "[0. 0. 0. 1.]      [0. 0. 1. 0.] \n",
            "[0. 1. 0. 0.]      [0. 1. 0. 0.] \n",
            "[0. 1. 0. 0.]      [0. 1. 0. 0.] \n",
            "[0. 1. 0. 0.]      [0. 1. 0. 0.] \n",
            "[0. 0. 1. 0.]      [0. 0. 1. 0.] \n",
            "[0. 1. 0. 0.]      [0. 1. 0. 0.] \n",
            "[0. 0. 0. 1.]      [0. 0. 0. 1.] \n",
            "[0. 1. 0. 0.]      [0. 1. 0. 0.] \n",
            "[0. 0. 1. 0.]      [0. 0. 1. 0.] \n",
            "[0. 0. 1. 0.]      [0. 0. 1. 0.] \n",
            "[0. 0. 0. 1.]      [1. 0. 0. 0.] \n",
            "[0. 0. 1. 0.]      [0. 0. 1. 0.] \n",
            "[0. 1. 0. 0.]      [0. 1. 0. 0.] \n"
          ],
          "name": "stdout"
        }
      ]
    },
    {
      "cell_type": "code",
      "metadata": {
        "id": "LzDyVQrdu6-D",
        "colab_type": "code",
        "outputId": "828ae98a-4f07-4091-d4b6-d7a526013385",
        "colab": {
          "base_uri": "https://localhost:8080/",
          "height": 35
        }
      },
      "source": [
        "print(J_hist[29998,0])"
      ],
      "execution_count": 24,
      "outputs": [
        {
          "output_type": "stream",
          "text": [
            "1.1985099475536154\n"
          ],
          "name": "stdout"
        }
      ]
    },
    {
      "cell_type": "code",
      "metadata": {
        "id": "Tn93TpE2UhGh",
        "colab_type": "code",
        "colab": {}
      },
      "source": [
        "for i in range(theta.shape[0]):\n",
        "  print(initial_theta[i],\"  \",theta[i])\n"
      ],
      "execution_count": 0,
      "outputs": []
    },
    {
      "cell_type": "code",
      "metadata": {
        "id": "MS6Ys12vxK2j",
        "colab_type": "code",
        "colab": {}
      },
      "source": [
        "testAcc_hist = np.zeros((10,1))\n",
        "trainAcc_hist = np.zeros((10,1))"
      ],
      "execution_count": 0,
      "outputs": []
    },
    {
      "cell_type": "code",
      "metadata": {
        "id": "VKJF8vmTv0iB",
        "colab_type": "code",
        "colab": {}
      },
      "source": [
        "to check best possible hidden layer size\n",
        "\n",
        "for i in range(10):\n",
        "  hlSize = (i+1)*4\n",
        "  E0= 0.01\n",
        "  itheta1 = np.random.randint(1,10,(hlSize,ipSize+1))\n",
        "  itheta1 = itheta1*2*E0 - E0\n",
        "  itheta2 = np.random.randint(1,10,(numLabel,hlSize+1))\n",
        "  itheta2 = itheta2*2*E0 - E0\n",
        "  initial_theta = np.concatenate([itheta1.flat, itheta2.flat])\n",
        "\n",
        "  theta,J_hist = gradient_descent_NN1(x_train, y_train, initial_theta, lam, max_itr, alpha, hlSize)\n",
        "  j=np.arange(1,1001,1) \n",
        "  plt.plot(j,J_hist)\n",
        "  plt.show()  \n",
        "\n",
        "  #learning_curve(hlSize,numLabel,x_train, x_val, y_train, y_val, theta, lam)\n",
        "\n",
        "  [J,grad,h_train]=cost_function_NN1(theta, hlSize, numLabel, x_train, y_train)\n",
        "  h_train,acc=prediction(h_train,y_train)\n",
        "  print(\"\\naccuracy (train):  \",acc)\n",
        "  trainAcc_hist[i] = acc\n",
        "  [J,grad,h_test]=cost_function_NN1(theta, hlSize, numLabel, x_test, y_test)\n",
        "  h_test,acc=prediction(h_test,y_test)\n",
        "  print(\"\\naccuracy:  \",acc)    \n",
        "  testAcc_hist[i] = acc\n",
        "  #for i in range(y_test.shape[0]):\n",
        "      #print( \"{}      {} \" .format(h_test[i] , y_test[i]))"
      ],
      "execution_count": 0,
      "outputs": []
    },
    {
      "cell_type": "code",
      "metadata": {
        "id": "-gwTJCakwUo-",
        "colab_type": "code",
        "colab": {}
      },
      "source": [
        "i=np.arange(1,11,1)\n",
        "plt.plot(i,trainAcc_hist)\n",
        "plt.show()\n",
        "\n",
        "plt.plot(i,testAcc_hist)\n",
        "plt.show()"
      ],
      "execution_count": 0,
      "outputs": []
    }
  ]
}