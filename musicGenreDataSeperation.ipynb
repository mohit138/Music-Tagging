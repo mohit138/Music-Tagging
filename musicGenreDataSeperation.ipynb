{
  "nbformat": 4,
  "nbformat_minor": 0,
  "metadata": {
    "colab": {
      "name": "musicGenreDataSeperation.ipynb",
      "provenance": []
    },
    "kernelspec": {
      "name": "python3",
      "display_name": "Python 3"
    }
  },
  "cells": [
    {
      "cell_type": "code",
      "metadata": {
        "id": "XHHy2MGpYhDE",
        "colab_type": "code",
        "colab": {}
      },
      "source": [
        "import pandas as pd\n",
        "import numpy as np\n",
        "from numpy import savetxt\n",
        "from sklearn.model_selection import train_test_split\n",
        "import matplotlib.pyplot as plt\n",
        "from sklearn.preprocessing import normalize"
      ],
      "execution_count": 0,
      "outputs": []
    },
    {
      "cell_type": "code",
      "metadata": {
        "id": "66wU9KpUg4kS",
        "colab_type": "code",
        "colab": {}
      },
      "source": [
        "genre_df = pd.read_csv('data.csv')\n"
      ],
      "execution_count": 0,
      "outputs": []
    },
    {
      "cell_type": "code",
      "metadata": {
        "id": "pKRUZhCdhws5",
        "colab_type": "code",
        "colab": {}
      },
      "source": [
        "Label = [\"blues\",\"classical\",\"country\",\"disco\",\"hiphop\",\"jazz\",\"metal\",\"pop\",\"reggae\",\"rock\"]\n",
        "op_cases = len(Label)"
      ],
      "execution_count": 0,
      "outputs": []
    },
    {
      "cell_type": "code",
      "metadata": {
        "id": "nUP7VFg_zygF",
        "colab_type": "code",
        "colab": {}
      },
      "source": [
        "def label_indexing(x):\n",
        "  for i in range(10):\n",
        "    if(x==Label[i]):\n",
        "      return i"
      ],
      "execution_count": 0,
      "outputs": []
    },
    {
      "cell_type": "code",
      "metadata": {
        "id": "AGBmDs9S5y3Y",
        "colab_type": "code",
        "colab": {}
      },
      "source": [
        "genre_df['label'] = genre_df['label'].apply(label_indexing)"
      ],
      "execution_count": 0,
      "outputs": []
    },
    {
      "cell_type": "code",
      "metadata": {
        "id": "_b-f6Z-19ntU",
        "colab_type": "code",
        "colab": {}
      },
      "source": [
        "data = genre_df.to_numpy()\n",
        "X = data[:,1:29]\n",
        "X = normalize(X)\n",
        "y = np.zeros((X.shape[0],op_cases))\n",
        "\n",
        "for i in range(X.shape[0]):\n",
        "  y[i:i+1,:] = np.identity(op_cases)[data[i,29],:]\n",
        "\n",
        "one=np.ones((X.shape[0],1))\n",
        "X= np.append(one,X,axis=1)"
      ],
      "execution_count": 0,
      "outputs": []
    },
    {
      "cell_type": "code",
      "metadata": {
        "id": "kFO0yz9OtkP8",
        "colab_type": "code",
        "colab": {
          "base_uri": "https://localhost:8080/",
          "height": 256
        },
        "outputId": "0791385e-2b11-4ec3-8531-d6ce9a4b3e87"
      },
      "source": [
        "print(X)"
      ],
      "execution_count": 38,
      "outputs": [
        {
          "output_type": "stream",
          "text": [
            "[[1.0 103.359375 50 ... 0.9659217436842504 -7.570824746827892\n",
            "  2.9189869428522006]\n",
            " [1.0 95.703125 44 ... -2.436489803480714 3.3169126118124628\n",
            "  -0.6084848944184776]\n",
            " [1.0 151.9990808823529 75 ... -11.719263564296815 -11.025216212247594\n",
            "  -13.387260054984512]\n",
            " ...\n",
            " [1.0 103.359375 45 ... -0.8421915660329438 -4.665995665598857\n",
            "  -4.787676848920879]\n",
            " [1.0 112.34714673913044 45 ... -1.9038030785390896 -2.1967526217973044\n",
            "  -3.3951481688949894]\n",
            " [1.0 75.99954044117645 36 ... -0.39709723577477596 -4.349921223709898\n",
            "  -4.2209984809933285]]\n"
          ],
          "name": "stdout"
        }
      ]
    },
    {
      "cell_type": "code",
      "metadata": {
        "id": "htu3GXYw8gO_",
        "colab_type": "code",
        "colab": {}
      },
      "source": [
        "# make train, val and test sets\n",
        "# seperate out test set\n",
        "x_1,x_test,y_1,y_test=train_test_split(X,y,test_size=0.2)\n",
        "#split remining into train and val set\n",
        "x_train,x_val,y_train,y_val=train_test_split(x_1,y_1,test_size=0.25)"
      ],
      "execution_count": 0,
      "outputs": []
    },
    {
      "cell_type": "code",
      "metadata": {
        "id": "V3Kd4Nz-I-ro",
        "colab_type": "code",
        "colab": {}
      },
      "source": [
        "Train = np.append(x_train,y_train,axis=1) \n",
        "Val = np.append(x_val,y_val,axis=1)\n",
        "Test = np.append(x_test,y_test,axis=1)\n",
        "Header = 'x0,tempo, beats, chroma_stft, rmse,spectral_centroid, spectral_bandwidth, rolloff,zero_crossing_rate, mfcc1, mfcc2, mfcc3, mfcc4, mfcc5, mfcc6, mfcc7, mfcc8, mfcc9, mfcc10, mfcc11, mfcc12, mfcc13, mfcc14, mfcc15, mfcc16, mfcc17, mfcc18, mfcc19, mfcc20, y0, y1,y2,y3,y4,y5,y6,y7,y8,y9' "
      ],
      "execution_count": 0,
      "outputs": []
    },
    {
      "cell_type": "code",
      "metadata": {
        "id": "U_JwBd_iGd9o",
        "colab_type": "code",
        "colab": {}
      },
      "source": [
        "\n",
        "savetxt('TrainData.csv',Train,delimiter=',',header=Header)\n",
        "savetxt('ValData.csv',Val,delimiter=',',header=Header)\n",
        "savetxt('TestData.csv',Test,delimiter=',',header=Header)"
      ],
      "execution_count": 0,
      "outputs": []
    },
    {
      "cell_type": "markdown",
      "metadata": {
        "id": "6eNGlyaNGdqD",
        "colab_type": "text"
      },
      "source": [
        ""
      ]
    }
  ]
}